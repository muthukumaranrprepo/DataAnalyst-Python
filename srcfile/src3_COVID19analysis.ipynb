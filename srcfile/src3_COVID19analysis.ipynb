{
 "cells": [
  {
   "cell_type": "code",
   "execution_count": null,
   "id": "a7d0a358",
   "metadata": {},
   "outputs": [],
   "source": [
    "#Project 3 :: Covid-19 Analysis and Visualization using Plotly Express"
   ]
  }
 ],
 "metadata": {
  "kernelspec": {
   "display_name": "Python 3",
   "language": "python",
   "name": "python3"
  },
  "language_info": {
   "name": "python",
   "version": "3.11.0"
  }
 },
 "nbformat": 4,
 "nbformat_minor": 5
}
