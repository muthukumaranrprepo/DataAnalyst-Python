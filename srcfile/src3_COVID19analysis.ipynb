{
 "cells": [
  {
   "cell_type": "code",
   "execution_count": 2,
   "id": "a7d0a358",
   "metadata": {},
   "outputs": [
    {
     "data": {
      "text/html": [
       "<div>\n",
       "<style scoped>\n",
       "    .dataframe tbody tr th:only-of-type {\n",
       "        vertical-align: middle;\n",
       "    }\n",
       "\n",
       "    .dataframe tbody tr th {\n",
       "        vertical-align: top;\n",
       "    }\n",
       "\n",
       "    .dataframe thead th {\n",
       "        text-align: right;\n",
       "    }\n",
       "</style>\n",
       "<table border=\"1\" class=\"dataframe\">\n",
       "  <thead>\n",
       "    <tr style=\"text-align: right;\">\n",
       "      <th></th>\n",
       "      <th>Country/Region</th>\n",
       "      <th>Continent</th>\n",
       "      <th>Population</th>\n",
       "      <th>TotalCases</th>\n",
       "      <th>NewCases</th>\n",
       "      <th>TotalDeaths</th>\n",
       "      <th>NewDeaths</th>\n",
       "      <th>TotalRecovered</th>\n",
       "      <th>NewRecovered</th>\n",
       "      <th>ActiveCases</th>\n",
       "      <th>Serious,Critical</th>\n",
       "      <th>Tot Cases/1M pop</th>\n",
       "      <th>Deaths/1M pop</th>\n",
       "      <th>TotalTests</th>\n",
       "      <th>Tests/1M pop</th>\n",
       "      <th>WHO Region</th>\n",
       "      <th>iso_alpha</th>\n",
       "    </tr>\n",
       "  </thead>\n",
       "  <tbody>\n",
       "    <tr>\n",
       "      <th>0</th>\n",
       "      <td>USA</td>\n",
       "      <td>North America</td>\n",
       "      <td>3.311981e+08</td>\n",
       "      <td>5032179</td>\n",
       "      <td>NaN</td>\n",
       "      <td>162804.0</td>\n",
       "      <td>NaN</td>\n",
       "      <td>2576668.0</td>\n",
       "      <td>NaN</td>\n",
       "      <td>2292707.0</td>\n",
       "      <td>18296.0</td>\n",
       "      <td>15194.0</td>\n",
       "      <td>492.0</td>\n",
       "      <td>63139605.0</td>\n",
       "      <td>190640.0</td>\n",
       "      <td>Americas</td>\n",
       "      <td>USA</td>\n",
       "    </tr>\n",
       "    <tr>\n",
       "      <th>1</th>\n",
       "      <td>Brazil</td>\n",
       "      <td>South America</td>\n",
       "      <td>2.127107e+08</td>\n",
       "      <td>2917562</td>\n",
       "      <td>NaN</td>\n",
       "      <td>98644.0</td>\n",
       "      <td>NaN</td>\n",
       "      <td>2047660.0</td>\n",
       "      <td>NaN</td>\n",
       "      <td>771258.0</td>\n",
       "      <td>8318.0</td>\n",
       "      <td>13716.0</td>\n",
       "      <td>464.0</td>\n",
       "      <td>13206188.0</td>\n",
       "      <td>62085.0</td>\n",
       "      <td>Americas</td>\n",
       "      <td>BRA</td>\n",
       "    </tr>\n",
       "    <tr>\n",
       "      <th>2</th>\n",
       "      <td>India</td>\n",
       "      <td>Asia</td>\n",
       "      <td>1.381345e+09</td>\n",
       "      <td>2025409</td>\n",
       "      <td>NaN</td>\n",
       "      <td>41638.0</td>\n",
       "      <td>NaN</td>\n",
       "      <td>1377384.0</td>\n",
       "      <td>NaN</td>\n",
       "      <td>606387.0</td>\n",
       "      <td>8944.0</td>\n",
       "      <td>1466.0</td>\n",
       "      <td>30.0</td>\n",
       "      <td>22149351.0</td>\n",
       "      <td>16035.0</td>\n",
       "      <td>South-EastAsia</td>\n",
       "      <td>IND</td>\n",
       "    </tr>\n",
       "    <tr>\n",
       "      <th>3</th>\n",
       "      <td>Russia</td>\n",
       "      <td>Europe</td>\n",
       "      <td>1.459409e+08</td>\n",
       "      <td>871894</td>\n",
       "      <td>NaN</td>\n",
       "      <td>14606.0</td>\n",
       "      <td>NaN</td>\n",
       "      <td>676357.0</td>\n",
       "      <td>NaN</td>\n",
       "      <td>180931.0</td>\n",
       "      <td>2300.0</td>\n",
       "      <td>5974.0</td>\n",
       "      <td>100.0</td>\n",
       "      <td>29716907.0</td>\n",
       "      <td>203623.0</td>\n",
       "      <td>Europe</td>\n",
       "      <td>RUS</td>\n",
       "    </tr>\n",
       "    <tr>\n",
       "      <th>4</th>\n",
       "      <td>South Africa</td>\n",
       "      <td>Africa</td>\n",
       "      <td>5.938157e+07</td>\n",
       "      <td>538184</td>\n",
       "      <td>NaN</td>\n",
       "      <td>9604.0</td>\n",
       "      <td>NaN</td>\n",
       "      <td>387316.0</td>\n",
       "      <td>NaN</td>\n",
       "      <td>141264.0</td>\n",
       "      <td>539.0</td>\n",
       "      <td>9063.0</td>\n",
       "      <td>162.0</td>\n",
       "      <td>3149807.0</td>\n",
       "      <td>53044.0</td>\n",
       "      <td>Africa</td>\n",
       "      <td>ZAF</td>\n",
       "    </tr>\n",
       "    <tr>\n",
       "      <th>...</th>\n",
       "      <td>...</td>\n",
       "      <td>...</td>\n",
       "      <td>...</td>\n",
       "      <td>...</td>\n",
       "      <td>...</td>\n",
       "      <td>...</td>\n",
       "      <td>...</td>\n",
       "      <td>...</td>\n",
       "      <td>...</td>\n",
       "      <td>...</td>\n",
       "      <td>...</td>\n",
       "      <td>...</td>\n",
       "      <td>...</td>\n",
       "      <td>...</td>\n",
       "      <td>...</td>\n",
       "      <td>...</td>\n",
       "      <td>...</td>\n",
       "    </tr>\n",
       "    <tr>\n",
       "      <th>204</th>\n",
       "      <td>Montserrat</td>\n",
       "      <td>North America</td>\n",
       "      <td>4.992000e+03</td>\n",
       "      <td>13</td>\n",
       "      <td>NaN</td>\n",
       "      <td>1.0</td>\n",
       "      <td>NaN</td>\n",
       "      <td>10.0</td>\n",
       "      <td>NaN</td>\n",
       "      <td>2.0</td>\n",
       "      <td>NaN</td>\n",
       "      <td>2604.0</td>\n",
       "      <td>200.0</td>\n",
       "      <td>61.0</td>\n",
       "      <td>12220.0</td>\n",
       "      <td>NaN</td>\n",
       "      <td>MSR</td>\n",
       "    </tr>\n",
       "    <tr>\n",
       "      <th>205</th>\n",
       "      <td>Caribbean Netherlands</td>\n",
       "      <td>North America</td>\n",
       "      <td>2.624700e+04</td>\n",
       "      <td>13</td>\n",
       "      <td>NaN</td>\n",
       "      <td>NaN</td>\n",
       "      <td>NaN</td>\n",
       "      <td>7.0</td>\n",
       "      <td>NaN</td>\n",
       "      <td>6.0</td>\n",
       "      <td>NaN</td>\n",
       "      <td>495.0</td>\n",
       "      <td>NaN</td>\n",
       "      <td>424.0</td>\n",
       "      <td>16154.0</td>\n",
       "      <td>NaN</td>\n",
       "      <td></td>\n",
       "    </tr>\n",
       "    <tr>\n",
       "      <th>206</th>\n",
       "      <td>Falkland Islands</td>\n",
       "      <td>South America</td>\n",
       "      <td>3.489000e+03</td>\n",
       "      <td>13</td>\n",
       "      <td>NaN</td>\n",
       "      <td>NaN</td>\n",
       "      <td>NaN</td>\n",
       "      <td>13.0</td>\n",
       "      <td>NaN</td>\n",
       "      <td>0.0</td>\n",
       "      <td>NaN</td>\n",
       "      <td>3726.0</td>\n",
       "      <td>NaN</td>\n",
       "      <td>1816.0</td>\n",
       "      <td>520493.0</td>\n",
       "      <td>NaN</td>\n",
       "      <td>FLK</td>\n",
       "    </tr>\n",
       "    <tr>\n",
       "      <th>207</th>\n",
       "      <td>Vatican City</td>\n",
       "      <td>Europe</td>\n",
       "      <td>8.010000e+02</td>\n",
       "      <td>12</td>\n",
       "      <td>NaN</td>\n",
       "      <td>NaN</td>\n",
       "      <td>NaN</td>\n",
       "      <td>12.0</td>\n",
       "      <td>NaN</td>\n",
       "      <td>0.0</td>\n",
       "      <td>NaN</td>\n",
       "      <td>14981.0</td>\n",
       "      <td>NaN</td>\n",
       "      <td>NaN</td>\n",
       "      <td>NaN</td>\n",
       "      <td>Europe</td>\n",
       "      <td>VAT</td>\n",
       "    </tr>\n",
       "    <tr>\n",
       "      <th>208</th>\n",
       "      <td>Western Sahara</td>\n",
       "      <td>Africa</td>\n",
       "      <td>5.986820e+05</td>\n",
       "      <td>10</td>\n",
       "      <td>NaN</td>\n",
       "      <td>1.0</td>\n",
       "      <td>NaN</td>\n",
       "      <td>8.0</td>\n",
       "      <td>NaN</td>\n",
       "      <td>1.0</td>\n",
       "      <td>NaN</td>\n",
       "      <td>17.0</td>\n",
       "      <td>2.0</td>\n",
       "      <td>NaN</td>\n",
       "      <td>NaN</td>\n",
       "      <td>Africa</td>\n",
       "      <td>ESH</td>\n",
       "    </tr>\n",
       "  </tbody>\n",
       "</table>\n",
       "<p>209 rows × 17 columns</p>\n",
       "</div>"
      ],
      "text/plain": [
       "            Country/Region      Continent    Population  TotalCases  NewCases  \\\n",
       "0                      USA  North America  3.311981e+08     5032179       NaN   \n",
       "1                   Brazil  South America  2.127107e+08     2917562       NaN   \n",
       "2                    India           Asia  1.381345e+09     2025409       NaN   \n",
       "3                   Russia         Europe  1.459409e+08      871894       NaN   \n",
       "4             South Africa         Africa  5.938157e+07      538184       NaN   \n",
       "..                     ...            ...           ...         ...       ...   \n",
       "204             Montserrat  North America  4.992000e+03          13       NaN   \n",
       "205  Caribbean Netherlands  North America  2.624700e+04          13       NaN   \n",
       "206       Falkland Islands  South America  3.489000e+03          13       NaN   \n",
       "207           Vatican City         Europe  8.010000e+02          12       NaN   \n",
       "208         Western Sahara         Africa  5.986820e+05          10       NaN   \n",
       "\n",
       "     TotalDeaths  NewDeaths  TotalRecovered  NewRecovered  ActiveCases  \\\n",
       "0       162804.0        NaN       2576668.0           NaN    2292707.0   \n",
       "1        98644.0        NaN       2047660.0           NaN     771258.0   \n",
       "2        41638.0        NaN       1377384.0           NaN     606387.0   \n",
       "3        14606.0        NaN        676357.0           NaN     180931.0   \n",
       "4         9604.0        NaN        387316.0           NaN     141264.0   \n",
       "..           ...        ...             ...           ...          ...   \n",
       "204          1.0        NaN            10.0           NaN          2.0   \n",
       "205          NaN        NaN             7.0           NaN          6.0   \n",
       "206          NaN        NaN            13.0           NaN          0.0   \n",
       "207          NaN        NaN            12.0           NaN          0.0   \n",
       "208          1.0        NaN             8.0           NaN          1.0   \n",
       "\n",
       "     Serious,Critical  Tot Cases/1M pop  Deaths/1M pop  TotalTests  \\\n",
       "0             18296.0           15194.0          492.0  63139605.0   \n",
       "1              8318.0           13716.0          464.0  13206188.0   \n",
       "2              8944.0            1466.0           30.0  22149351.0   \n",
       "3              2300.0            5974.0          100.0  29716907.0   \n",
       "4               539.0            9063.0          162.0   3149807.0   \n",
       "..                ...               ...            ...         ...   \n",
       "204               NaN            2604.0          200.0        61.0   \n",
       "205               NaN             495.0            NaN       424.0   \n",
       "206               NaN            3726.0            NaN      1816.0   \n",
       "207               NaN           14981.0            NaN         NaN   \n",
       "208               NaN              17.0            2.0         NaN   \n",
       "\n",
       "     Tests/1M pop      WHO Region iso_alpha  \n",
       "0        190640.0        Americas       USA  \n",
       "1         62085.0        Americas       BRA  \n",
       "2         16035.0  South-EastAsia       IND  \n",
       "3        203623.0          Europe       RUS  \n",
       "4         53044.0          Africa       ZAF  \n",
       "..            ...             ...       ...  \n",
       "204       12220.0             NaN       MSR  \n",
       "205       16154.0             NaN            \n",
       "206      520493.0             NaN       FLK  \n",
       "207           NaN          Europe       VAT  \n",
       "208           NaN          Africa       ESH  \n",
       "\n",
       "[209 rows x 17 columns]"
      ]
     },
     "execution_count": 2,
     "metadata": {},
     "output_type": "execute_result"
    }
   ],
   "source": [
    "#Project 3 :: Covid-19 Analysis and Visualization using Plotly Express\n",
    "#import the three datasets from github\n",
    "\n",
    "import pandas as pd \n",
    "import matplotlib.pyplot as plt\n",
    "import seaborn as sns\n",
    "#import dataset - covid\n",
    "url1 = 'https://github.com/muthukumaranrprepo/DataAnalyst-Python/blob/main/DataFiles/covid.csv?raw=True'\n",
    "covid = pd.read_csv(url1)\n",
    "covid"
   ]
  },
  {
   "cell_type": "code",
   "execution_count": 3,
   "id": "5d421749",
   "metadata": {},
   "outputs": [
    {
     "name": "stdout",
     "output_type": "stream",
     "text": [
      "<class 'pandas.core.frame.DataFrame'>\n",
      "RangeIndex: 209 entries, 0 to 208\n",
      "Data columns (total 17 columns):\n",
      " #   Column            Non-Null Count  Dtype  \n",
      "---  ------            --------------  -----  \n",
      " 0   Country/Region    209 non-null    object \n",
      " 1   Continent         208 non-null    object \n",
      " 2   Population        208 non-null    float64\n",
      " 3   TotalCases        209 non-null    int64  \n",
      " 4   NewCases          4 non-null      float64\n",
      " 5   TotalDeaths       188 non-null    float64\n",
      " 6   NewDeaths         3 non-null      float64\n",
      " 7   TotalRecovered    205 non-null    float64\n",
      " 8   NewRecovered      3 non-null      float64\n",
      " 9   ActiveCases       205 non-null    float64\n",
      " 10  Serious,Critical  122 non-null    float64\n",
      " 11  Tot Cases/1M pop  208 non-null    float64\n",
      " 12  Deaths/1M pop     187 non-null    float64\n",
      " 13  TotalTests        191 non-null    float64\n",
      " 14  Tests/1M pop      191 non-null    float64\n",
      " 15  WHO Region        184 non-null    object \n",
      " 16  iso_alpha         209 non-null    object \n",
      "dtypes: float64(12), int64(1), object(4)\n",
      "memory usage: 27.9+ KB\n"
     ]
    }
   ],
   "source": [
    "covid.info()"
   ]
  },
  {
   "cell_type": "code",
   "execution_count": 4,
   "id": "a09f41f7",
   "metadata": {},
   "outputs": [
    {
     "data": {
      "text/html": [
       "<div>\n",
       "<style scoped>\n",
       "    .dataframe tbody tr th:only-of-type {\n",
       "        vertical-align: middle;\n",
       "    }\n",
       "\n",
       "    .dataframe tbody tr th {\n",
       "        vertical-align: top;\n",
       "    }\n",
       "\n",
       "    .dataframe thead th {\n",
       "        text-align: right;\n",
       "    }\n",
       "</style>\n",
       "<table border=\"1\" class=\"dataframe\">\n",
       "  <thead>\n",
       "    <tr style=\"text-align: right;\">\n",
       "      <th></th>\n",
       "      <th>Country</th>\n",
       "      <th>Continent</th>\n",
       "      <th>Population</th>\n",
       "      <th>TotalCases</th>\n",
       "      <th>TotalDeaths</th>\n",
       "      <th>TotalRecovered</th>\n",
       "      <th>ActiveCases</th>\n",
       "      <th>Serious,Critical</th>\n",
       "      <th>Tot Cases/1M pop</th>\n",
       "      <th>Deaths/1M pop</th>\n",
       "      <th>TotalTests</th>\n",
       "      <th>Tests/1M pop</th>\n",
       "      <th>WHO Region</th>\n",
       "      <th>iso_alpha</th>\n",
       "    </tr>\n",
       "  </thead>\n",
       "  <tbody>\n",
       "    <tr>\n",
       "      <th>0</th>\n",
       "      <td>USA</td>\n",
       "      <td>North America</td>\n",
       "      <td>3.311981e+08</td>\n",
       "      <td>5032179</td>\n",
       "      <td>162804.0</td>\n",
       "      <td>2576668.0</td>\n",
       "      <td>2292707.0</td>\n",
       "      <td>18296.0</td>\n",
       "      <td>15194.0</td>\n",
       "      <td>492.0</td>\n",
       "      <td>63139605.0</td>\n",
       "      <td>190640.0</td>\n",
       "      <td>Americas</td>\n",
       "      <td>USA</td>\n",
       "    </tr>\n",
       "    <tr>\n",
       "      <th>1</th>\n",
       "      <td>Brazil</td>\n",
       "      <td>South America</td>\n",
       "      <td>2.127107e+08</td>\n",
       "      <td>2917562</td>\n",
       "      <td>98644.0</td>\n",
       "      <td>2047660.0</td>\n",
       "      <td>771258.0</td>\n",
       "      <td>8318.0</td>\n",
       "      <td>13716.0</td>\n",
       "      <td>464.0</td>\n",
       "      <td>13206188.0</td>\n",
       "      <td>62085.0</td>\n",
       "      <td>Americas</td>\n",
       "      <td>BRA</td>\n",
       "    </tr>\n",
       "    <tr>\n",
       "      <th>2</th>\n",
       "      <td>India</td>\n",
       "      <td>Asia</td>\n",
       "      <td>1.381345e+09</td>\n",
       "      <td>2025409</td>\n",
       "      <td>41638.0</td>\n",
       "      <td>1377384.0</td>\n",
       "      <td>606387.0</td>\n",
       "      <td>8944.0</td>\n",
       "      <td>1466.0</td>\n",
       "      <td>30.0</td>\n",
       "      <td>22149351.0</td>\n",
       "      <td>16035.0</td>\n",
       "      <td>South-EastAsia</td>\n",
       "      <td>IND</td>\n",
       "    </tr>\n",
       "    <tr>\n",
       "      <th>3</th>\n",
       "      <td>Russia</td>\n",
       "      <td>Europe</td>\n",
       "      <td>1.459409e+08</td>\n",
       "      <td>871894</td>\n",
       "      <td>14606.0</td>\n",
       "      <td>676357.0</td>\n",
       "      <td>180931.0</td>\n",
       "      <td>2300.0</td>\n",
       "      <td>5974.0</td>\n",
       "      <td>100.0</td>\n",
       "      <td>29716907.0</td>\n",
       "      <td>203623.0</td>\n",
       "      <td>Europe</td>\n",
       "      <td>RUS</td>\n",
       "    </tr>\n",
       "    <tr>\n",
       "      <th>4</th>\n",
       "      <td>South Africa</td>\n",
       "      <td>Africa</td>\n",
       "      <td>5.938157e+07</td>\n",
       "      <td>538184</td>\n",
       "      <td>9604.0</td>\n",
       "      <td>387316.0</td>\n",
       "      <td>141264.0</td>\n",
       "      <td>539.0</td>\n",
       "      <td>9063.0</td>\n",
       "      <td>162.0</td>\n",
       "      <td>3149807.0</td>\n",
       "      <td>53044.0</td>\n",
       "      <td>Africa</td>\n",
       "      <td>ZAF</td>\n",
       "    </tr>\n",
       "    <tr>\n",
       "      <th>...</th>\n",
       "      <td>...</td>\n",
       "      <td>...</td>\n",
       "      <td>...</td>\n",
       "      <td>...</td>\n",
       "      <td>...</td>\n",
       "      <td>...</td>\n",
       "      <td>...</td>\n",
       "      <td>...</td>\n",
       "      <td>...</td>\n",
       "      <td>...</td>\n",
       "      <td>...</td>\n",
       "      <td>...</td>\n",
       "      <td>...</td>\n",
       "      <td>...</td>\n",
       "    </tr>\n",
       "    <tr>\n",
       "      <th>204</th>\n",
       "      <td>Montserrat</td>\n",
       "      <td>North America</td>\n",
       "      <td>4.992000e+03</td>\n",
       "      <td>13</td>\n",
       "      <td>1.0</td>\n",
       "      <td>10.0</td>\n",
       "      <td>2.0</td>\n",
       "      <td>NaN</td>\n",
       "      <td>2604.0</td>\n",
       "      <td>200.0</td>\n",
       "      <td>61.0</td>\n",
       "      <td>12220.0</td>\n",
       "      <td>NaN</td>\n",
       "      <td>MSR</td>\n",
       "    </tr>\n",
       "    <tr>\n",
       "      <th>205</th>\n",
       "      <td>Caribbean Netherlands</td>\n",
       "      <td>North America</td>\n",
       "      <td>2.624700e+04</td>\n",
       "      <td>13</td>\n",
       "      <td>NaN</td>\n",
       "      <td>7.0</td>\n",
       "      <td>6.0</td>\n",
       "      <td>NaN</td>\n",
       "      <td>495.0</td>\n",
       "      <td>NaN</td>\n",
       "      <td>424.0</td>\n",
       "      <td>16154.0</td>\n",
       "      <td>NaN</td>\n",
       "      <td></td>\n",
       "    </tr>\n",
       "    <tr>\n",
       "      <th>206</th>\n",
       "      <td>Falkland Islands</td>\n",
       "      <td>South America</td>\n",
       "      <td>3.489000e+03</td>\n",
       "      <td>13</td>\n",
       "      <td>NaN</td>\n",
       "      <td>13.0</td>\n",
       "      <td>0.0</td>\n",
       "      <td>NaN</td>\n",
       "      <td>3726.0</td>\n",
       "      <td>NaN</td>\n",
       "      <td>1816.0</td>\n",
       "      <td>520493.0</td>\n",
       "      <td>NaN</td>\n",
       "      <td>FLK</td>\n",
       "    </tr>\n",
       "    <tr>\n",
       "      <th>207</th>\n",
       "      <td>Vatican City</td>\n",
       "      <td>Europe</td>\n",
       "      <td>8.010000e+02</td>\n",
       "      <td>12</td>\n",
       "      <td>NaN</td>\n",
       "      <td>12.0</td>\n",
       "      <td>0.0</td>\n",
       "      <td>NaN</td>\n",
       "      <td>14981.0</td>\n",
       "      <td>NaN</td>\n",
       "      <td>NaN</td>\n",
       "      <td>NaN</td>\n",
       "      <td>Europe</td>\n",
       "      <td>VAT</td>\n",
       "    </tr>\n",
       "    <tr>\n",
       "      <th>208</th>\n",
       "      <td>Western Sahara</td>\n",
       "      <td>Africa</td>\n",
       "      <td>5.986820e+05</td>\n",
       "      <td>10</td>\n",
       "      <td>1.0</td>\n",
       "      <td>8.0</td>\n",
       "      <td>1.0</td>\n",
       "      <td>NaN</td>\n",
       "      <td>17.0</td>\n",
       "      <td>2.0</td>\n",
       "      <td>NaN</td>\n",
       "      <td>NaN</td>\n",
       "      <td>Africa</td>\n",
       "      <td>ESH</td>\n",
       "    </tr>\n",
       "  </tbody>\n",
       "</table>\n",
       "<p>209 rows × 14 columns</p>\n",
       "</div>"
      ],
      "text/plain": [
       "                   Country      Continent    Population  TotalCases  \\\n",
       "0                      USA  North America  3.311981e+08     5032179   \n",
       "1                   Brazil  South America  2.127107e+08     2917562   \n",
       "2                    India           Asia  1.381345e+09     2025409   \n",
       "3                   Russia         Europe  1.459409e+08      871894   \n",
       "4             South Africa         Africa  5.938157e+07      538184   \n",
       "..                     ...            ...           ...         ...   \n",
       "204             Montserrat  North America  4.992000e+03          13   \n",
       "205  Caribbean Netherlands  North America  2.624700e+04          13   \n",
       "206       Falkland Islands  South America  3.489000e+03          13   \n",
       "207           Vatican City         Europe  8.010000e+02          12   \n",
       "208         Western Sahara         Africa  5.986820e+05          10   \n",
       "\n",
       "     TotalDeaths  TotalRecovered  ActiveCases  Serious,Critical  \\\n",
       "0       162804.0       2576668.0    2292707.0           18296.0   \n",
       "1        98644.0       2047660.0     771258.0            8318.0   \n",
       "2        41638.0       1377384.0     606387.0            8944.0   \n",
       "3        14606.0        676357.0     180931.0            2300.0   \n",
       "4         9604.0        387316.0     141264.0             539.0   \n",
       "..           ...             ...          ...               ...   \n",
       "204          1.0            10.0          2.0               NaN   \n",
       "205          NaN             7.0          6.0               NaN   \n",
       "206          NaN            13.0          0.0               NaN   \n",
       "207          NaN            12.0          0.0               NaN   \n",
       "208          1.0             8.0          1.0               NaN   \n",
       "\n",
       "     Tot Cases/1M pop  Deaths/1M pop  TotalTests  Tests/1M pop  \\\n",
       "0             15194.0          492.0  63139605.0      190640.0   \n",
       "1             13716.0          464.0  13206188.0       62085.0   \n",
       "2              1466.0           30.0  22149351.0       16035.0   \n",
       "3              5974.0          100.0  29716907.0      203623.0   \n",
       "4              9063.0          162.0   3149807.0       53044.0   \n",
       "..                ...            ...         ...           ...   \n",
       "204            2604.0          200.0        61.0       12220.0   \n",
       "205             495.0            NaN       424.0       16154.0   \n",
       "206            3726.0            NaN      1816.0      520493.0   \n",
       "207           14981.0            NaN         NaN           NaN   \n",
       "208              17.0            2.0         NaN           NaN   \n",
       "\n",
       "         WHO Region iso_alpha  \n",
       "0          Americas       USA  \n",
       "1          Americas       BRA  \n",
       "2    South-EastAsia       IND  \n",
       "3            Europe       RUS  \n",
       "4            Africa       ZAF  \n",
       "..              ...       ...  \n",
       "204             NaN       MSR  \n",
       "205             NaN            \n",
       "206             NaN       FLK  \n",
       "207          Europe       VAT  \n",
       "208          Africa       ESH  \n",
       "\n",
       "[209 rows x 14 columns]"
      ]
     },
     "execution_count": 4,
     "metadata": {},
     "output_type": "execute_result"
    }
   ],
   "source": [
    "#cleaning the dataset\n",
    "covid = covid.drop(['NewCases','NewDeaths','NewRecovered'],axis='columns')\n",
    "covid = covid.rename(columns={'Country/Region':'Country'})\n",
    "covid"
   ]
  },
  {
   "cell_type": "code",
   "execution_count": 5,
   "id": "57323a2c",
   "metadata": {},
   "outputs": [],
   "source": [
    "#import datasets - covid_grouped, coviddeath\n",
    "\n",
    "url2 = 'https://github.com/muthukumaranrprepo/DataAnalyst-Python/blob/main/DataFiles/coviddeath.csv?raw=True'\n",
    "coviddeath = pd.read_csv(url2)\n",
    "\n",
    "url3 = 'https://github.com/muthukumaranrprepo/DataAnalyst-Python/blob/main/DataFiles/covid_grouped.csv?raw=True'\n",
    "covidgrouped = pd.read_csv(url3)\n",
    "\n",
    "\n"
   ]
  },
  {
   "cell_type": "code",
   "execution_count": 6,
   "id": "5aa88add",
   "metadata": {},
   "outputs": [
    {
     "name": "stdout",
     "output_type": "stream",
     "text": [
      "<class 'pandas.core.frame.DataFrame'>\n",
      "RangeIndex: 12260 entries, 0 to 12259\n",
      "Data columns (total 10 columns):\n",
      " #   Column                     Non-Null Count  Dtype  \n",
      "---  ------                     --------------  -----  \n",
      " 0   Data as of                 12260 non-null  object \n",
      " 1   Start Week                 12260 non-null  object \n",
      " 2   End Week                   12260 non-null  object \n",
      " 3   State                      12260 non-null  object \n",
      " 4   Condition Group            12260 non-null  object \n",
      " 5   Condition                  12260 non-null  object \n",
      " 6   ICD10_codes                12260 non-null  object \n",
      " 7   Age Group                  12260 non-null  object \n",
      " 8   Number of COVID-19 Deaths  5354 non-null   float64\n",
      " 9   Flag                       6906 non-null   object \n",
      "dtypes: float64(1), object(9)\n",
      "memory usage: 957.9+ KB\n"
     ]
    }
   ],
   "source": [
    "coviddeath.info()"
   ]
  },
  {
   "cell_type": "code",
   "execution_count": 7,
   "id": "b291107e",
   "metadata": {},
   "outputs": [
    {
     "data": {
      "text/html": [
       "<div>\n",
       "<style scoped>\n",
       "    .dataframe tbody tr th:only-of-type {\n",
       "        vertical-align: middle;\n",
       "    }\n",
       "\n",
       "    .dataframe tbody tr th {\n",
       "        vertical-align: top;\n",
       "    }\n",
       "\n",
       "    .dataframe thead th {\n",
       "        text-align: right;\n",
       "    }\n",
       "</style>\n",
       "<table border=\"1\" class=\"dataframe\">\n",
       "  <thead>\n",
       "    <tr style=\"text-align: right;\">\n",
       "      <th></th>\n",
       "      <th>Data as of</th>\n",
       "      <th>Start Week</th>\n",
       "      <th>End Week</th>\n",
       "      <th>State</th>\n",
       "      <th>Condition Group</th>\n",
       "      <th>Condition</th>\n",
       "      <th>ICD10_codes</th>\n",
       "      <th>Age Group</th>\n",
       "      <th>Number of COVID-19 Deaths</th>\n",
       "      <th>Flag</th>\n",
       "    </tr>\n",
       "  </thead>\n",
       "  <tbody>\n",
       "    <tr>\n",
       "      <th>0</th>\n",
       "      <td>08/30/2020</td>\n",
       "      <td>02/01/2020</td>\n",
       "      <td>08/29/2020</td>\n",
       "      <td>US</td>\n",
       "      <td>Respiratory diseases</td>\n",
       "      <td>Influenza and pneumonia</td>\n",
       "      <td>J09-J18</td>\n",
       "      <td>0-24</td>\n",
       "      <td>122.0</td>\n",
       "      <td>NaN</td>\n",
       "    </tr>\n",
       "    <tr>\n",
       "      <th>1</th>\n",
       "      <td>08/30/2020</td>\n",
       "      <td>02/01/2020</td>\n",
       "      <td>08/29/2020</td>\n",
       "      <td>US</td>\n",
       "      <td>Respiratory diseases</td>\n",
       "      <td>Influenza and pneumonia</td>\n",
       "      <td>J09-J18</td>\n",
       "      <td>25-34</td>\n",
       "      <td>596.0</td>\n",
       "      <td>NaN</td>\n",
       "    </tr>\n",
       "    <tr>\n",
       "      <th>2</th>\n",
       "      <td>08/30/2020</td>\n",
       "      <td>02/01/2020</td>\n",
       "      <td>08/29/2020</td>\n",
       "      <td>US</td>\n",
       "      <td>Respiratory diseases</td>\n",
       "      <td>Influenza and pneumonia</td>\n",
       "      <td>J09-J18</td>\n",
       "      <td>35-44</td>\n",
       "      <td>1521.0</td>\n",
       "      <td>NaN</td>\n",
       "    </tr>\n",
       "    <tr>\n",
       "      <th>3</th>\n",
       "      <td>08/30/2020</td>\n",
       "      <td>02/01/2020</td>\n",
       "      <td>08/29/2020</td>\n",
       "      <td>US</td>\n",
       "      <td>Respiratory diseases</td>\n",
       "      <td>Influenza and pneumonia</td>\n",
       "      <td>J09-J18</td>\n",
       "      <td>45-54</td>\n",
       "      <td>4186.0</td>\n",
       "      <td>NaN</td>\n",
       "    </tr>\n",
       "    <tr>\n",
       "      <th>4</th>\n",
       "      <td>08/30/2020</td>\n",
       "      <td>02/01/2020</td>\n",
       "      <td>08/29/2020</td>\n",
       "      <td>US</td>\n",
       "      <td>Respiratory diseases</td>\n",
       "      <td>Influenza and pneumonia</td>\n",
       "      <td>J09-J18</td>\n",
       "      <td>55-64</td>\n",
       "      <td>10014.0</td>\n",
       "      <td>NaN</td>\n",
       "    </tr>\n",
       "  </tbody>\n",
       "</table>\n",
       "</div>"
      ],
      "text/plain": [
       "   Data as of  Start Week    End Week State       Condition Group  \\\n",
       "0  08/30/2020  02/01/2020  08/29/2020    US  Respiratory diseases   \n",
       "1  08/30/2020  02/01/2020  08/29/2020    US  Respiratory diseases   \n",
       "2  08/30/2020  02/01/2020  08/29/2020    US  Respiratory diseases   \n",
       "3  08/30/2020  02/01/2020  08/29/2020    US  Respiratory diseases   \n",
       "4  08/30/2020  02/01/2020  08/29/2020    US  Respiratory diseases   \n",
       "\n",
       "                 Condition ICD10_codes Age Group  Number of COVID-19 Deaths  \\\n",
       "0  Influenza and pneumonia     J09-J18      0-24                      122.0   \n",
       "1  Influenza and pneumonia     J09-J18     25-34                      596.0   \n",
       "2  Influenza and pneumonia     J09-J18     35-44                     1521.0   \n",
       "3  Influenza and pneumonia     J09-J18     45-54                     4186.0   \n",
       "4  Influenza and pneumonia     J09-J18     55-64                    10014.0   \n",
       "\n",
       "  Flag  \n",
       "0  NaN  \n",
       "1  NaN  \n",
       "2  NaN  \n",
       "3  NaN  \n",
       "4  NaN  "
      ]
     },
     "execution_count": 7,
     "metadata": {},
     "output_type": "execute_result"
    }
   ],
   "source": [
    "coviddeath.head()"
   ]
  },
  {
   "cell_type": "code",
   "execution_count": 8,
   "id": "63a83858",
   "metadata": {},
   "outputs": [
    {
     "name": "stdout",
     "output_type": "stream",
     "text": [
      "<class 'pandas.core.frame.DataFrame'>\n",
      "RangeIndex: 12260 entries, 0 to 12259\n",
      "Data columns (total 10 columns):\n",
      " #   Column                     Non-Null Count  Dtype   \n",
      "---  ------                     --------------  -----   \n",
      " 0   Data as of                 12260 non-null  object  \n",
      " 1   Start Week                 12260 non-null  object  \n",
      " 2   End Week                   12260 non-null  object  \n",
      " 3   State                      12260 non-null  object  \n",
      " 4   Condition Group            12260 non-null  category\n",
      " 5   Condition                  12260 non-null  object  \n",
      " 6   ICD10_codes                12260 non-null  object  \n",
      " 7   Age Group                  12260 non-null  object  \n",
      " 8   Number of COVID-19 Deaths  5354 non-null   float64 \n",
      " 9   Flag                       6906 non-null   object  \n",
      "dtypes: category(1), float64(1), object(8)\n",
      "memory usage: 874.5+ KB\n"
     ]
    }
   ],
   "source": [
    "#cleanup the data and reduce the memmory usage using category data type\n",
    "coviddeath['Condition Group'].unique()\n",
    "coviddeath['Condition Group'] = coviddeath['Condition Group'].astype('category')\n",
    "coviddeath.info()"
   ]
  },
  {
   "cell_type": "code",
   "execution_count": 9,
   "id": "8fc20c3f",
   "metadata": {},
   "outputs": [
    {
     "name": "stdout",
     "output_type": "stream",
     "text": [
      "<class 'pandas.core.frame.DataFrame'>\n",
      "RangeIndex: 35156 entries, 0 to 35155\n",
      "Data columns (total 11 columns):\n",
      " #   Column          Non-Null Count  Dtype \n",
      "---  ------          --------------  ----- \n",
      " 0   Date            35156 non-null  object\n",
      " 1   Country/Region  35156 non-null  object\n",
      " 2   Confirmed       35156 non-null  int64 \n",
      " 3   Deaths          35156 non-null  int64 \n",
      " 4   Recovered       35156 non-null  int64 \n",
      " 5   Active          35156 non-null  int64 \n",
      " 6   New cases       35156 non-null  int64 \n",
      " 7   New deaths      35156 non-null  int64 \n",
      " 8   New recovered   35156 non-null  int64 \n",
      " 9   WHO Region      35156 non-null  object\n",
      " 10  iso_alpha       35156 non-null  object\n",
      "dtypes: int64(7), object(4)\n",
      "memory usage: 3.0+ MB\n"
     ]
    }
   ],
   "source": [
    "covidgrouped.info()"
   ]
  },
  {
   "cell_type": "code",
   "execution_count": 10,
   "id": "7f6b20a5",
   "metadata": {},
   "outputs": [
    {
     "data": {
      "text/plain": [
       "<Axes: xlabel='Continent', ylabel='TotalDeaths'>"
      ]
     },
     "execution_count": 10,
     "metadata": {},
     "output_type": "execute_result"
    },
    {
     "data": {
      "image/png": "[encoded data removed]",
      "text/plain": [
       "<Figure size 1500x500 with 2 Axes>"
      ]
     },
     "metadata": {},
     "output_type": "display_data"
    }
   ],
   "source": [
    "#barplot Continent  vs TotalCases / Total Deaths \n",
    "#fig, (ax1,ax2,ax3,ax4) = plt.subplots(1,2,3,4,tight_layout=True,figsize=(8,5))\n",
    "#plt.figure(figsize=(8,5))\n",
    "fig, (ax1,ax2) = plt.subplots(1,2,tight_layout=True,figsize=(15,5))\n",
    "covidgroupby = covid.groupby('Continent')\n",
    "sns.barplot(x='Continent',y='TotalCases',ax=ax1,data=covid,errorbar=None)\n",
    "sns.barplot(x='Continent',y='TotalDeaths',ax=ax2,data=covid,errorbar=None)\n",
    "#sns.barplot(x='Continent',y='TotalRecovered',ax=ax3,data=covid,errorbar=None)\n",
    "#sns.barplot(x='Continent',y='TotalTests',ax=ax4,data=covid,errorbar=None)"
   ]
  },
  {
   "cell_type": "code",
   "execution_count": 11,
   "id": "ad2b2de6",
   "metadata": {},
   "outputs": [
    {
     "data": {
      "text/plain": [
       "<Axes: xlabel='Continent', ylabel='TotalTests'>"
      ]
     },
     "execution_count": 11,
     "metadata": {},
     "output_type": "execute_result"
    },
    {
     "data": {
      "image/png": "[encoded data removed]",
      "text/plain": [
       "<Figure size 1500x500 with 2 Axes>"
      ]
     },
     "metadata": {},
     "output_type": "display_data"
    }
   ],
   "source": [
    "#barplot Continent  vs Total Recovered / Total Tests \n",
    "\n",
    "fig, (ax1,ax2) = plt.subplots(1,2,tight_layout=True,figsize=(15,5))\n",
    "covidgroupby = covid.groupby('Continent')\n",
    "sns.barplot(x='Continent',y='TotalRecovered',ax=ax1,data=covid,errorbar=None)\n",
    "sns.barplot(x='Continent',y='TotalTests',ax=ax2,data=covid,errorbar=None)"
   ]
  },
  {
   "cell_type": "code",
   "execution_count": 12,
   "id": "98d7be7d",
   "metadata": {},
   "outputs": [
    {
     "data": {
      "text/plain": [
       "<Axes: xlabel='Continent', ylabel='TotalCases'>"
      ]
     },
     "execution_count": 12,
     "metadata": {},
     "output_type": "execute_result"
    },
    {
     "data": {
      "image/png": "[encoded data removed]",
      "text/plain": [
       "<Figure size 1500x500 with 2 Axes>"
      ]
     },
     "metadata": {},
     "output_type": "display_data"
    }
   ],
   "source": [
    "#Analysis 2 :: scatter plot Total Cases vs Total Deaths\n",
    "fig,(ax1,ax2) = plt.subplots(1,2,tight_layout=True,figsize=(15,5))\n",
    "sns.scatterplot(x='Continent',y='TotalDeaths',data=covid,ax=ax1)\n",
    "sns.scatterplot(x='Continent',y='TotalCases',data=covid,ax=ax2)"
   ]
  },
  {
   "cell_type": "code",
   "execution_count": 13,
   "id": "c426196e",
   "metadata": {},
   "outputs": [
    {
     "data": {
      "text/plain": [
       "<Axes: xlabel='Continent', ylabel='TotalDeaths'>"
      ]
     },
     "execution_count": 13,
     "metadata": {},
     "output_type": "execute_result"
    },
    {
     "data": {
      "image/png": "[encoded data removed]",
      "text/plain": [
       "<Figure size 1500x500 with 2 Axes>"
      ]
     },
     "metadata": {},
     "output_type": "display_data"
    }
   ],
   "source": [
    "#Analysis 3 :: scatter plot Total Cases vs Total Deaths\n",
    "fig,(ax1,ax2) = plt.subplots(1,2,tight_layout=True,figsize=(15,5))\n",
    "sns.scatterplot(x='Continent',y='TotalTests',data=covid,ax=ax1)\n",
    "sns.scatterplot(x='Continent',y='TotalDeaths',data=covid,ax=ax2)"
   ]
  },
  {
   "cell_type": "code",
   "execution_count": 14,
   "id": "083d2c89",
   "metadata": {},
   "outputs": [
    {
     "data": {
      "text/plain": [
       "<Axes: xlabel='Continent', ylabel='TotalRecovered'>"
      ]
     },
     "execution_count": 14,
     "metadata": {},
     "output_type": "execute_result"
    },
    {
     "data": {
      "image/png": "[encoded data removed]",
      "text/plain": [
       "<Figure size 640x480 with 1 Axes>"
      ]
     },
     "metadata": {},
     "output_type": "display_data"
    }
   ],
   "source": [
    "#analysis 5 :: line plot Total Recovered\n",
    "sns.lineplot(x='Continent',y='TotalRecovered',data=covid)"
   ]
  },
  {
   "cell_type": "code",
   "execution_count": null,
   "id": "179104c0",
   "metadata": {},
   "outputs": [
    {
     "data": {
      "application/vnd.plotly.v1+json": {
       "config": {
        "plotlyServerURL": "https://plot.ly"
       },
       "data": [
        {
         "hovertemplate": "Country=USA<br>Continent=%{x}<br>TotalCases=%{y}<extra></extra>",
         "legendgroup": "USA",
         "marker": {
          "color": "#636efa",
          "pattern": {
           "shape": ""
          }
         },
         "name": "USA",
         "orientation": "v",
         "showlegend": true,
         "textposition": "auto",
         "type": "bar",
         "x": [
          "North America"
         ],
         "xaxis": "x",
         "y": {
          "bdata": "88hMAA==",
          "dtype": "i4"
         },
         "yaxis": "y"
        },
        {
         "hovertemplate": "Country=Brazil<br>Continent=%{x}<br>TotalCases=%{y}<extra></extra>",
         "legendgroup": "Brazil",
         "marker": {
          "color": "#EF553B",
          "pattern": {
           "shape": ""
          }
         },
         "name": "Brazil",
         "orientation": "v",
         "showlegend": true,
         "textposition": "auto",
         "type": "bar",
         "x": [
          "South America"
         ],
         "xaxis": "x",
         "y": {
          "bdata": "uoQsAA==",
          "dtype": "i4"
         },
         "yaxis": "y"
        },
        {
         "hovertemplate": "Country=India<br>Continent=%{x}<br>TotalCases=%{y}<extra></extra>",
         "legendgroup": "India",
         "marker": {
          "color": "#00cc96",
          "pattern": {
           "shape": ""
          }
         },
         "name": "India",
         "orientation": "v",
         "showlegend": true,
         "textposition": "auto",
         "type": "bar",
         "x": [
          "Asia"
         ],
         "xaxis": "x",
         "y": {
          "bdata": "weceAA==",
          "dtype": "i4"
         },
         "yaxis": "y"
        },
        {
         "hovertemplate": "Country=Russia<br>Continent=%{x}<br>TotalCases=%{y}<extra></extra>",
         "legendgroup": "Russia",
         "marker": {
          "color": "#ab63fa",
          "pattern": {
           "shape": ""
          }
         },
         "name": "Russia",
         "orientation": "v",
         "showlegend": true,
         "textposition": "auto",
         "type": "bar",
         "x": [
          "Europe"
         ],
         "xaxis": "x",
         "y": {
          "bdata": "1k0NAA==",
          "dtype": "i4"
         },
         "yaxis": "y"
        },
        {
         "hovertemplate": "Country=South Africa<br>Continent=%{x}<br>TotalCases=%{y}<extra></extra>",
         "legendgroup": "South Africa",
         "marker": {
          "color": "#FFA15A",
          "pattern": {
           "shape": ""
          }
         },
         "name": "South Africa",
         "orientation": "v",
         "showlegend": true,
         "textposition": "auto",
         "type": "bar",
         "x": [
          "Africa"
         ],
         "xaxis": "x",
         "y": {
          "bdata": "SDYIAA==",
          "dtype": "i4"
         },
         "yaxis": "y"
        },
        {
         "hovertemplate": "Country=Mexico<br>Continent=%{x}<br>TotalCases=%{y}<extra></extra>",
         "legendgroup": "Mexico",
         "marker": {
          "color": "#19d3f3",
          "pattern": {
           "shape": ""
          }
         },
         "name": "Mexico",
         "orientation": "v",
         "showlegend": true,
         "textposition": "auto",
         "type": "bar",
         "x": [
          "North America"
         ],
         "xaxis": "x",
         "y": {
          "bdata": "Yg8HAA==",
          "dtype": "i4"
         },
         "yaxis": "y"
        },
        {
         "hovertemplate": "Country=Peru<br>Continent=%{x}<br>TotalCases=%{y}<extra></extra>",
         "legendgroup": "Peru",
         "marker": {
          "color": "#FF6692",
          "pattern": {
           "shape": ""
          }
         },
         "name": "Peru",
         "orientation": "v",
         "showlegend": true,
         "textposition": "auto",
         "type": "bar",
         "x": [
          "South America"
         ],
         "xaxis": "x",
         "y": {
          "bdata": "8fIGAA==",
          "dtype": "i4"
         },
         "yaxis": "y"
        },
        {
         "hovertemplate": "Country=Chile<br>Continent=%{x}<br>TotalCases=%{y}<extra></extra>",
         "legendgroup": "Chile",
         "marker": {
          "color": "#B6E880",
          "pattern": {
           "shape": ""
          }
         },
         "name": "Chile",
         "orientation": "v",
         "showlegend": true,
         "textposition": "auto",
         "type": "bar",
         "x": [
          "South America"
         ],
         "xaxis": "x",
         "y": {
          "bdata": "T5gFAA==",
          "dtype": "i4"
         },
         "yaxis": "y"
        },
        {
         "hovertemplate": "Country=Colombia<br>Continent=%{x}<br>TotalCases=%{y}<extra></extra>",
         "legendgroup": "Colombia",
         "marker": {
          "color": "#FF97FF",
          "pattern": {
           "shape": ""
          }
         },
         "name": "Colombia",
         "orientation": "v",
         "showlegend": true,
         "textposition": "auto",
         "type": "bar",
         "x": [
          "South America"
         ],
         "xaxis": "x",
         "y": {
          "bdata": "TnUFAA==",
          "dtype": "i4"
         },
         "yaxis": "y"
        },
        {
         "hovertemplate": "Country=Spain<br>Continent=%{x}<br>TotalCases=%{y}<extra></extra>",
         "legendgroup": "Spain",
         "marker": {
          "color": "#FECB52",
          "pattern": {
           "shape": ""
          }
         },
         "name": "Spain",
         "orientation": "v",
         "showlegend": true,
         "textposition": "auto",
         "type": "bar",
         "x": [
          "Europe"
         ],
         "xaxis": "x",
         "y": {
          "bdata": "4mgFAA==",
          "dtype": "i4"
         },
         "yaxis": "y"
        },
        {
         "hovertemplate": "Country=Iran<br>Continent=%{x}<br>TotalCases=%{y}<extra></extra>",
         "legendgroup": "Iran",
         "marker": {
          "color": "#636efa",
          "pattern": {
           "shape": ""
          }
         },
         "name": "Iran",
         "orientation": "v",
         "showlegend": true,
         "textposition": "auto",
         "type": "bar",
         "x": [
          "Asia"
         ],
         "xaxis": "x",
         "y": {
          "bdata": "deIEAA==",
          "dtype": "i4"
         },
         "yaxis": "y"
        },
        {
         "hovertemplate": "Country=UK<br>Continent=%{x}<br>TotalCases=%{y}<extra></extra>",
         "legendgroup": "UK",
         "marker": {
          "color": "#EF553B",
          "pattern": {
           "shape": ""
          }
         },
         "name": "UK",
         "orientation": "v",
         "showlegend": true,
         "textposition": "auto",
         "type": "bar",
         "x": [
          "Europe"
         ],
         "xaxis": "x",
         "y": {
          "bdata": "prMEAA==",
          "dtype": "i4"
         },
         "yaxis": "y"
        },
        {
         "hovertemplate": "Country=Saudi Arabia<br>Continent=%{x}<br>TotalCases=%{y}<extra></extra>",
         "legendgroup": "Saudi Arabia",
         "marker": {
          "color": "#00cc96",
          "pattern": {
           "shape": ""
          }
         },
         "name": "Saudi Arabia",
         "orientation": "v",
         "showlegend": true,
         "textposition": "auto",
         "type": "bar",
         "x": [
          "Asia"
         ],
         "xaxis": "x",
         "y": {
          "bdata": "QlYEAA==",
          "dtype": "i4"
         },
         "yaxis": "y"
        },
        {
         "hovertemplate": "Country=Pakistan<br>Continent=%{x}<br>TotalCases=%{y}<extra></extra>",
         "legendgroup": "Pakistan",
         "marker": {
          "color": "#ab63fa",
          "pattern": {
           "shape": ""
          }
         },
         "name": "Pakistan",
         "orientation": "v",
         "showlegend": true,
         "textposition": "auto",
         "type": "bar",
         "x": [
          "Asia"
         ],
         "xaxis": "x",
         "y": {
          "bdata": "B00EAA==",
          "dtype": "i4"
         },
         "yaxis": "y"
        },
        {
         "hovertemplate": "Country=Bangladesh<br>Continent=%{x}<br>TotalCases=%{y}<extra></extra>",
         "legendgroup": "Bangladesh",
         "marker": {
          "color": "#FFA15A",
          "pattern": {
           "shape": ""
          }
         },
         "name": "Bangladesh",
         "orientation": "v",
         "showlegend": true,
         "textposition": "auto",
         "type": "bar",
         "x": [
          "Asia"
         ],
         "xaxis": "x",
         "y": {
          "bdata": "M88DAA==",
          "dtype": "i4"
         },
         "yaxis": "y"
        },
        {
         "hovertemplate": "Country=Italy<br>Continent=%{x}<br>TotalCases=%{y}<extra></extra>",
         "legendgroup": "Italy",
         "marker": {
          "color": "#19d3f3",
          "pattern": {
           "shape": ""
          }
         },
         "name": "Italy",
         "orientation": "v",
         "showlegend": true,
         "textposition": "auto",
         "type": "bar",
         "x": [
          "Europe"
         ],
         "xaxis": "x",
         "y": {
          "bdata": "dM0DAA==",
          "dtype": "i4"
         },
         "yaxis": "y"
        },
        {
         "hovertemplate": "Country=Turkey<br>Continent=%{x}<br>TotalCases=%{y}<extra></extra>",
         "legendgroup": "Turkey",
         "marker": {
          "color": "#FF6692",
          "pattern": {
           "shape": ""
          }
         },
         "name": "Turkey",
         "orientation": "v",
         "showlegend": true,
         "textposition": "auto",
         "type": "bar",
         "x": [
          "Asia"
         ],
         "xaxis": "x",
         "y": {
          "bdata": "0Z4DAA==",
          "dtype": "i4"
         },
         "yaxis": "y"
        },
        {
         "hovertemplate": "Country=Argentina<br>Continent=%{x}<br>TotalCases=%{y}<extra></extra>",
         "legendgroup": "Argentina",
         "marker": {
          "color": "#B6E880",
          "pattern": {
           "shape": ""
          }
         },
         "name": "Argentina",
         "orientation": "v",
         "showlegend": true,
         "textposition": "auto",
         "type": "bar",
         "x": [
          "South America"
         ],
         "xaxis": "x",
         "y": {
          "bdata": "Y3sDAA==",
          "dtype": "i4"
         },
         "yaxis": "y"
        },
        {
         "hovertemplate": "Country=Germany<br>Continent=%{x}<br>TotalCases=%{y}<extra></extra>",
         "legendgroup": "Germany",
         "marker": {
          "color": "#FF97FF",
          "pattern": {
           "shape": ""
          }
         },
         "name": "Germany",
         "orientation": "v",
         "showlegend": true,
         "textposition": "auto",
         "type": "bar",
         "x": [
          "Europe"
         ],
         "xaxis": "x",
         "y": {
          "bdata": "qkgDAA==",
          "dtype": "i4"
         },
         "yaxis": "y"
        },
        {
         "hovertemplate": "Country=France<br>Continent=%{x}<br>TotalCases=%{y}<extra></extra>",
         "legendgroup": "France",
         "marker": {
          "color": "#FECB52",
          "pattern": {
           "shape": ""
          }
         },
         "name": "France",
         "orientation": "v",
         "showlegend": true,
         "textposition": "auto",
         "type": "bar",
         "x": [
          "Europe"
         ],
         "xaxis": "x",
         "y": {
          "bdata": "MfwCAA==",
          "dtype": "i4"
         },
         "yaxis": "y"
        },
        {
         "hovertemplate": "Country=Iraq<br>Continent=%{x}<br>TotalCases=%{y}<extra></extra>",
         "legendgroup": "Iraq",
         "marker": {
          "color": "#636efa",
          "pattern": {
           "shape": ""
          }
         },
         "name": "Iraq",
         "orientation": "v",
         "showlegend": true,
         "textposition": "auto",
         "type": "bar",
         "x": [
          "Asia"
         ],
         "xaxis": "x",
         "y": {
          "bdata": "OyUCAA==",
          "dtype": "i4"
         },
         "yaxis": "y"
        },
        {
         "hovertemplate": "Country=Philippines<br>Continent=%{x}<br>TotalCases=%{y}<extra></extra>",
         "legendgroup": "Philippines",
         "marker": {
          "color": "#EF553B",
          "pattern": {
           "shape": ""
          }
         },
         "name": "Philippines",
         "orientation": "v",
         "showlegend": true,
         "textposition": "auto",
         "type": "bar",
         "x": [
          "Asia"
         ],
         "xaxis": "x",
         "y": {
          "bdata": "pNIBAA==",
          "dtype": "i4"
         },
         "yaxis": "y"
        },
        {
         "hovertemplate": "Country=Indonesia<br>Continent=%{x}<br>TotalCases=%{y}<extra></extra>",
         "legendgroup": "Indonesia",
         "marker": {
          "color": "#00cc96",
          "pattern": {
           "shape": ""
          }
         },
         "name": "Indonesia",
         "orientation": "v",
         "showlegend": true,
         "textposition": "auto",
         "type": "bar",
         "x": [
          "Asia"
         ],
         "xaxis": "x",
         "y": {
          "bdata": "4c8BAA==",
          "dtype": "i4"
         },
         "yaxis": "y"
        },
        {
         "hovertemplate": "Country=Canada<br>Continent=%{x}<br>TotalCases=%{y}<extra></extra>",
         "legendgroup": "Canada",
         "marker": {
          "color": "#ab63fa",
          "pattern": {
           "shape": ""
          }
         },
         "name": "Canada",
         "orientation": "v",
         "showlegend": true,
         "textposition": "auto",
         "type": "bar",
         "x": [
          "North America"
         ],
         "xaxis": "x",
         "y": {
          "bdata": "Ic8BAA==",
          "dtype": "i4"
         },
         "yaxis": "y"
        },
        {
         "hovertemplate": "Country=Qatar<br>Continent=%{x}<br>TotalCases=%{y}<extra></extra>",
         "legendgroup": "Qatar",
         "marker": {
          "color": "#FFA15A",
          "pattern": {
           "shape": ""
          }
         },
         "name": "Qatar",
         "orientation": "v",
         "showlegend": true,
         "textposition": "auto",
         "type": "bar",
         "x": [
          "Asia"
         ],
         "xaxis": "x",
         "y": {
          "bdata": "3LUBAA==",
          "dtype": "i4"
         },
         "yaxis": "y"
        },
        {
         "hovertemplate": "Country=Kazakhstan<br>Continent=%{x}<br>TotalCases=%{y}<extra></extra>",
         "legendgroup": "Kazakhstan",
         "marker": {
          "color": "#19d3f3",
          "pattern": {
           "shape": ""
          }
         },
         "name": "Kazakhstan",
         "orientation": "v",
         "showlegend": true,
         "textposition": "auto",
         "type": "bar",
         "x": [
          "Asia"
         ],
         "xaxis": "x",
         "y": {
          "bdata": "xnYBAA==",
          "dtype": "i4"
         },
         "yaxis": "y"
        },
        {
         "hovertemplate": "Country=Egypt<br>Continent=%{x}<br>TotalCases=%{y}<extra></extra>",
         "legendgroup": "Egypt",
         "marker": {
          "color": "#FF6692",
          "pattern": {
           "shape": ""
          }
         },
         "name": "Egypt",
         "orientation": "v",
         "showlegend": true,
         "textposition": "auto",
         "type": "bar",
         "x": [
          "Africa"
         ],
         "xaxis": "x",
         "y": {
          "bdata": "HnMBAA==",
          "dtype": "i4"
         },
         "yaxis": "y"
        },
        {
         "hovertemplate": "Country=Ecuador<br>Continent=%{x}<br>TotalCases=%{y}<extra></extra>",
         "legendgroup": "Ecuador",
         "marker": {
          "color": "#B6E880",
          "pattern": {
           "shape": ""
          }
         },
         "name": "Ecuador",
         "orientation": "v",
         "showlegend": true,
         "textposition": "auto",
         "type": "bar",
         "x": [
          "South America"
         ],
         "xaxis": "x",
         "y": {
          "bdata": "qWEBAA==",
          "dtype": "i4"
         },
         "yaxis": "y"
        },
        {
         "hovertemplate": "Country=Bolivia<br>Continent=%{x}<br>TotalCases=%{y}<extra></extra>",
         "legendgroup": "Bolivia",
         "marker": {
          "color": "#FF97FF",
          "pattern": {
           "shape": ""
          }
         },
         "name": "Bolivia",
         "orientation": "v",
         "showlegend": true,
         "textposition": "auto",
         "type": "bar",
         "x": [
          "South America"
         ],
         "xaxis": "x",
         "y": {
          "bdata": "l1EBAA==",
          "dtype": "i4"
         },
         "yaxis": "y"
        },
        {
         "hovertemplate": "Country=Sweden<br>Continent=%{x}<br>TotalCases=%{y}<extra></extra>",
         "legendgroup": "Sweden",
         "marker": {
          "color": "#FECB52",
          "pattern": {
           "shape": ""
          }
         },
         "name": "Sweden",
         "orientation": "v",
         "showlegend": true,
         "textposition": "auto",
         "type": "bar",
         "x": [
          "Europe"
         ],
         "xaxis": "x",
         "y": {
          "bdata": "L0ABAA==",
          "dtype": "i4"
         },
         "yaxis": "y"
        },
        {
         "hovertemplate": "Country=Oman<br>Continent=%{x}<br>TotalCases=%{y}<extra></extra>",
         "legendgroup": "Oman",
         "marker": {
          "color": "#636efa",
          "pattern": {
           "shape": ""
          }
         },
         "name": "Oman",
         "orientation": "v",
         "showlegend": true,
         "textposition": "auto",
         "type": "bar",
         "x": [
          "Asia"
         ],
         "xaxis": "x",
         "y": {
          "bdata": "STsBAA==",
          "dtype": "i4"
         },
         "yaxis": "y"
        },
        {
         "hovertemplate": "Country=Israel<br>Continent=%{x}<br>TotalCases=%{y}<extra></extra>",
         "legendgroup": "Israel",
         "marker": {
          "color": "#EF553B",
          "pattern": {
           "shape": ""
          }
         },
         "name": "Israel",
         "orientation": "v",
         "showlegend": true,
         "textposition": "auto",
         "type": "bar",
         "x": [
          "Asia"
         ],
         "xaxis": "x",
         "y": {
          "bdata": "xzYBAA==",
          "dtype": "i4"
         },
         "yaxis": "y"
        },
        {
         "hovertemplate": "Country=Ukraine<br>Continent=%{x}<br>TotalCases=%{y}<extra></extra>",
         "legendgroup": "Ukraine",
         "marker": {
          "color": "#00cc96",
          "pattern": {
           "shape": ""
          }
         },
         "name": "Ukraine",
         "orientation": "v",
         "showlegend": true,
         "textposition": "auto",
         "type": "bar",
         "x": [
          "Europe"
         ],
         "xaxis": "x",
         "y": {
          "bdata": "CCwBAA==",
          "dtype": "i4"
         },
         "yaxis": "y"
        },
        {
         "hovertemplate": "Country=Dominican Republic<br>Continent=%{x}<br>TotalCases=%{y}<extra></extra>",
         "legendgroup": "Dominican Republic",
         "marker": {
          "color": "#ab63fa",
          "pattern": {
           "shape": ""
          }
         },
         "name": "Dominican Republic",
         "orientation": "v",
         "showlegend": true,
         "textposition": "auto",
         "type": "bar",
         "x": [
          "North America"
         ],
         "xaxis": "x",
         "y": {
          "bdata": "+CoBAA==",
          "dtype": "i4"
         },
         "yaxis": "y"
        },
        {
         "hovertemplate": "Country=Panama<br>Continent=%{x}<br>TotalCases=%{y}<extra></extra>",
         "legendgroup": "Panama",
         "marker": {
          "color": "#FFA15A",
          "pattern": {
           "shape": ""
          }
         },
         "name": "Panama",
         "orientation": "v",
         "showlegend": true,
         "textposition": "auto",
         "type": "bar",
         "x": [
          "North America"
         ],
         "xaxis": "x",
         "y": {
          "bdata": "+hYBAA==",
          "dtype": "i4"
         },
         "yaxis": "y"
        },
        {
         "hovertemplate": "Country=Belgium<br>Continent=%{x}<br>TotalCases=%{y}<extra></extra>",
         "legendgroup": "Belgium",
         "marker": {
          "color": "#19d3f3",
          "pattern": {
           "shape": ""
          }
         },
         "name": "Belgium",
         "orientation": "v",
         "showlegend": true,
         "textposition": "auto",
         "type": "bar",
         "x": [
          "Europe"
         ],
         "xaxis": "x",
         "y": {
          "bdata": "9hUBAA==",
          "dtype": "i4"
         },
         "yaxis": "y"
        },
        {
         "hovertemplate": "Country=Kuwait<br>Continent=%{x}<br>TotalCases=%{y}<extra></extra>",
         "legendgroup": "Kuwait",
         "marker": {
          "color": "#FF6692",
          "pattern": {
           "shape": ""
          }
         },
         "name": "Kuwait",
         "orientation": "v",
         "showlegend": true,
         "textposition": "auto",
         "type": "bar",
         "x": [
          "Asia"
         ],
         "xaxis": "x",
         "y": {
          "bdata": "nREBAA==",
          "dtype": "i4"
         },
         "yaxis": "y"
        },
        {
         "hovertemplate": "Country=Belarus<br>Continent=%{x}<br>TotalCases=%{y}<extra></extra>",
         "legendgroup": "Belarus",
         "marker": {
          "color": "#B6E880",
          "pattern": {
           "shape": ""
          }
         },
         "name": "Belarus",
         "orientation": "v",
         "showlegend": true,
         "textposition": "auto",
         "type": "bar",
         "x": [
          "Europe"
         ],
         "xaxis": "x",
         "y": {
          "bdata": "lwsBAA==",
          "dtype": "i4"
         },
         "yaxis": "y"
        },
        {
         "hovertemplate": "Country=UAE<br>Continent=%{x}<br>TotalCases=%{y}<extra></extra>",
         "legendgroup": "UAE",
         "marker": {
          "color": "#FF97FF",
          "pattern": {
           "shape": ""
          }
         },
         "name": "UAE",
         "orientation": "v",
         "showlegend": true,
         "textposition": "auto",
         "type": "bar",
         "x": [
          "Asia"
         ],
         "xaxis": "x",
         "y": {
          "bdata": "lfEAAA==",
          "dtype": "i4"
         },
         "yaxis": "y"
        },
        {
         "hovertemplate": "Country=Romania<br>Continent=%{x}<br>TotalCases=%{y}<extra></extra>",
         "legendgroup": "Romania",
         "marker": {
          "color": "#FECB52",
          "pattern": {
           "shape": ""
          }
         },
         "name": "Romania",
         "orientation": "v",
         "showlegend": true,
         "textposition": "auto",
         "type": "bar",
         "x": [
          "Europe"
         ],
         "xaxis": "x",
         "y": {
          "bdata": "J+IAAA==",
          "dtype": "i4"
         },
         "yaxis": "y"
        },
        {
         "hovertemplate": "Country=Netherlands<br>Continent=%{x}<br>TotalCases=%{y}<extra></extra>",
         "legendgroup": "Netherlands",
         "marker": {
          "color": "#636efa",
          "pattern": {
           "shape": ""
          }
         },
         "name": "Netherlands",
         "orientation": "v",
         "showlegend": true,
         "textposition": "auto",
         "type": "bar",
         "x": [
          "Europe"
         ],
         "xaxis": "x",
         "y": {
          "bdata": "lt4AAA==",
          "dtype": "i4"
         },
         "yaxis": "y"
        },
        {
         "hovertemplate": "Country=Singapore<br>Continent=%{x}<br>TotalCases=%{y}<extra></extra>",
         "legendgroup": "Singapore",
         "marker": {
          "color": "#EF553B",
          "pattern": {
           "shape": ""
          }
         },
         "name": "Singapore",
         "orientation": "v",
         "showlegend": true,
         "textposition": "auto",
         "type": "bar",
         "x": [
          "Asia"
         ],
         "xaxis": "x",
         "y": {
          "bdata": "G9UAAA==",
          "dtype": "i4"
         },
         "yaxis": "y"
        },
        {
         "hovertemplate": "Country=Guatemala<br>Continent=%{x}<br>TotalCases=%{y}<extra></extra>",
         "legendgroup": "Guatemala",
         "marker": {
          "color": "#00cc96",
          "pattern": {
           "shape": ""
          }
         },
         "name": "Guatemala",
         "orientation": "v",
         "showlegend": true,
         "textposition": "auto",
         "type": "bar",
         "x": [
          "North America"
         ],
         "xaxis": "x",
         "y": {
          "bdata": "Q9QAAA==",
          "dtype": "i4"
         },
         "yaxis": "y"
        },
        {
         "hovertemplate": "Country=Portugal<br>Continent=%{x}<br>TotalCases=%{y}<extra></extra>",
         "legendgroup": "Portugal",
         "marker": {
          "color": "#ab63fa",
          "pattern": {
           "shape": ""
          }
         },
         "name": "Portugal",
         "orientation": "v",
         "showlegend": true,
         "textposition": "auto",
         "type": "bar",
         "x": [
          "Europe"
         ],
         "xaxis": "x",
         "y": {
          "bdata": "XcsAAA==",
          "dtype": "i4"
         },
         "yaxis": "y"
        },
        {
         "hovertemplate": "Country=Poland<br>Continent=%{x}<br>TotalCases=%{y}<extra></extra>",
         "legendgroup": "Poland",
         "marker": {
          "color": "#FFA15A",
          "pattern": {
           "shape": ""
          }
         },
         "name": "Poland",
         "orientation": "v",
         "showlegend": true,
         "textposition": "auto",
         "type": "bar",
         "x": [
          "Europe"
         ],
         "xaxis": "x",
         "y": {
          "bdata": "a8EAAA==",
          "dtype": "i4"
         },
         "yaxis": "y"
        },
        {
         "hovertemplate": "Country=Nigeria<br>Continent=%{x}<br>TotalCases=%{y}<extra></extra>",
         "legendgroup": "Nigeria",
         "marker": {
          "color": "#19d3f3",
          "pattern": {
           "shape": ""
          }
         },
         "name": "Nigeria",
         "orientation": "v",
         "showlegend": true,
         "textposition": "auto",
         "type": "bar",
         "x": [
          "Africa"
         ],
         "xaxis": "x",
         "y": {
          "bdata": "vLAAAA==",
          "dtype": "i4"
         },
         "yaxis": "y"
        },
        {
         "hovertemplate": "Country=Honduras<br>Continent=%{x}<br>TotalCases=%{y}<extra></extra>",
         "legendgroup": "Honduras",
         "marker": {
          "color": "#FF6692",
          "pattern": {
           "shape": ""
          }
         },
         "name": "Honduras",
         "orientation": "v",
         "showlegend": true,
         "textposition": "auto",
         "type": "bar",
         "x": [
          "North America"
         ],
         "xaxis": "x",
         "y": {
          "bdata": "KrAAAA==",
          "dtype": "i4"
         },
         "yaxis": "y"
        },
        {
         "hovertemplate": "Country=Bahrain<br>Continent=%{x}<br>TotalCases=%{y}<extra></extra>",
         "legendgroup": "Bahrain",
         "marker": {
          "color": "#B6E880",
          "pattern": {
           "shape": ""
          }
         },
         "name": "Bahrain",
         "orientation": "v",
         "showlegend": true,
         "textposition": "auto",
         "type": "bar",
         "x": [
          "Asia"
         ],
         "xaxis": "x",
         "y": {
          "bdata": "iacAAA==",
          "dtype": "i4"
         },
         "yaxis": "y"
        },
        {
         "hovertemplate": "Country=Japan<br>Continent=%{x}<br>TotalCases=%{y}<extra></extra>",
         "legendgroup": "Japan",
         "marker": {
          "color": "#FF97FF",
          "pattern": {
           "shape": ""
          }
         },
         "name": "Japan",
         "orientation": "v",
         "showlegend": true,
         "textposition": "auto",
         "type": "bar",
         "x": [
          "Asia"
         ],
         "xaxis": "x",
         "y": {
          "bdata": "F6UAAA==",
          "dtype": "i4"
         },
         "yaxis": "y"
        },
        {
         "hovertemplate": "Country=Armenia<br>Continent=%{x}<br>TotalCases=%{y}<extra></extra>",
         "legendgroup": "Armenia",
         "marker": {
          "color": "#FECB52",
          "pattern": {
           "shape": ""
          }
         },
         "name": "Armenia",
         "orientation": "v",
         "showlegend": true,
         "textposition": "auto",
         "type": "bar",
         "x": [
          "Asia"
         ],
         "xaxis": "x",
         "y": {
          "bdata": "i5sAAA==",
          "dtype": "i4"
         },
         "yaxis": "y"
        },
        {
         "hovertemplate": "Country=Ghana<br>Continent=%{x}<br>TotalCases=%{y}<extra></extra>",
         "legendgroup": "Ghana",
         "marker": {
          "color": "#636efa",
          "pattern": {
           "shape": ""
          }
         },
         "name": "Ghana",
         "orientation": "v",
         "showlegend": true,
         "textposition": "auto",
         "type": "bar",
         "x": [
          "Africa"
         ],
         "xaxis": "x",
         "y": {
          "bdata": "2poAAA==",
          "dtype": "i4"
         },
         "yaxis": "y"
        },
        {
         "hovertemplate": "Country=Kyrgyzstan<br>Continent=%{x}<br>TotalCases=%{y}<extra></extra>",
         "legendgroup": "Kyrgyzstan",
         "marker": {
          "color": "#EF553B",
          "pattern": {
           "shape": ""
          }
         },
         "name": "Kyrgyzstan",
         "orientation": "v",
         "showlegend": true,
         "textposition": "auto",
         "type": "bar",
         "x": [
          "Asia"
         ],
         "xaxis": "x",
         "y": {
          "bdata": "A5cAAA==",
          "dtype": "i4"
         },
         "yaxis": "y"
        },
        {
         "hovertemplate": "Country=Afghanistan<br>Continent=%{x}<br>TotalCases=%{y}<extra></extra>",
         "legendgroup": "Afghanistan",
         "marker": {
          "color": "#00cc96",
          "pattern": {
           "shape": ""
          }
         },
         "name": "Afghanistan",
         "orientation": "v",
         "showlegend": true,
         "textposition": "auto",
         "type": "bar",
         "x": [
          "Asia"
         ],
         "xaxis": "x",
         "y": {
          "bdata": "IJAAAA==",
          "dtype": "i4"
         },
         "yaxis": "y"
        },
        {
         "hovertemplate": "Country=Switzerland<br>Continent=%{x}<br>TotalCases=%{y}<extra></extra>",
         "legendgroup": "Switzerland",
         "marker": {
          "color": "#ab63fa",
          "pattern": {
           "shape": ""
          }
         },
         "name": "Switzerland",
         "orientation": "v",
         "showlegend": true,
         "textposition": "auto",
         "type": "bar",
         "x": [
          "Europe"
         ],
         "xaxis": "x",
         "y": {
          "bdata": "DI0AAA==",
          "dtype": "i4"
         },
         "yaxis": "y"
        },
        {
         "hovertemplate": "Country=Algeria<br>Continent=%{x}<br>TotalCases=%{y}<extra></extra>",
         "legendgroup": "Algeria",
         "marker": {
          "color": "#FFA15A",
          "pattern": {
           "shape": ""
          }
         },
         "name": "Algeria",
         "orientation": "v",
         "showlegend": true,
         "textposition": "auto",
         "type": "bar",
         "x": [
          "Africa"
         ],
         "xaxis": "x",
         "y": {
          "bdata": "WoMAAA==",
          "dtype": "i4"
         },
         "yaxis": "y"
        },
        {
         "hovertemplate": "Country=Azerbaijan<br>Continent=%{x}<br>TotalCases=%{y}<extra></extra>",
         "legendgroup": "Azerbaijan",
         "marker": {
          "color": "#19d3f3",
          "pattern": {
           "shape": ""
          }
         },
         "name": "Azerbaijan",
         "orientation": "v",
         "showlegend": true,
         "textposition": "auto",
         "type": "bar",
         "x": [
          "Asia"
         ],
         "xaxis": "x",
         "y": {
          "bdata": "34EAAA==",
          "dtype": "i4"
         },
         "yaxis": "y"
        },
        {
         "hovertemplate": "Country=Morocco<br>Continent=%{x}<br>TotalCases=%{y}<extra></extra>",
         "legendgroup": "Morocco",
         "marker": {
          "color": "#FF6692",
          "pattern": {
           "shape": ""
          }
         },
         "name": "Morocco",
         "orientation": "v",
         "showlegend": true,
         "textposition": "auto",
         "type": "bar",
         "x": [
          "Africa"
         ],
         "xaxis": "x",
         "y": {
          "bdata": "zHM=",
          "dtype": "i2"
         },
         "yaxis": "y"
        },
        {
         "hovertemplate": "Country=Uzbekistan<br>Continent=%{x}<br>TotalCases=%{y}<extra></extra>",
         "legendgroup": "Uzbekistan",
         "marker": {
          "color": "#B6E880",
          "pattern": {
           "shape": ""
          }
         },
         "name": "Uzbekistan",
         "orientation": "v",
         "showlegend": true,
         "textposition": "auto",
         "type": "bar",
         "x": [
          "Asia"
         ],
         "xaxis": "x",
         "y": {
          "bdata": "m24=",
          "dtype": "i2"
         },
         "yaxis": "y"
        },
        {
         "hovertemplate": "Country=Serbia<br>Continent=%{x}<br>TotalCases=%{y}<extra></extra>",
         "legendgroup": "Serbia",
         "marker": {
          "color": "#FF97FF",
          "pattern": {
           "shape": ""
          }
         },
         "name": "Serbia",
         "orientation": "v",
         "showlegend": true,
         "textposition": "auto",
         "type": "bar",
         "x": [
          "Europe"
         ],
         "xaxis": "x",
         "y": {
          "bdata": "xGo=",
          "dtype": "i2"
         },
         "yaxis": "y"
        },
        {
         "hovertemplate": "Country=Moldova<br>Continent=%{x}<br>TotalCases=%{y}<extra></extra>",
         "legendgroup": "Moldova",
         "marker": {
          "color": "#FECB52",
          "pattern": {
           "shape": ""
          }
         },
         "name": "Moldova",
         "orientation": "v",
         "showlegend": true,
         "textposition": "auto",
         "type": "bar",
         "x": [
          "Europe"
         ],
         "xaxis": "x",
         "y": {
          "bdata": "BGg=",
          "dtype": "i2"
         },
         "yaxis": "y"
        },
        {
         "hovertemplate": "Country=Ireland<br>Continent=%{x}<br>TotalCases=%{y}<extra></extra>",
         "legendgroup": "Ireland",
         "marker": {
          "color": "#636efa",
          "pattern": {
           "shape": ""
          }
         },
         "name": "Ireland",
         "orientation": "v",
         "showlegend": true,
         "textposition": "auto",
         "type": "bar",
         "x": [
          "Europe"
         ],
         "xaxis": "x",
         "y": {
          "bdata": "BGc=",
          "dtype": "i2"
         },
         "yaxis": "y"
        },
        {
         "hovertemplate": "Country=Kenya<br>Continent=%{x}<br>TotalCases=%{y}<extra></extra>",
         "legendgroup": "Kenya",
         "marker": {
          "color": "#EF553B",
          "pattern": {
           "shape": ""
          }
         },
         "name": "Kenya",
         "orientation": "v",
         "showlegend": true,
         "textposition": "auto",
         "type": "bar",
         "x": [
          "Africa"
         ],
         "xaxis": "x",
         "y": {
          "bdata": "W18=",
          "dtype": "i2"
         },
         "yaxis": "y"
        },
        {
         "hovertemplate": "Country=Venezuela<br>Continent=%{x}<br>TotalCases=%{y}<extra></extra>",
         "legendgroup": "Venezuela",
         "marker": {
          "color": "#00cc96",
          "pattern": {
           "shape": ""
          }
         },
         "name": "Venezuela",
         "orientation": "v",
         "showlegend": true,
         "textposition": "auto",
         "type": "bar",
         "x": [
          "South America"
         ],
         "xaxis": "x",
         "y": {
          "bdata": "G1c=",
          "dtype": "i2"
         },
         "yaxis": "y"
        },
        {
         "hovertemplate": "Country=Nepal<br>Continent=%{x}<br>TotalCases=%{y}<extra></extra>",
         "legendgroup": "Nepal",
         "marker": {
          "color": "#ab63fa",
          "pattern": {
           "shape": ""
          }
         },
         "name": "Nepal",
         "orientation": "v",
         "showlegend": true,
         "textposition": "auto",
         "type": "bar",
         "x": [
          "Asia"
         ],
         "xaxis": "x",
         "y": {
          "bdata": "9lQ=",
          "dtype": "i2"
         },
         "yaxis": "y"
        },
        {
         "hovertemplate": "Country=Austria<br>Continent=%{x}<br>TotalCases=%{y}<extra></extra>",
         "legendgroup": "Austria",
         "marker": {
          "color": "#FFA15A",
          "pattern": {
           "shape": ""
          }
         },
         "name": "Austria",
         "orientation": "v",
         "showlegend": true,
         "textposition": "auto",
         "type": "bar",
         "x": [
          "Europe"
         ],
         "xaxis": "x",
         "y": {
          "bdata": "wFQ=",
          "dtype": "i2"
         },
         "yaxis": "y"
        },
        {
         "hovertemplate": "Country=Costa Rica<br>Continent=%{x}<br>TotalCases=%{y}<extra></extra>",
         "legendgroup": "Costa Rica",
         "marker": {
          "color": "#19d3f3",
          "pattern": {
           "shape": ""
          }
         },
         "name": "Costa Rica",
         "orientation": "v",
         "showlegend": true,
         "textposition": "auto",
         "type": "bar",
         "x": [
          "North America"
         ],
         "xaxis": "x",
         "y": {
          "bdata": "TlI=",
          "dtype": "i2"
         },
         "yaxis": "y"
        },
        {
         "hovertemplate": "Country=Ethiopia<br>Continent=%{x}<br>TotalCases=%{y}<extra></extra>",
         "legendgroup": "Ethiopia",
         "marker": {
          "color": "#FF6692",
          "pattern": {
           "shape": ""
          }
         },
         "name": "Ethiopia",
         "orientation": "v",
         "showlegend": true,
         "textposition": "auto",
         "type": "bar",
         "x": [
          "Africa"
         ],
         "xaxis": "x",
         "y": {
          "bdata": "pFE=",
          "dtype": "i2"
         },
         "yaxis": "y"
        },
        {
         "hovertemplate": "Country=Australia<br>Continent=%{x}<br>TotalCases=%{y}<extra></extra>",
         "legendgroup": "Australia",
         "marker": {
          "color": "#B6E880",
          "pattern": {
           "shape": ""
          }
         },
         "name": "Australia",
         "orientation": "v",
         "showlegend": true,
         "textposition": "auto",
         "type": "bar",
         "x": [
          "Australia/Oceania"
         ],
         "xaxis": "x",
         "y": {
          "bdata": "sk0=",
          "dtype": "i2"
         },
         "yaxis": "y"
        },
        {
         "hovertemplate": "Country=El Salvador<br>Continent=%{x}<br>TotalCases=%{y}<extra></extra>",
         "legendgroup": "El Salvador",
         "marker": {
          "color": "#FF97FF",
          "pattern": {
           "shape": ""
          }
         },
         "name": "El Salvador",
         "orientation": "v",
         "showlegend": true,
         "textposition": "auto",
         "type": "bar",
         "x": [
          "North America"
         ],
         "xaxis": "x",
         "y": {
          "bdata": "tko=",
          "dtype": "i2"
         },
         "yaxis": "y"
        },
        {
         "hovertemplate": "Country=Czechia<br>Continent=%{x}<br>TotalCases=%{y}<extra></extra>",
         "legendgroup": "Czechia",
         "marker": {
          "color": "#FECB52",
          "pattern": {
           "shape": ""
          }
         },
         "name": "Czechia",
         "orientation": "v",
         "showlegend": true,
         "textposition": "auto",
         "type": "bar",
         "x": [
          "Europe"
         ],
         "xaxis": "x",
         "y": {
          "bdata": "Q0U=",
          "dtype": "i2"
         },
         "yaxis": "y"
        },
        {
         "hovertemplate": "Country=Cameroon<br>Continent=%{x}<br>TotalCases=%{y}<extra></extra>",
         "legendgroup": "Cameroon",
         "marker": {
          "color": "#636efa",
          "pattern": {
           "shape": ""
          }
         },
         "name": "Cameroon",
         "orientation": "v",
         "showlegend": true,
         "textposition": "auto",
         "type": "bar",
         "x": [
          "Africa"
         ],
         "xaxis": "x",
         "y": {
          "bdata": "NkU=",
          "dtype": "i2"
         },
         "yaxis": "y"
        },
        {
         "hovertemplate": "Country=Ivory Coast<br>Continent=%{x}<br>TotalCases=%{y}<extra></extra>",
         "legendgroup": "Ivory Coast",
         "marker": {
          "color": "#EF553B",
          "pattern": {
           "shape": ""
          }
         },
         "name": "Ivory Coast",
         "orientation": "v",
         "showlegend": true,
         "textposition": "auto",
         "type": "bar",
         "x": [
          "Africa"
         ],
         "xaxis": "x",
         "y": {
          "bdata": "P0A=",
          "dtype": "i2"
         },
         "yaxis": "y"
        },
        {
         "hovertemplate": "Country=S. Korea<br>Continent=%{x}<br>TotalCases=%{y}<extra></extra>",
         "legendgroup": "S. Korea",
         "marker": {
          "color": "#00cc96",
          "pattern": {
           "shape": ""
          }
         },
         "name": "S. Korea",
         "orientation": "v",
         "showlegend": true,
         "textposition": "auto",
         "type": "bar",
         "x": [
          "Asia"
         ],
         "xaxis": "x",
         "y": {
          "bdata": "tzg=",
          "dtype": "i2"
         },
         "yaxis": "y"
        },
        {
         "hovertemplate": "Country=Denmark<br>Continent=%{x}<br>TotalCases=%{y}<extra></extra>",
         "legendgroup": "Denmark",
         "marker": {
          "color": "#ab63fa",
          "pattern": {
           "shape": ""
          }
         },
         "name": "Denmark",
         "orientation": "v",
         "showlegend": true,
         "textposition": "auto",
         "type": "bar",
         "x": [
          "Europe"
         ],
         "xaxis": "x",
         "y": {
          "bdata": "4jc=",
          "dtype": "i2"
         },
         "yaxis": "y"
        },
        {
         "hovertemplate": "Country=Palestine<br>Continent=%{x}<br>TotalCases=%{y}<extra></extra>",
         "legendgroup": "Palestine",
         "marker": {
          "color": "#FFA15A",
          "pattern": {
           "shape": ""
          }
         },
         "name": "Palestine",
         "orientation": "v",
         "showlegend": true,
         "textposition": "auto",
         "type": "bar",
         "x": [
          "Asia"
         ],
         "xaxis": "x",
         "y": {
          "bdata": "VjQ=",
          "dtype": "i2"
         },
         "yaxis": "y"
        },
        {
         "hovertemplate": "Country=Bosnia and Herzegovina<br>Continent=%{x}<br>TotalCases=%{y}<extra></extra>",
         "legendgroup": "Bosnia and Herzegovina",
         "marker": {
          "color": "#19d3f3",
          "pattern": {
           "shape": ""
          }
         },
         "name": "Bosnia and Herzegovina",
         "orientation": "v",
         "showlegend": true,
         "textposition": "auto",
         "type": "bar",
         "x": [
          "Europe"
         ],
         "xaxis": "x",
         "y": {
          "bdata": "VDQ=",
          "dtype": "i2"
         },
         "yaxis": "y"
        },
        {
         "hovertemplate": "Country=Bulgaria<br>Continent=%{x}<br>TotalCases=%{y}<extra></extra>",
         "legendgroup": "Bulgaria",
         "marker": {
          "color": "#FF6692",
          "pattern": {
           "shape": ""
          }
         },
         "name": "Bulgaria",
         "orientation": "v",
         "showlegend": true,
         "textposition": "auto",
         "type": "bar",
         "x": [
          "Europe"
         ],
         "xaxis": "x",
         "y": {
          "bdata": "1jI=",
          "dtype": "i2"
         },
         "yaxis": "y"
        },
        {
         "hovertemplate": "Country=Madagascar<br>Continent=%{x}<br>TotalCases=%{y}<extra></extra>",
         "legendgroup": "Madagascar",
         "marker": {
          "color": "#B6E880",
          "pattern": {
           "shape": ""
          }
         },
         "name": "Madagascar",
         "orientation": "v",
         "showlegend": true,
         "textposition": "auto",
         "type": "bar",
         "x": [
          "Africa"
         ],
         "xaxis": "x",
         "y": {
          "bdata": "7jA=",
          "dtype": "i2"
         },
         "yaxis": "y"
        },
        {
         "hovertemplate": "Country=Sudan<br>Continent=%{x}<br>TotalCases=%{y}<extra></extra>",
         "legendgroup": "Sudan",
         "marker": {
          "color": "#FF97FF",
          "pattern": {
           "shape": ""
          }
         },
         "name": "Sudan",
         "orientation": "v",
         "showlegend": true,
         "textposition": "auto",
         "type": "bar",
         "x": [
          "Africa"
         ],
         "xaxis": "x",
         "y": {
          "bdata": "BC4=",
          "dtype": "i2"
         },
         "yaxis": "y"
        },
        {
         "hovertemplate": "Country=North Macedonia<br>Continent=%{x}<br>TotalCases=%{y}<extra></extra>",
         "legendgroup": "North Macedonia",
         "marker": {
          "color": "#FECB52",
          "pattern": {
           "shape": ""
          }
         },
         "name": "North Macedonia",
         "orientation": "v",
         "showlegend": true,
         "textposition": "auto",
         "type": "bar",
         "x": [
          "Europe"
         ],
         "xaxis": "x",
         "y": {
          "bdata": "hyw=",
          "dtype": "i2"
         },
         "yaxis": "y"
        },
        {
         "hovertemplate": "Country=Senegal<br>Continent=%{x}<br>TotalCases=%{y}<extra></extra>",
         "legendgroup": "Senegal",
         "marker": {
          "color": "#636efa",
          "pattern": {
           "shape": ""
          }
         },
         "name": "Senegal",
         "orientation": "v",
         "showlegend": true,
         "textposition": "auto",
         "type": "bar",
         "x": [
          "Africa"
         ],
         "xaxis": "x",
         "y": {
          "bdata": "2yk=",
          "dtype": "i2"
         },
         "yaxis": "y"
        },
        {
         "hovertemplate": "Country=Norway<br>Continent=%{x}<br>TotalCases=%{y}<extra></extra>",
         "legendgroup": "Norway",
         "marker": {
          "color": "#EF553B",
          "pattern": {
           "shape": ""
          }
         },
         "name": "Norway",
         "orientation": "v",
         "showlegend": true,
         "textposition": "auto",
         "type": "bar",
         "x": [
          "Europe"
         ],
         "xaxis": "x",
         "y": {
          "bdata": "/CQ=",
          "dtype": "i2"
         },
         "yaxis": "y"
        },
        {
         "hovertemplate": "Country=DRC<br>Continent=%{x}<br>TotalCases=%{y}<extra></extra>",
         "legendgroup": "DRC",
         "marker": {
          "color": "#00cc96",
          "pattern": {
           "shape": ""
          }
         },
         "name": "DRC",
         "orientation": "v",
         "showlegend": true,
         "textposition": "auto",
         "type": "bar",
         "x": [
          "Africa"
         ],
         "xaxis": "x",
         "y": {
          "bdata": "XSQ=",
          "dtype": "i2"
         },
         "yaxis": "y"
        },
        {
         "hovertemplate": "Country=Malaysia<br>Continent=%{x}<br>TotalCases=%{y}<extra></extra>",
         "legendgroup": "Malaysia",
         "marker": {
          "color": "#ab63fa",
          "pattern": {
           "shape": ""
          }
         },
         "name": "Malaysia",
         "orientation": "v",
         "showlegend": true,
         "textposition": "auto",
         "type": "bar",
         "x": [
          "Asia"
         ],
         "xaxis": "x",
         "y": {
          "bdata": "TiM=",
          "dtype": "i2"
         },
         "yaxis": "y"
        },
        {
         "hovertemplate": "Country=French Guiana<br>Continent=%{x}<br>TotalCases=%{y}<extra></extra>",
         "legendgroup": "French Guiana",
         "marker": {
          "color": "#FFA15A",
          "pattern": {
           "shape": ""
          }
         },
         "name": "French Guiana",
         "orientation": "v",
         "showlegend": true,
         "textposition": "auto",
         "type": "bar",
         "x": [
          "South America"
         ],
         "xaxis": "x",
         "y": {
          "bdata": "vx8=",
          "dtype": "i2"
         },
         "yaxis": "y"
        },
        {
         "hovertemplate": "Country=Gabon<br>Continent=%{x}<br>TotalCases=%{y}<extra></extra>",
         "legendgroup": "Gabon",
         "marker": {
          "color": "#19d3f3",
          "pattern": {
           "shape": ""
          }
         },
         "name": "Gabon",
         "orientation": "v",
         "showlegend": true,
         "textposition": "auto",
         "type": "bar",
         "x": [
          "Africa"
         ],
         "xaxis": "x",
         "y": {
          "bdata": "ax4=",
          "dtype": "i2"
         },
         "yaxis": "y"
        },
        {
         "hovertemplate": "Country=Tajikistan<br>Continent=%{x}<br>TotalCases=%{y}<extra></extra>",
         "legendgroup": "Tajikistan",
         "marker": {
          "color": "#FF6692",
          "pattern": {
           "shape": ""
          }
         },
         "name": "Tajikistan",
         "orientation": "v",
         "showlegend": true,
         "textposition": "auto",
         "type": "bar",
         "x": [
          "Asia"
         ],
         "xaxis": "x",
         "y": {
          "bdata": "8R0=",
          "dtype": "i2"
         },
         "yaxis": "y"
        },
        {
         "hovertemplate": "Country=Guinea<br>Continent=%{x}<br>TotalCases=%{y}<extra></extra>",
         "legendgroup": "Guinea",
         "marker": {
          "color": "#B6E880",
          "pattern": {
           "shape": ""
          }
         },
         "name": "Guinea",
         "orientation": "v",
         "showlegend": true,
         "textposition": "auto",
         "type": "bar",
         "x": [
          "Africa"
         ],
         "xaxis": "x",
         "y": {
          "bdata": "8B0=",
          "dtype": "i2"
         },
         "yaxis": "y"
        },
        {
         "hovertemplate": "Country=Haiti<br>Continent=%{x}<br>TotalCases=%{y}<extra></extra>",
         "legendgroup": "Haiti",
         "marker": {
          "color": "#FF97FF",
          "pattern": {
           "shape": ""
          }
         },
         "name": "Haiti",
         "orientation": "v",
         "showlegend": true,
         "textposition": "auto",
         "type": "bar",
         "x": [
          "North America"
         ],
         "xaxis": "x",
         "y": {
          "bdata": "eB0=",
          "dtype": "i2"
         },
         "yaxis": "y"
        },
        {
         "hovertemplate": "Country=Finland<br>Continent=%{x}<br>TotalCases=%{y}<extra></extra>",
         "legendgroup": "Finland",
         "marker": {
          "color": "#FECB52",
          "pattern": {
           "shape": ""
          }
         },
         "name": "Finland",
         "orientation": "v",
         "showlegend": true,
         "textposition": "auto",
         "type": "bar",
         "x": [
          "Europe"
         ],
         "xaxis": "x",
         "y": {
          "bdata": "bB0=",
          "dtype": "i2"
         },
         "yaxis": "y"
        },
        {
         "hovertemplate": "Country=Zambia<br>Continent=%{x}<br>TotalCases=%{y}<extra></extra>",
         "legendgroup": "Zambia",
         "marker": {
          "color": "#636efa",
          "pattern": {
           "shape": ""
          }
         },
         "name": "Zambia",
         "orientation": "v",
         "showlegend": true,
         "textposition": "auto",
         "type": "bar",
         "x": [
          "Africa"
         ],
         "xaxis": "x",
         "y": {
          "bdata": "/Bs=",
          "dtype": "i2"
         },
         "yaxis": "y"
        },
        {
         "hovertemplate": "Country=Luxembourg<br>Continent=%{x}<br>TotalCases=%{y}<extra></extra>",
         "legendgroup": "Luxembourg",
         "marker": {
          "color": "#EF553B",
          "pattern": {
           "shape": ""
          }
         },
         "name": "Luxembourg",
         "orientation": "v",
         "showlegend": true,
         "textposition": "auto",
         "type": "bar",
         "x": [
          "Europe"
         ],
         "xaxis": "x",
         "y": {
          "bdata": "oRs=",
          "dtype": "i2"
         },
         "yaxis": "y"
        },
        {
         "hovertemplate": "Country=Mauritania<br>Continent=%{x}<br>TotalCases=%{y}<extra></extra>",
         "legendgroup": "Mauritania",
         "marker": {
          "color": "#00cc96",
          "pattern": {
           "shape": ""
          }
         },
         "name": "Mauritania",
         "orientation": "v",
         "showlegend": true,
         "textposition": "auto",
         "type": "bar",
         "x": [
          "Africa"
         ],
         "xaxis": "x",
         "y": {
          "bdata": "LBk=",
          "dtype": "i2"
         },
         "yaxis": "y"
        },
        {
         "hovertemplate": "Country=Paraguay<br>Continent=%{x}<br>TotalCases=%{y}<extra></extra>",
         "legendgroup": "Paraguay",
         "marker": {
          "color": "#ab63fa",
          "pattern": {
           "shape": ""
          }
         },
         "name": "Paraguay",
         "orientation": "v",
         "showlegend": true,
         "textposition": "auto",
         "type": "bar",
         "x": [
          "South America"
         ],
         "xaxis": "x",
         "y": {
          "bdata": "5xg=",
          "dtype": "i2"
         },
         "yaxis": "y"
        },
        {
         "hovertemplate": "Country=Albania<br>Continent=%{x}<br>TotalCases=%{y}<extra></extra>",
         "legendgroup": "Albania",
         "marker": {
          "color": "#FFA15A",
          "pattern": {
           "shape": ""
          }
         },
         "name": "Albania",
         "orientation": "v",
         "showlegend": true,
         "textposition": "auto",
         "type": "bar",
         "x": [
          "Europe"
         ],
         "xaxis": "x",
         "y": {
          "bdata": "gBc=",
          "dtype": "i2"
         },
         "yaxis": "y"
        },
        {
         "hovertemplate": "Country=Lebanon<br>Continent=%{x}<br>TotalCases=%{y}<extra></extra>",
         "legendgroup": "Lebanon",
         "marker": {
          "color": "#19d3f3",
          "pattern": {
           "shape": ""
          }
         },
         "name": "Lebanon",
         "orientation": "v",
         "showlegend": true,
         "textposition": "auto",
         "type": "bar",
         "x": [
          "Asia"
         ],
         "xaxis": "x",
         "y": {
          "bdata": "KBY=",
          "dtype": "i2"
         },
         "yaxis": "y"
        },
        {
         "hovertemplate": "Country=Croatia<br>Continent=%{x}<br>TotalCases=%{y}<extra></extra>",
         "legendgroup": "Croatia",
         "marker": {
          "color": "#FF6692",
          "pattern": {
           "shape": ""
          }
         },
         "name": "Croatia",
         "orientation": "v",
         "showlegend": true,
         "textposition": "auto",
         "type": "bar",
         "x": [
          "Europe"
         ],
         "xaxis": "x",
         "y": {
          "bdata": "HBU=",
          "dtype": "i2"
         },
         "yaxis": "y"
        },
        {
         "hovertemplate": "Country=Djibouti<br>Continent=%{x}<br>TotalCases=%{y}<extra></extra>",
         "legendgroup": "Djibouti",
         "marker": {
          "color": "#B6E880",
          "pattern": {
           "shape": ""
          }
         },
         "name": "Djibouti",
         "orientation": "v",
         "showlegend": true,
         "textposition": "auto",
         "type": "bar",
         "x": [
          "Africa"
         ],
         "xaxis": "x",
         "y": {
          "bdata": "0hQ=",
          "dtype": "i2"
         },
         "yaxis": "y"
        },
        {
         "hovertemplate": "Country=Greece<br>Continent=%{x}<br>TotalCases=%{y}<extra></extra>",
         "legendgroup": "Greece",
         "marker": {
          "color": "#FF97FF",
          "pattern": {
           "shape": ""
          }
         },
         "name": "Greece",
         "orientation": "v",
         "showlegend": true,
         "textposition": "auto",
         "type": "bar",
         "x": [
          "Europe"
         ],
         "xaxis": "x",
         "y": {
          "bdata": "AxQ=",
          "dtype": "i2"
         },
         "yaxis": "y"
        },
        {
         "hovertemplate": "Country=Libya<br>Continent=%{x}<br>TotalCases=%{y}<extra></extra>",
         "legendgroup": "Libya",
         "marker": {
          "color": "#FECB52",
          "pattern": {
           "shape": ""
          }
         },
         "name": "Libya",
         "orientation": "v",
         "showlegend": true,
         "textposition": "auto",
         "type": "bar",
         "x": [
          "Africa"
         ],
         "xaxis": "x",
         "y": {
          "bdata": "DxM=",
          "dtype": "i2"
         },
         "yaxis": "y"
        },
        {
         "hovertemplate": "Country=Equatorial Guinea<br>Continent=%{x}<br>TotalCases=%{y}<extra></extra>",
         "legendgroup": "Equatorial Guinea",
         "marker": {
          "color": "#636efa",
          "pattern": {
           "shape": ""
          }
         },
         "name": "Equatorial Guinea",
         "orientation": "v",
         "showlegend": true,
         "textposition": "auto",
         "type": "bar",
         "x": [
          "Africa"
         ],
         "xaxis": "x",
         "y": {
          "bdata": "1RI=",
          "dtype": "i2"
         },
         "yaxis": "y"
        },
        {
         "hovertemplate": "Country=Maldives<br>Continent=%{x}<br>TotalCases=%{y}<extra></extra>",
         "legendgroup": "Maldives",
         "marker": {
          "color": "#EF553B",
          "pattern": {
           "shape": ""
          }
         },
         "name": "Maldives",
         "orientation": "v",
         "showlegend": true,
         "textposition": "auto",
         "type": "bar",
         "x": [
          "Asia"
         ],
         "xaxis": "x",
         "y": {
          "bdata": "SBI=",
          "dtype": "i2"
         },
         "yaxis": "y"
        },
        {
         "hovertemplate": "Country=CAR<br>Continent=%{x}<br>TotalCases=%{y}<extra></extra>",
         "legendgroup": "CAR",
         "marker": {
          "color": "#00cc96",
          "pattern": {
           "shape": ""
          }
         },
         "name": "CAR",
         "orientation": "v",
         "showlegend": true,
         "textposition": "auto",
         "type": "bar",
         "x": [
          "Africa"
         ],
         "xaxis": "x",
         "y": {
          "bdata": "DBI=",
          "dtype": "i2"
         },
         "yaxis": "y"
        },
        {
         "hovertemplate": "Country=Hungary<br>Continent=%{x}<br>TotalCases=%{y}<extra></extra>",
         "legendgroup": "Hungary",
         "marker": {
          "color": "#ab63fa",
          "pattern": {
           "shape": ""
          }
         },
         "name": "Hungary",
         "orientation": "v",
         "showlegend": true,
         "textposition": "auto",
         "type": "bar",
         "x": [
          "Europe"
         ],
         "xaxis": "x",
         "y": {
          "bdata": "9RE=",
          "dtype": "i2"
         },
         "yaxis": "y"
        },
        {
         "hovertemplate": "Country=Malawi<br>Continent=%{x}<br>TotalCases=%{y}<extra></extra>",
         "legendgroup": "Malawi",
         "marker": {
          "color": "#FFA15A",
          "pattern": {
           "shape": ""
          }
         },
         "name": "Malawi",
         "orientation": "v",
         "showlegend": true,
         "textposition": "auto",
         "type": "bar",
         "x": [
          "Africa"
         ],
         "xaxis": "x",
         "y": {
          "bdata": "ixE=",
          "dtype": "i2"
         },
         "yaxis": "y"
        },
        {
         "hovertemplate": "Country=Zimbabwe<br>Continent=%{x}<br>TotalCases=%{y}<extra></extra>",
         "legendgroup": "Zimbabwe",
         "marker": {
          "color": "#19d3f3",
          "pattern": {
           "shape": ""
          }
         },
         "name": "Zimbabwe",
         "orientation": "v",
         "showlegend": true,
         "textposition": "auto",
         "type": "bar",
         "x": [
          "Africa"
         ],
         "xaxis": "x",
         "y": {
          "bdata": "8xA=",
          "dtype": "i2"
         },
         "yaxis": "y"
        },
        {
         "hovertemplate": "Country=Nicaragua<br>Continent=%{x}<br>TotalCases=%{y}<extra></extra>",
         "legendgroup": "Nicaragua",
         "marker": {
          "color": "#FF6692",
          "pattern": {
           "shape": ""
          }
         },
         "name": "Nicaragua",
         "orientation": "v",
         "showlegend": true,
         "textposition": "auto",
         "type": "bar",
         "x": [
          "North America"
         ],
         "xaxis": "x",
         "y": {
          "bdata": "Pg8=",
          "dtype": "i2"
         },
         "yaxis": "y"
        },
        {
         "hovertemplate": "Country=Hong Kong<br>Continent=%{x}<br>TotalCases=%{y}<extra></extra>",
         "legendgroup": "Hong Kong",
         "marker": {
          "color": "#B6E880",
          "pattern": {
           "shape": ""
          }
         },
         "name": "Hong Kong",
         "orientation": "v",
         "showlegend": true,
         "textposition": "auto",
         "type": "bar",
         "x": [
          "Asia"
         ],
         "xaxis": "x",
         "y": {
          "bdata": "Cg8=",
          "dtype": "i2"
         },
         "yaxis": "y"
        },
        {
         "hovertemplate": "Country=Congo<br>Continent=%{x}<br>TotalCases=%{y}<extra></extra>",
         "legendgroup": "Congo",
         "marker": {
          "color": "#FF97FF",
          "pattern": {
           "shape": ""
          }
         },
         "name": "Congo",
         "orientation": "v",
         "showlegend": true,
         "textposition": "auto",
         "type": "bar",
         "x": [
          "Africa"
         ],
         "xaxis": "x",
         "y": {
          "bdata": "2g0=",
          "dtype": "i2"
         },
         "yaxis": "y"
        },
        {
         "hovertemplate": "Country=Montenegro<br>Continent=%{x}<br>TotalCases=%{y}<extra></extra>",
         "legendgroup": "Montenegro",
         "marker": {
          "color": "#FECB52",
          "pattern": {
           "shape": ""
          }
         },
         "name": "Montenegro",
         "orientation": "v",
         "showlegend": true,
         "textposition": "auto",
         "type": "bar",
         "x": [
          "Europe"
         ],
         "xaxis": "x",
         "y": {
          "bdata": "mA0=",
          "dtype": "i2"
         },
         "yaxis": "y"
        },
        {
         "hovertemplate": "Country=Thailand<br>Continent=%{x}<br>TotalCases=%{y}<extra></extra>",
         "legendgroup": "Thailand",
         "marker": {
          "color": "#636efa",
          "pattern": {
           "shape": ""
          }
         },
         "name": "Thailand",
         "orientation": "v",
         "showlegend": true,
         "textposition": "auto",
         "type": "bar",
         "x": [
          "Asia"
         ],
         "xaxis": "x",
         "y": {
          "bdata": "Ag0=",
          "dtype": "i2"
         },
         "yaxis": "y"
        },
        {
         "hovertemplate": "Country=Somalia<br>Continent=%{x}<br>TotalCases=%{y}<extra></extra>",
         "legendgroup": "Somalia",
         "marker": {
          "color": "#EF553B",
          "pattern": {
           "shape": ""
          }
         },
         "name": "Somalia",
         "orientation": "v",
         "showlegend": true,
         "textposition": "auto",
         "type": "bar",
         "x": [
          "Africa"
         ],
         "xaxis": "x",
         "y": {
          "bdata": "mww=",
          "dtype": "i2"
         },
         "yaxis": "y"
        },
        {
         "hovertemplate": "Country=Mayotte<br>Continent=%{x}<br>TotalCases=%{y}<extra></extra>",
         "legendgroup": "Mayotte",
         "marker": {
          "color": "#00cc96",
          "pattern": {
           "shape": ""
          }
         },
         "name": "Mayotte",
         "orientation": "v",
         "showlegend": true,
         "textposition": "auto",
         "type": "bar",
         "x": [
          "Africa"
         ],
         "xaxis": "x",
         "y": {
          "bdata": "4gs=",
          "dtype": "i2"
         },
         "yaxis": "y"
        },
        {
         "hovertemplate": "Country=Eswatini<br>Continent=%{x}<br>TotalCases=%{y}<extra></extra>",
         "legendgroup": "Eswatini",
         "marker": {
          "color": "#ab63fa",
          "pattern": {
           "shape": ""
          }
         },
         "name": "Eswatini",
         "orientation": "v",
         "showlegend": true,
         "textposition": "auto",
         "type": "bar",
         "x": [
          "Africa"
         ],
         "xaxis": "x",
         "y": {
          "bdata": "mAs=",
          "dtype": "i2"
         },
         "yaxis": "y"
        },
        {
         "hovertemplate": "Country=Sri Lanka<br>Continent=%{x}<br>TotalCases=%{y}<extra></extra>",
         "legendgroup": "Sri Lanka",
         "marker": {
          "color": "#FFA15A",
          "pattern": {
           "shape": ""
          }
         },
         "name": "Sri Lanka",
         "orientation": "v",
         "showlegend": true,
         "textposition": "auto",
         "type": "bar",
         "x": [
          "Asia"
         ],
         "xaxis": "x",
         "y": {
          "bdata": "Fws=",
          "dtype": "i2"
         },
         "yaxis": "y"
        },
        {
         "hovertemplate": "Country=Cuba<br>Continent=%{x}<br>TotalCases=%{y}<extra></extra>",
         "legendgroup": "Cuba",
         "marker": {
          "color": "#19d3f3",
          "pattern": {
           "shape": ""
          }
         },
         "name": "Cuba",
         "orientation": "v",
         "showlegend": true,
         "textposition": "auto",
         "type": "bar",
         "x": [
          "North America"
         ],
         "xaxis": "x",
         "y": {
          "bdata": "1wo=",
          "dtype": "i2"
         },
         "yaxis": "y"
        },
        {
         "hovertemplate": "Country=Cabo Verde<br>Continent=%{x}<br>TotalCases=%{y}<extra></extra>",
         "legendgroup": "Cabo Verde",
         "marker": {
          "color": "#FF6692",
          "pattern": {
           "shape": ""
          }
         },
         "name": "Cabo Verde",
         "orientation": "v",
         "showlegend": true,
         "textposition": "auto",
         "type": "bar",
         "x": [
          "Africa"
         ],
         "xaxis": "x",
         "y": {
          "bdata": "rgo=",
          "dtype": "i2"
         },
         "yaxis": "y"
        },
        {
         "hovertemplate": "Country=Namibia<br>Continent=%{x}<br>TotalCases=%{y}<extra></extra>",
         "legendgroup": "Namibia",
         "marker": {
          "color": "#B6E880",
          "pattern": {
           "shape": ""
          }
         },
         "name": "Namibia",
         "orientation": "v",
         "showlegend": true,
         "textposition": "auto",
         "type": "bar",
         "x": [
          "Africa"
         ],
         "xaxis": "x",
         "y": {
          "bdata": "XAo=",
          "dtype": "i2"
         },
         "yaxis": "y"
        },
        {
         "hovertemplate": "Country=Mali<br>Continent=%{x}<br>TotalCases=%{y}<extra></extra>",
         "legendgroup": "Mali",
         "marker": {
          "color": "#FF97FF",
          "pattern": {
           "shape": ""
          }
         },
         "name": "Mali",
         "orientation": "v",
         "showlegend": true,
         "textposition": "auto",
         "type": "bar",
         "x": [
          "Africa"
         ],
         "xaxis": "x",
         "y": {
          "bdata": "+Ak=",
          "dtype": "i2"
         },
         "yaxis": "y"
        },
        {
         "hovertemplate": "Country=Slovakia<br>Continent=%{x}<br>TotalCases=%{y}<extra></extra>",
         "legendgroup": "Slovakia",
         "marker": {
          "color": "#FECB52",
          "pattern": {
           "shape": ""
          }
         },
         "name": "Slovakia",
         "orientation": "v",
         "showlegend": true,
         "textposition": "auto",
         "type": "bar",
         "x": [
          "Europe"
         ],
         "xaxis": "x",
         "y": {
          "bdata": "sAk=",
          "dtype": "i2"
         },
         "yaxis": "y"
        },
        {
         "hovertemplate": "Country=South Sudan<br>Continent=%{x}<br>TotalCases=%{y}<extra></extra>",
         "legendgroup": "South Sudan",
         "marker": {
          "color": "#636efa",
          "pattern": {
           "shape": ""
          }
         },
         "name": "South Sudan",
         "orientation": "v",
         "showlegend": true,
         "textposition": "auto",
         "type": "bar",
         "x": [
          "Africa"
         ],
         "xaxis": "x",
         "y": {
          "bdata": "kgk=",
          "dtype": "i2"
         },
         "yaxis": "y"
        },
        {
         "hovertemplate": "Country=Slovenia<br>Continent=%{x}<br>TotalCases=%{y}<extra></extra>",
         "legendgroup": "Slovenia",
         "marker": {
          "color": "#EF553B",
          "pattern": {
           "shape": ""
          }
         },
         "name": "Slovenia",
         "orientation": "v",
         "showlegend": true,
         "textposition": "auto",
         "type": "bar",
         "x": [
          "Europe"
         ],
         "xaxis": "x",
         "y": {
          "bdata": "rwg=",
          "dtype": "i2"
         },
         "yaxis": "y"
        },
        {
         "hovertemplate": "Country=Lithuania<br>Continent=%{x}<br>TotalCases=%{y}<extra></extra>",
         "legendgroup": "Lithuania",
         "marker": {
          "color": "#00cc96",
          "pattern": {
           "shape": ""
          }
         },
         "name": "Lithuania",
         "orientation": "v",
         "showlegend": true,
         "textposition": "auto",
         "type": "bar",
         "x": [
          "Europe"
         ],
         "xaxis": "x",
         "y": {
          "bdata": "ewg=",
          "dtype": "i2"
         },
         "yaxis": "y"
        },
        {
         "hovertemplate": "Country=Estonia<br>Continent=%{x}<br>TotalCases=%{y}<extra></extra>",
         "legendgroup": "Estonia",
         "marker": {
          "color": "#ab63fa",
          "pattern": {
           "shape": ""
          }
         },
         "name": "Estonia",
         "orientation": "v",
         "showlegend": true,
         "textposition": "auto",
         "type": "bar",
         "x": [
          "Europe"
         ],
         "xaxis": "x",
         "y": {
          "bdata": "TAg=",
          "dtype": "i2"
         },
         "yaxis": "y"
        },
        {
         "hovertemplate": "Country=Mozambique<br>Continent=%{x}<br>TotalCases=%{y}<extra></extra>",
         "legendgroup": "Mozambique",
         "marker": {
          "color": "#FFA15A",
          "pattern": {
           "shape": ""
          }
         },
         "name": "Mozambique",
         "orientation": "v",
         "showlegend": true,
         "textposition": "auto",
         "type": "bar",
         "x": [
          "Africa"
         ],
         "xaxis": "x",
         "y": {
          "bdata": "SAg=",
          "dtype": "i2"
         },
         "yaxis": "y"
        },
        {
         "hovertemplate": "Country=Rwanda<br>Continent=%{x}<br>TotalCases=%{y}<extra></extra>",
         "legendgroup": "Rwanda",
         "marker": {
          "color": "#19d3f3",
          "pattern": {
           "shape": ""
          }
         },
         "name": "Rwanda",
         "orientation": "v",
         "showlegend": true,
         "textposition": "auto",
         "type": "bar",
         "x": [
          "Africa"
         ],
         "xaxis": "x",
         "y": {
          "bdata": "Pwg=",
          "dtype": "i2"
         },
         "yaxis": "y"
        },
        {
         "hovertemplate": "Country=Suriname<br>Continent=%{x}<br>TotalCases=%{y}<extra></extra>",
         "legendgroup": "Suriname",
         "marker": {
          "color": "#FF6692",
          "pattern": {
           "shape": ""
          }
         },
         "name": "Suriname",
         "orientation": "v",
         "showlegend": true,
         "textposition": "auto",
         "type": "bar",
         "x": [
          "South America"
         ],
         "xaxis": "x",
         "y": {
          "bdata": "MAg=",
          "dtype": "i2"
         },
         "yaxis": "y"
        },
        {
         "hovertemplate": "Country=Guinea-Bissau<br>Continent=%{x}<br>TotalCases=%{y}<extra></extra>",
         "legendgroup": "Guinea-Bissau",
         "marker": {
          "color": "#B6E880",
          "pattern": {
           "shape": ""
          }
         },
         "name": "Guinea-Bissau",
         "orientation": "v",
         "showlegend": true,
         "textposition": "auto",
         "type": "bar",
         "x": [
          "Africa"
         ],
         "xaxis": "x",
         "y": {
          "bdata": "8Ac=",
          "dtype": "i2"
         },
         "yaxis": "y"
        },
        {
         "hovertemplate": "Country=Benin<br>Continent=%{x}<br>TotalCases=%{y}<extra></extra>",
         "legendgroup": "Benin",
         "marker": {
          "color": "#FF97FF",
          "pattern": {
           "shape": ""
          }
         },
         "name": "Benin",
         "orientation": "v",
         "showlegend": true,
         "textposition": "auto",
         "type": "bar",
         "x": [
          "Africa"
         ],
         "xaxis": "x",
         "y": {
          "bdata": "kAc=",
          "dtype": "i2"
         },
         "yaxis": "y"
        },
        {
         "hovertemplate": "Country=Iceland<br>Continent=%{x}<br>TotalCases=%{y}<extra></extra>",
         "legendgroup": "Iceland",
         "marker": {
          "color": "#FECB52",
          "pattern": {
           "shape": ""
          }
         },
         "name": "Iceland",
         "orientation": "v",
         "showlegend": true,
         "textposition": "auto",
         "type": "bar",
         "x": [
          "Europe"
         ],
         "xaxis": "x",
         "y": {
          "bdata": "igc=",
          "dtype": "i2"
         },
         "yaxis": "y"
        },
        {
         "hovertemplate": "Country=Sierra Leone<br>Continent=%{x}<br>TotalCases=%{y}<extra></extra>",
         "legendgroup": "Sierra Leone",
         "marker": {
          "color": "#636efa",
          "pattern": {
           "shape": ""
          }
         },
         "name": "Sierra Leone",
         "orientation": "v",
         "showlegend": true,
         "textposition": "auto",
         "type": "bar",
         "x": [
          "Africa"
         ],
         "xaxis": "x",
         "y": {
          "bdata": "VQc=",
          "dtype": "i2"
         },
         "yaxis": "y"
        },
        {
         "hovertemplate": "Country=Yemen<br>Continent=%{x}<br>TotalCases=%{y}<extra></extra>",
         "legendgroup": "Yemen",
         "marker": {
          "color": "#EF553B",
          "pattern": {
           "shape": ""
          }
         },
         "name": "Yemen",
         "orientation": "v",
         "showlegend": true,
         "textposition": "auto",
         "type": "bar",
         "x": [
          "Asia"
         ],
         "xaxis": "x",
         "y": {
          "bdata": "6AY=",
          "dtype": "i2"
         },
         "yaxis": "y"
        },
        {
         "hovertemplate": "Country=Tunisia<br>Continent=%{x}<br>TotalCases=%{y}<extra></extra>",
         "legendgroup": "Tunisia",
         "marker": {
          "color": "#00cc96",
          "pattern": {
           "shape": ""
          }
         },
         "name": "Tunisia",
         "orientation": "v",
         "showlegend": true,
         "textposition": "auto",
         "type": "bar",
         "x": [
          "Africa"
         ],
         "xaxis": "x",
         "y": {
          "bdata": "agY=",
          "dtype": "i2"
         },
         "yaxis": "y"
        },
        {
         "hovertemplate": "Country=New Zealand<br>Continent=%{x}<br>TotalCases=%{y}<extra></extra>",
         "legendgroup": "New Zealand",
         "marker": {
          "color": "#ab63fa",
          "pattern": {
           "shape": ""
          }
         },
         "name": "New Zealand",
         "orientation": "v",
         "showlegend": true,
         "textposition": "auto",
         "type": "bar",
         "x": [
          "Australia/Oceania"
         ],
         "xaxis": "x",
         "y": {
          "bdata": "IQY=",
          "dtype": "i2"
         },
         "yaxis": "y"
        },
        {
         "hovertemplate": "Country=Angola<br>Continent=%{x}<br>TotalCases=%{y}<extra></extra>",
         "legendgroup": "Angola",
         "marker": {
          "color": "#FFA15A",
          "pattern": {
           "shape": ""
          }
         },
         "name": "Angola",
         "orientation": "v",
         "showlegend": true,
         "textposition": "auto",
         "type": "bar",
         "x": [
          "Africa"
         ],
         "xaxis": "x",
         "y": {
          "bdata": "ywU=",
          "dtype": "i2"
         },
         "yaxis": "y"
        },
        {
         "hovertemplate": "Country=Uruguay<br>Continent=%{x}<br>TotalCases=%{y}<extra></extra>",
         "legendgroup": "Uruguay",
         "marker": {
          "color": "#19d3f3",
          "pattern": {
           "shape": ""
          }
         },
         "name": "Uruguay",
         "orientation": "v",
         "showlegend": true,
         "textposition": "auto",
         "type": "bar",
         "x": [
          "South America"
         ],
         "xaxis": "x",
         "y": {
          "bdata": "JgU=",
          "dtype": "i2"
         },
         "yaxis": "y"
        },
        {
         "hovertemplate": "Country=Latvia<br>Continent=%{x}<br>TotalCases=%{y}<extra></extra>",
         "legendgroup": "Latvia",
         "marker": {
          "color": "#FF6692",
          "pattern": {
           "shape": ""
          }
         },
         "name": "Latvia",
         "orientation": "v",
         "showlegend": true,
         "textposition": "auto",
         "type": "bar",
         "x": [
          "Europe"
         ],
         "xaxis": "x",
         "y": {
          "bdata": "+wQ=",
          "dtype": "i2"
         },
         "yaxis": "y"
        },
        {
         "hovertemplate": "Country=Jordan<br>Continent=%{x}<br>TotalCases=%{y}<extra></extra>",
         "legendgroup": "Jordan",
         "marker": {
          "color": "#B6E880",
          "pattern": {
           "shape": ""
          }
         },
         "name": "Jordan",
         "orientation": "v",
         "showlegend": true,
         "textposition": "auto",
         "type": "bar",
         "x": [
          "Asia"
         ],
         "xaxis": "x",
         "y": {
          "bdata": "0AQ=",
          "dtype": "i2"
         },
         "yaxis": "y"
        },
        {
         "hovertemplate": "Country=Liberia<br>Continent=%{x}<br>TotalCases=%{y}<extra></extra>",
         "legendgroup": "Liberia",
         "marker": {
          "color": "#FF97FF",
          "pattern": {
           "shape": ""
          }
         },
         "name": "Liberia",
         "orientation": "v",
         "showlegend": true,
         "textposition": "auto",
         "type": "bar",
         "x": [
          "Africa"
         ],
         "xaxis": "x",
         "y": {
          "bdata": "yAQ=",
          "dtype": "i2"
         },
         "yaxis": "y"
        },
        {
         "hovertemplate": "Country=Uganda<br>Continent=%{x}<br>TotalCases=%{y}<extra></extra>",
         "legendgroup": "Uganda",
         "marker": {
          "color": "#FECB52",
          "pattern": {
           "shape": ""
          }
         },
         "name": "Uganda",
         "orientation": "v",
         "showlegend": true,
         "textposition": "auto",
         "type": "bar",
         "x": [
          "Africa"
         ],
         "xaxis": "x",
         "y": {
          "bdata": "xwQ=",
          "dtype": "i2"
         },
         "yaxis": "y"
        },
        {
         "hovertemplate": "Country=Cyprus<br>Continent=%{x}<br>TotalCases=%{y}<extra></extra>",
         "legendgroup": "Cyprus",
         "marker": {
          "color": "#636efa",
          "pattern": {
           "shape": ""
          }
         },
         "name": "Cyprus",
         "orientation": "v",
         "showlegend": true,
         "textposition": "auto",
         "type": "bar",
         "x": [
          "Asia"
         ],
         "xaxis": "x",
         "y": {
          "bdata": "uAQ=",
          "dtype": "i2"
         },
         "yaxis": "y"
        },
        {
         "hovertemplate": "Country=Georgia<br>Continent=%{x}<br>TotalCases=%{y}<extra></extra>",
         "legendgroup": "Georgia",
         "marker": {
          "color": "#EF553B",
          "pattern": {
           "shape": ""
          }
         },
         "name": "Georgia",
         "orientation": "v",
         "showlegend": true,
         "textposition": "auto",
         "type": "bar",
         "x": [
          "Asia"
         ],
         "xaxis": "x",
         "y": {
          "bdata": "tgQ=",
          "dtype": "i2"
         },
         "yaxis": "y"
        },
        {
         "hovertemplate": "Country=Burkina Faso<br>Continent=%{x}<br>TotalCases=%{y}<extra></extra>",
         "legendgroup": "Burkina Faso",
         "marker": {
          "color": "#00cc96",
          "pattern": {
           "shape": ""
          }
         },
         "name": "Burkina Faso",
         "orientation": "v",
         "showlegend": true,
         "textposition": "auto",
         "type": "bar",
         "x": [
          "Africa"
         ],
         "xaxis": "x",
         "y": {
          "bdata": "hgQ=",
          "dtype": "i2"
         },
         "yaxis": "y"
        },
        {
         "hovertemplate": "Country=Niger<br>Continent=%{x}<br>TotalCases=%{y}<extra></extra>",
         "legendgroup": "Niger",
         "marker": {
          "color": "#ab63fa",
          "pattern": {
           "shape": ""
          }
         },
         "name": "Niger",
         "orientation": "v",
         "showlegend": true,
         "textposition": "auto",
         "type": "bar",
         "x": [
          "Africa"
         ],
         "xaxis": "x",
         "y": {
          "bdata": "gQQ=",
          "dtype": "i2"
         },
         "yaxis": "y"
        },
        {
         "hovertemplate": "Country=Togo<br>Continent=%{x}<br>TotalCases=%{y}<extra></extra>",
         "legendgroup": "Togo",
         "marker": {
          "color": "#FFA15A",
          "pattern": {
           "shape": ""
          }
         },
         "name": "Togo",
         "orientation": "v",
         "showlegend": true,
         "textposition": "auto",
         "type": "bar",
         "x": [
          "Africa"
         ],
         "xaxis": "x",
         "y": {
          "bdata": "9AM=",
          "dtype": "i2"
         },
         "yaxis": "y"
        },
        {
         "hovertemplate": "Country=Syria<br>Continent=%{x}<br>TotalCases=%{y}<extra></extra>",
         "legendgroup": "Syria",
         "marker": {
          "color": "#19d3f3",
          "pattern": {
           "shape": ""
          }
         },
         "name": "Syria",
         "orientation": "v",
         "showlegend": true,
         "textposition": "auto",
         "type": "bar",
         "x": [
          "Asia"
         ],
         "xaxis": "x",
         "y": {
          "bdata": "5wM=",
          "dtype": "i2"
         },
         "yaxis": "y"
        },
        {
         "hovertemplate": "Country=Jamaica<br>Continent=%{x}<br>TotalCases=%{y}<extra></extra>",
         "legendgroup": "Jamaica",
         "marker": {
          "color": "#FF6692",
          "pattern": {
           "shape": ""
          }
         },
         "name": "Jamaica",
         "orientation": "v",
         "showlegend": true,
         "textposition": "auto",
         "type": "bar",
         "x": [
          "North America"
         ],
         "xaxis": "x",
         "y": {
          "bdata": "vgM=",
          "dtype": "i2"
         },
         "yaxis": "y"
        },
        {
         "hovertemplate": "Country=Malta<br>Continent=%{x}<br>TotalCases=%{y}<extra></extra>",
         "legendgroup": "Malta",
         "marker": {
          "color": "#B6E880",
          "pattern": {
           "shape": ""
          }
         },
         "name": "Malta",
         "orientation": "v",
         "showlegend": true,
         "textposition": "auto",
         "type": "bar",
         "x": [
          "Europe"
         ],
         "xaxis": "x",
         "y": {
          "bdata": "sgM=",
          "dtype": "i2"
         },
         "yaxis": "y"
        },
        {
         "hovertemplate": "Country=Andorra<br>Continent=%{x}<br>TotalCases=%{y}<extra></extra>",
         "legendgroup": "Andorra",
         "marker": {
          "color": "#FF97FF",
          "pattern": {
           "shape": ""
          }
         },
         "name": "Andorra",
         "orientation": "v",
         "showlegend": true,
         "textposition": "auto",
         "type": "bar",
         "x": [
          "Europe"
         ],
         "xaxis": "x",
         "y": {
          "bdata": "sAM=",
          "dtype": "i2"
         },
         "yaxis": "y"
        },
        {
         "hovertemplate": "Country=Chad<br>Continent=%{x}<br>TotalCases=%{y}<extra></extra>",
         "legendgroup": "Chad",
         "marker": {
          "color": "#FECB52",
          "pattern": {
           "shape": ""
          }
         },
         "name": "Chad",
         "orientation": "v",
         "showlegend": true,
         "textposition": "auto",
         "type": "bar",
         "x": [
          "Africa"
         ],
         "xaxis": "x",
         "y": {
          "bdata": "rgM=",
          "dtype": "i2"
         },
         "yaxis": "y"
        },
        {
         "hovertemplate": "Country=Gambia<br>Continent=%{x}<br>TotalCases=%{y}<extra></extra>",
         "legendgroup": "Gambia",
         "marker": {
          "color": "#636efa",
          "pattern": {
           "shape": ""
          }
         },
         "name": "Gambia",
         "orientation": "v",
         "showlegend": true,
         "textposition": "auto",
         "type": "bar",
         "x": [
          "Africa"
         ],
         "xaxis": "x",
         "y": {
          "bdata": "pwM=",
          "dtype": "i2"
         },
         "yaxis": "y"
        },
        {
         "hovertemplate": "Country=Sao Tome and Principe<br>Continent=%{x}<br>TotalCases=%{y}<extra></extra>",
         "legendgroup": "Sao Tome and Principe",
         "marker": {
          "color": "#EF553B",
          "pattern": {
           "shape": ""
          }
         },
         "name": "Sao Tome and Principe",
         "orientation": "v",
         "showlegend": true,
         "textposition": "auto",
         "type": "bar",
         "x": [
          "Africa"
         ],
         "xaxis": "x",
         "y": {
          "bdata": "bgM=",
          "dtype": "i2"
         },
         "yaxis": "y"
        },
        {
         "hovertemplate": "Country=Botswana<br>Continent=%{x}<br>TotalCases=%{y}<extra></extra>",
         "legendgroup": "Botswana",
         "marker": {
          "color": "#00cc96",
          "pattern": {
           "shape": ""
          }
         },
         "name": "Botswana",
         "orientation": "v",
         "showlegend": true,
         "textposition": "auto",
         "type": "bar",
         "x": [
          "Africa"
         ],
         "xaxis": "x",
         "y": {
          "bdata": "JAM=",
          "dtype": "i2"
         },
         "yaxis": "y"
        },
        {
         "hovertemplate": "Country=Bahamas<br>Continent=%{x}<br>TotalCases=%{y}<extra></extra>",
         "legendgroup": "Bahamas",
         "marker": {
          "color": "#ab63fa",
          "pattern": {
           "shape": ""
          }
         },
         "name": "Bahamas",
         "orientation": "v",
         "showlegend": true,
         "textposition": "auto",
         "type": "bar",
         "x": [
          "North America"
         ],
         "xaxis": "x",
         "y": {
          "bdata": "+QI=",
          "dtype": "i2"
         },
         "yaxis": "y"
        },
        {
         "hovertemplate": "Country=Vietnam<br>Continent=%{x}<br>TotalCases=%{y}<extra></extra>",
         "legendgroup": "Vietnam",
         "marker": {
          "color": "#FFA15A",
          "pattern": {
           "shape": ""
          }
         },
         "name": "Vietnam",
         "orientation": "v",
         "showlegend": true,
         "textposition": "auto",
         "type": "bar",
         "x": [
          "Asia"
         ],
         "xaxis": "x",
         "y": {
          "bdata": "6wI=",
          "dtype": "i2"
         },
         "yaxis": "y"
        },
        {
         "hovertemplate": "Country=Lesotho<br>Continent=%{x}<br>TotalCases=%{y}<extra></extra>",
         "legendgroup": "Lesotho",
         "marker": {
          "color": "#19d3f3",
          "pattern": {
           "shape": ""
          }
         },
         "name": "Lesotho",
         "orientation": "v",
         "showlegend": true,
         "textposition": "auto",
         "type": "bar",
         "x": [
          "Africa"
         ],
         "xaxis": "x",
         "y": {
          "bdata": "5gI=",
          "dtype": "i2"
         },
         "yaxis": "y"
        },
        {
         "hovertemplate": "Country=Diamond Princess<br>Continent=%{x}<br>TotalCases=%{y}<extra></extra>",
         "legendgroup": "Diamond Princess",
         "marker": {
          "color": "#FF6692",
          "pattern": {
           "shape": ""
          }
         },
         "name": "Diamond Princess",
         "orientation": "v",
         "showlegend": true,
         "textposition": "auto",
         "type": "bar",
         "x": [
          null
         ],
         "xaxis": "x",
         "y": {
          "bdata": "yAI=",
          "dtype": "i2"
         },
         "yaxis": "y"
        },
        {
         "hovertemplate": "Country=San Marino<br>Continent=%{x}<br>TotalCases=%{y}<extra></extra>",
         "legendgroup": "San Marino",
         "marker": {
          "color": "#B6E880",
          "pattern": {
           "shape": ""
          }
         },
         "name": "San Marino",
         "orientation": "v",
         "showlegend": true,
         "textposition": "auto",
         "type": "bar",
         "x": [
          "Europe"
         ],
         "xaxis": "x",
         "y": {
          "bdata": "uwI=",
          "dtype": "i2"
         },
         "yaxis": "y"
        },
        {
         "hovertemplate": "Country=Réunion<br>Continent=%{x}<br>TotalCases=%{y}<extra></extra>",
         "legendgroup": "Réunion",
         "marker": {
          "color": "#FF97FF",
          "pattern": {
           "shape": ""
          }
         },
         "name": "Réunion",
         "orientation": "v",
         "showlegend": true,
         "textposition": "auto",
         "type": "bar",
         "x": [
          "Africa"
         ],
         "xaxis": "x",
         "y": {
          "bdata": "nwI=",
          "dtype": "i2"
         },
         "yaxis": "y"
        },
        {
         "hovertemplate": "Country=Channel Islands<br>Continent=%{x}<br>TotalCases=%{y}<extra></extra>",
         "legendgroup": "Channel Islands",
         "marker": {
          "color": "#FECB52",
          "pattern": {
           "shape": ""
          }
         },
         "name": "Channel Islands",
         "orientation": "v",
         "showlegend": true,
         "textposition": "auto",
         "type": "bar",
         "x": [
          "Europe"
         ],
         "xaxis": "x",
         "y": {
          "bdata": "VQI=",
          "dtype": "i2"
         },
         "yaxis": "y"
        },
        {
         "hovertemplate": "Country=Guyana<br>Continent=%{x}<br>TotalCases=%{y}<extra></extra>",
         "legendgroup": "Guyana",
         "marker": {
          "color": "#636efa",
          "pattern": {
           "shape": ""
          }
         },
         "name": "Guyana",
         "orientation": "v",
         "showlegend": true,
         "textposition": "auto",
         "type": "bar",
         "x": [
          "South America"
         ],
         "xaxis": "x",
         "y": {
          "bdata": "GgI=",
          "dtype": "i2"
         },
         "yaxis": "y"
        },
        {
         "hovertemplate": "Country=Tanzania<br>Continent=%{x}<br>TotalCases=%{y}<extra></extra>",
         "legendgroup": "Tanzania",
         "marker": {
          "color": "#EF553B",
          "pattern": {
           "shape": ""
          }
         },
         "name": "Tanzania",
         "orientation": "v",
         "showlegend": true,
         "textposition": "auto",
         "type": "bar",
         "x": [
          "Africa"
         ],
         "xaxis": "x",
         "y": {
          "bdata": "/QE=",
          "dtype": "i2"
         },
         "yaxis": "y"
        },
        {
         "hovertemplate": "Country=Taiwan<br>Continent=%{x}<br>TotalCases=%{y}<extra></extra>",
         "legendgroup": "Taiwan",
         "marker": {
          "color": "#00cc96",
          "pattern": {
           "shape": ""
          }
         },
         "name": "Taiwan",
         "orientation": "v",
         "showlegend": true,
         "textposition": "auto",
         "type": "bar",
         "x": [
          "Asia"
         ],
         "xaxis": "x",
         "y": {
          "bdata": "3QE=",
          "dtype": "i2"
         },
         "yaxis": "y"
        },
        {
         "hovertemplate": "Country=Comoros<br>Continent=%{x}<br>TotalCases=%{y}<extra></extra>",
         "legendgroup": "Comoros",
         "marker": {
          "color": "#ab63fa",
          "pattern": {
           "shape": ""
          }
         },
         "name": "Comoros",
         "orientation": "v",
         "showlegend": true,
         "textposition": "auto",
         "type": "bar",
         "x": [
          "Africa"
         ],
         "xaxis": "x",
         "y": {
          "bdata": "jAE=",
          "dtype": "i2"
         },
         "yaxis": "y"
        },
        {
         "hovertemplate": "Country=Burundi<br>Continent=%{x}<br>TotalCases=%{y}<extra></extra>",
         "legendgroup": "Burundi",
         "marker": {
          "color": "#FFA15A",
          "pattern": {
           "shape": ""
          }
         },
         "name": "Burundi",
         "orientation": "v",
         "showlegend": true,
         "textposition": "auto",
         "type": "bar",
         "x": [
          "Africa"
         ],
         "xaxis": "x",
         "y": {
          "bdata": "iwE=",
          "dtype": "i2"
         },
         "yaxis": "y"
        },
        {
         "hovertemplate": "Country=Myanmar<br>Continent=%{x}<br>TotalCases=%{y}<extra></extra>",
         "legendgroup": "Myanmar",
         "marker": {
          "color": "#19d3f3",
          "pattern": {
           "shape": ""
          }
         },
         "name": "Myanmar",
         "orientation": "v",
         "showlegend": true,
         "textposition": "auto",
         "type": "bar",
         "x": [
          "Asia"
         ],
         "xaxis": "x",
         "y": {
          "bdata": "ZQE=",
          "dtype": "i2"
         },
         "yaxis": "y"
        },
        {
         "hovertemplate": "Country=Mauritius<br>Continent=%{x}<br>TotalCases=%{y}<extra></extra>",
         "legendgroup": "Mauritius",
         "marker": {
          "color": "#FF6692",
          "pattern": {
           "shape": ""
          }
         },
         "name": "Mauritius",
         "orientation": "v",
         "showlegend": true,
         "textposition": "auto",
         "type": "bar",
         "x": [
          "Africa"
         ],
         "xaxis": "x",
         "y": {
          "bdata": "WAE=",
          "dtype": "i2"
         },
         "yaxis": "y"
        },
        {
         "hovertemplate": "Country=Isle of Man<br>Continent=%{x}<br>TotalCases=%{y}<extra></extra>",
         "legendgroup": "Isle of Man",
         "marker": {
          "color": "#B6E880",
          "pattern": {
           "shape": ""
          }
         },
         "name": "Isle of Man",
         "orientation": "v",
         "showlegend": true,
         "textposition": "auto",
         "type": "bar",
         "x": [
          "Europe"
         ],
         "xaxis": "x",
         "y": {
          "bdata": "UAE=",
          "dtype": "i2"
         },
         "yaxis": "y"
        },
        {
         "hovertemplate": "Country=Mongolia<br>Continent=%{x}<br>TotalCases=%{y}<extra></extra>",
         "legendgroup": "Mongolia",
         "marker": {
          "color": "#FF97FF",
          "pattern": {
           "shape": ""
          }
         },
         "name": "Mongolia",
         "orientation": "v",
         "showlegend": true,
         "textposition": "auto",
         "type": "bar",
         "x": [
          "Asia"
         ],
         "xaxis": "x",
         "y": {
          "bdata": "JQE=",
          "dtype": "i2"
         },
         "yaxis": "y"
        },
        {
         "hovertemplate": "Country=Eritrea<br>Continent=%{x}<br>TotalCases=%{y}<extra></extra>",
         "legendgroup": "Eritrea",
         "marker": {
          "color": "#FECB52",
          "pattern": {
           "shape": ""
          }
         },
         "name": "Eritrea",
         "orientation": "v",
         "showlegend": true,
         "textposition": "auto",
         "type": "bar",
         "x": [
          "Africa"
         ],
         "xaxis": "x",
         "y": {
          "bdata": "GgE=",
          "dtype": "i2"
         },
         "yaxis": "y"
        },
        {
         "hovertemplate": "Country=Guadeloupe<br>Continent=%{x}<br>TotalCases=%{y}<extra></extra>",
         "legendgroup": "Guadeloupe",
         "marker": {
          "color": "#636efa",
          "pattern": {
           "shape": ""
          }
         },
         "name": "Guadeloupe",
         "orientation": "v",
         "showlegend": true,
         "textposition": "auto",
         "type": "bar",
         "x": [
          "North America"
         ],
         "xaxis": "x",
         "y": {
          "bdata": "FwE=",
          "dtype": "i2"
         },
         "yaxis": "y"
        },
        {
         "hovertemplate": "Country=Martinique<br>Continent=%{x}<br>TotalCases=%{y}<extra></extra>",
         "legendgroup": "Martinique",
         "marker": {
          "color": "#EF553B",
          "pattern": {
           "shape": ""
          }
         },
         "name": "Martinique",
         "orientation": "v",
         "showlegend": true,
         "textposition": "auto",
         "type": "bar",
         "x": [
          "North America"
         ],
         "xaxis": "x",
         "y": {
          "bdata": "FAE=",
          "dtype": "i2"
         },
         "yaxis": "y"
        },
        {
         "hovertemplate": "Country=Faeroe Islands<br>Continent=%{x}<br>TotalCases=%{y}<extra></extra>",
         "legendgroup": "Faeroe Islands",
         "marker": {
          "color": "#00cc96",
          "pattern": {
           "shape": ""
          }
         },
         "name": "Faeroe Islands",
         "orientation": "v",
         "showlegend": true,
         "textposition": "auto",
         "type": "bar",
         "x": [
          "Europe"
         ],
         "xaxis": "x",
         "y": {
          "bdata": "CgE=",
          "dtype": "i2"
         },
         "yaxis": "y"
        },
        {
         "hovertemplate": "Country=Aruba<br>Continent=%{x}<br>TotalCases=%{y}<extra></extra>",
         "legendgroup": "Aruba",
         "marker": {
          "color": "#ab63fa",
          "pattern": {
           "shape": ""
          }
         },
         "name": "Aruba",
         "orientation": "v",
         "showlegend": true,
         "textposition": "auto",
         "type": "bar",
         "x": [
          "North America"
         ],
         "xaxis": "x",
         "y": {
          "bdata": "BwE=",
          "dtype": "i2"
         },
         "yaxis": "y"
        },
        {
         "hovertemplate": "Country=Cambodia<br>Continent=%{x}<br>TotalCases=%{y}<extra></extra>",
         "legendgroup": "Cambodia",
         "marker": {
          "color": "#FFA15A",
          "pattern": {
           "shape": ""
          }
         },
         "name": "Cambodia",
         "orientation": "v",
         "showlegend": true,
         "textposition": "auto",
         "type": "bar",
         "x": [
          "Asia"
         ],
         "xaxis": "x",
         "y": {
          "bdata": "8wA=",
          "dtype": "i2"
         },
         "yaxis": "y"
        },
        {
         "hovertemplate": "Country=Trinidad and Tobago<br>Continent=%{x}<br>TotalCases=%{y}<extra></extra>",
         "legendgroup": "Trinidad and Tobago",
         "marker": {
          "color": "#19d3f3",
          "pattern": {
           "shape": ""
          }
         },
         "name": "Trinidad and Tobago",
         "orientation": "v",
         "showlegend": true,
         "textposition": "auto",
         "type": "bar",
         "x": [
          "North America"
         ],
         "xaxis": "x",
         "y": {
          "bdata": "0gA=",
          "dtype": "i2"
         },
         "yaxis": "y"
        },
        {
         "hovertemplate": "Country=Cayman Islands<br>Continent=%{x}<br>TotalCases=%{y}<extra></extra>",
         "legendgroup": "Cayman Islands",
         "marker": {
          "color": "#FF6692",
          "pattern": {
           "shape": ""
          }
         },
         "name": "Cayman Islands",
         "orientation": "v",
         "showlegend": true,
         "textposition": "auto",
         "type": "bar",
         "x": [
          "North America"
         ],
         "xaxis": "x",
         "y": {
          "bdata": "ywA=",
          "dtype": "i2"
         },
         "yaxis": "y"
        },
        {
         "hovertemplate": "Country=Gibraltar<br>Continent=%{x}<br>TotalCases=%{y}<extra></extra>",
         "legendgroup": "Gibraltar",
         "marker": {
          "color": "#B6E880",
          "pattern": {
           "shape": ""
          }
         },
         "name": "Gibraltar",
         "orientation": "v",
         "showlegend": true,
         "textposition": "auto",
         "type": "bar",
         "x": [
          "Europe"
         ],
         "xaxis": "x",
         "y": {
          "bdata": "vgA=",
          "dtype": "i2"
         },
         "yaxis": "y"
        },
        {
         "hovertemplate": "Country=Papua New Guinea<br>Continent=%{x}<br>TotalCases=%{y}<extra></extra>",
         "legendgroup": "Papua New Guinea",
         "marker": {
          "color": "#FF97FF",
          "pattern": {
           "shape": ""
          }
         },
         "name": "Papua New Guinea",
         "orientation": "v",
         "showlegend": true,
         "textposition": "auto",
         "type": "bar",
         "x": [
          "Australia/Oceania"
         ],
         "xaxis": "x",
         "y": {
          "bdata": "owA=",
          "dtype": "i2"
         },
         "yaxis": "y"
        },
        {
         "hovertemplate": "Country=Sint Maarten<br>Continent=%{x}<br>TotalCases=%{y}<extra></extra>",
         "legendgroup": "Sint Maarten",
         "marker": {
          "color": "#FECB52",
          "pattern": {
           "shape": ""
          }
         },
         "name": "Sint Maarten",
         "orientation": "v",
         "showlegend": true,
         "textposition": "auto",
         "type": "bar",
         "x": [
          "North America"
         ],
         "xaxis": "x",
         "y": {
          "bdata": "oAA=",
          "dtype": "i2"
         },
         "yaxis": "y"
        },
        {
         "hovertemplate": "Country=Bermuda<br>Continent=%{x}<br>TotalCases=%{y}<extra></extra>",
         "legendgroup": "Bermuda",
         "marker": {
          "color": "#636efa",
          "pattern": {
           "shape": ""
          }
         },
         "name": "Bermuda",
         "orientation": "v",
         "showlegend": true,
         "textposition": "auto",
         "type": "bar",
         "x": [
          "North America"
         ],
         "xaxis": "x",
         "y": {
          "bdata": "nQA=",
          "dtype": "i2"
         },
         "yaxis": "y"
        },
        {
         "hovertemplate": "Country=Brunei <br>Continent=%{x}<br>TotalCases=%{y}<extra></extra>",
         "legendgroup": "Brunei ",
         "marker": {
          "color": "#EF553B",
          "pattern": {
           "shape": ""
          }
         },
         "name": "Brunei ",
         "orientation": "v",
         "showlegend": true,
         "textposition": "auto",
         "type": "bar",
         "x": [
          "Asia"
         ],
         "xaxis": "x",
         "y": {
          "bdata": "jQA=",
          "dtype": "i2"
         },
         "yaxis": "y"
        },
        {
         "hovertemplate": "Country=Barbados<br>Continent=%{x}<br>TotalCases=%{y}<extra></extra>",
         "legendgroup": "Barbados",
         "marker": {
          "color": "#00cc96",
          "pattern": {
           "shape": ""
          }
         },
         "name": "Barbados",
         "orientation": "v",
         "showlegend": true,
         "textposition": "auto",
         "type": "bar",
         "x": [
          "North America"
         ],
         "xaxis": "x",
         "y": {
          "bdata": "hQA=",
          "dtype": "i2"
         },
         "yaxis": "y"
        },
        {
         "hovertemplate": "Country=Turks and Caicos<br>Continent=%{x}<br>TotalCases=%{y}<extra></extra>",
         "legendgroup": "Turks and Caicos",
         "marker": {
          "color": "#ab63fa",
          "pattern": {
           "shape": ""
          }
         },
         "name": "Turks and Caicos",
         "orientation": "v",
         "showlegend": true,
         "textposition": "auto",
         "type": "bar",
         "x": [
          "North America"
         ],
         "xaxis": "x",
         "y": {
          "bdata": "gQA=",
          "dtype": "i2"
         },
         "yaxis": "y"
        },
        {
         "hovertemplate": "Country=Seychelles<br>Continent=%{x}<br>TotalCases=%{y}<extra></extra>",
         "legendgroup": "Seychelles",
         "marker": {
          "color": "#FFA15A",
          "pattern": {
           "shape": ""
          }
         },
         "name": "Seychelles",
         "orientation": "v",
         "showlegend": true,
         "textposition": "auto",
         "type": "bar",
         "x": [
          "Africa"
         ],
         "xaxis": "x",
         "y": {
          "bdata": "fg==",
          "dtype": "i1"
         },
         "yaxis": "y"
        },
        {
         "hovertemplate": "Country=Monaco<br>Continent=%{x}<br>TotalCases=%{y}<extra></extra>",
         "legendgroup": "Monaco",
         "marker": {
          "color": "#19d3f3",
          "pattern": {
           "shape": ""
          }
         },
         "name": "Monaco",
         "orientation": "v",
         "showlegend": true,
         "textposition": "auto",
         "type": "bar",
         "x": [
          "Europe"
         ],
         "xaxis": "x",
         "y": {
          "bdata": "fQ==",
          "dtype": "i1"
         },
         "yaxis": "y"
        },
        {
         "hovertemplate": "Country=Bhutan<br>Continent=%{x}<br>TotalCases=%{y}<extra></extra>",
         "legendgroup": "Bhutan",
         "marker": {
          "color": "#FF6692",
          "pattern": {
           "shape": ""
          }
         },
         "name": "Bhutan",
         "orientation": "v",
         "showlegend": true,
         "textposition": "auto",
         "type": "bar",
         "x": [
          "Asia"
         ],
         "xaxis": "x",
         "y": {
          "bdata": "aQ==",
          "dtype": "i1"
         },
         "yaxis": "y"
        },
        {
         "hovertemplate": "Country=Antigua and Barbuda<br>Continent=%{x}<br>TotalCases=%{y}<extra></extra>",
         "legendgroup": "Antigua and Barbuda",
         "marker": {
          "color": "#B6E880",
          "pattern": {
           "shape": ""
          }
         },
         "name": "Antigua and Barbuda",
         "orientation": "v",
         "showlegend": true,
         "textposition": "auto",
         "type": "bar",
         "x": [
          "North America"
         ],
         "xaxis": "x",
         "y": {
          "bdata": "XA==",
          "dtype": "i1"
         },
         "yaxis": "y"
        },
        {
         "hovertemplate": "Country=Liechtenstein<br>Continent=%{x}<br>TotalCases=%{y}<extra></extra>",
         "legendgroup": "Liechtenstein",
         "marker": {
          "color": "#FF97FF",
          "pattern": {
           "shape": ""
          }
         },
         "name": "Liechtenstein",
         "orientation": "v",
         "showlegend": true,
         "textposition": "auto",
         "type": "bar",
         "x": [
          "Europe"
         ],
         "xaxis": "x",
         "y": {
          "bdata": "WQ==",
          "dtype": "i1"
         },
         "yaxis": "y"
        },
        {
         "hovertemplate": "Country=Belize<br>Continent=%{x}<br>TotalCases=%{y}<extra></extra>",
         "legendgroup": "Belize",
         "marker": {
          "color": "#FECB52",
          "pattern": {
           "shape": ""
          }
         },
         "name": "Belize",
         "orientation": "v",
         "showlegend": true,
         "textposition": "auto",
         "type": "bar",
         "x": [
          "North America"
         ],
         "xaxis": "x",
         "y": {
          "bdata": "Vg==",
          "dtype": "i1"
         },
         "yaxis": "y"
        },
        {
         "hovertemplate": "Country=French Polynesia<br>Continent=%{x}<br>TotalCases=%{y}<extra></extra>",
         "legendgroup": "French Polynesia",
         "marker": {
          "color": "#636efa",
          "pattern": {
           "shape": ""
          }
         },
         "name": "French Polynesia",
         "orientation": "v",
         "showlegend": true,
         "textposition": "auto",
         "type": "bar",
         "x": [
          "Australia/Oceania"
         ],
         "xaxis": "x",
         "y": {
          "bdata": "QA==",
          "dtype": "i1"
         },
         "yaxis": "y"
        },
        {
         "hovertemplate": "Country=St. Vincent Grenadines<br>Continent=%{x}<br>TotalCases=%{y}<extra></extra>",
         "legendgroup": "St. Vincent Grenadines",
         "marker": {
          "color": "#EF553B",
          "pattern": {
           "shape": ""
          }
         },
         "name": "St. Vincent Grenadines",
         "orientation": "v",
         "showlegend": true,
         "textposition": "auto",
         "type": "bar",
         "x": [
          "North America"
         ],
         "xaxis": "x",
         "y": {
          "bdata": "OA==",
          "dtype": "i1"
         },
         "yaxis": "y"
        },
        {
         "hovertemplate": "Country=Saint Martin<br>Continent=%{x}<br>TotalCases=%{y}<extra></extra>",
         "legendgroup": "Saint Martin",
         "marker": {
          "color": "#00cc96",
          "pattern": {
           "shape": ""
          }
         },
         "name": "Saint Martin",
         "orientation": "v",
         "showlegend": true,
         "textposition": "auto",
         "type": "bar",
         "x": [
          "North America"
         ],
         "xaxis": "x",
         "y": {
          "bdata": "NQ==",
          "dtype": "i1"
         },
         "yaxis": "y"
        },
        {
         "hovertemplate": "Country=Macao<br>Continent=%{x}<br>TotalCases=%{y}<extra></extra>",
         "legendgroup": "Macao",
         "marker": {
          "color": "#ab63fa",
          "pattern": {
           "shape": ""
          }
         },
         "name": "Macao",
         "orientation": "v",
         "showlegend": true,
         "textposition": "auto",
         "type": "bar",
         "x": [
          "Asia"
         ],
         "xaxis": "x",
         "y": {
          "bdata": "Lg==",
          "dtype": "i1"
         },
         "yaxis": "y"
        },
        {
         "hovertemplate": "Country=Curaçao<br>Continent=%{x}<br>TotalCases=%{y}<extra></extra>",
         "legendgroup": "Curaçao",
         "marker": {
          "color": "#FFA15A",
          "pattern": {
           "shape": ""
          }
         },
         "name": "Curaçao",
         "orientation": "v",
         "showlegend": true,
         "textposition": "auto",
         "type": "bar",
         "x": [
          "North America"
         ],
         "xaxis": "x",
         "y": {
          "bdata": "Hw==",
          "dtype": "i1"
         },
         "yaxis": "y"
        },
        {
         "hovertemplate": "Country=Fiji<br>Continent=%{x}<br>TotalCases=%{y}<extra></extra>",
         "legendgroup": "Fiji",
         "marker": {
          "color": "#19d3f3",
          "pattern": {
           "shape": ""
          }
         },
         "name": "Fiji",
         "orientation": "v",
         "showlegend": true,
         "textposition": "auto",
         "type": "bar",
         "x": [
          "Australia/Oceania"
         ],
         "xaxis": "x",
         "y": {
          "bdata": "Gw==",
          "dtype": "i1"
         },
         "yaxis": "y"
        },
        {
         "hovertemplate": "Country=Saint Lucia<br>Continent=%{x}<br>TotalCases=%{y}<extra></extra>",
         "legendgroup": "Saint Lucia",
         "marker": {
          "color": "#FF6692",
          "pattern": {
           "shape": ""
          }
         },
         "name": "Saint Lucia",
         "orientation": "v",
         "showlegend": true,
         "textposition": "auto",
         "type": "bar",
         "x": [
          "North America"
         ],
         "xaxis": "x",
         "y": {
          "bdata": "GQ==",
          "dtype": "i1"
         },
         "yaxis": "y"
        },
        {
         "hovertemplate": "Country=Timor-Leste<br>Continent=%{x}<br>TotalCases=%{y}<extra></extra>",
         "legendgroup": "Timor-Leste",
         "marker": {
          "color": "#B6E880",
          "pattern": {
           "shape": ""
          }
         },
         "name": "Timor-Leste",
         "orientation": "v",
         "showlegend": true,
         "textposition": "auto",
         "type": "bar",
         "x": [
          "Asia"
         ],
         "xaxis": "x",
         "y": {
          "bdata": "GQ==",
          "dtype": "i1"
         },
         "yaxis": "y"
        },
        {
         "hovertemplate": "Country=Grenada<br>Continent=%{x}<br>TotalCases=%{y}<extra></extra>",
         "legendgroup": "Grenada",
         "marker": {
          "color": "#FF97FF",
          "pattern": {
           "shape": ""
          }
         },
         "name": "Grenada",
         "orientation": "v",
         "showlegend": true,
         "textposition": "auto",
         "type": "bar",
         "x": [
          "North America"
         ],
         "xaxis": "x",
         "y": {
          "bdata": "GA==",
          "dtype": "i1"
         },
         "yaxis": "y"
        },
        {
         "hovertemplate": "Country=New Caledonia<br>Continent=%{x}<br>TotalCases=%{y}<extra></extra>",
         "legendgroup": "New Caledonia",
         "marker": {
          "color": "#FECB52",
          "pattern": {
           "shape": ""
          }
         },
         "name": "New Caledonia",
         "orientation": "v",
         "showlegend": true,
         "textposition": "auto",
         "type": "bar",
         "x": [
          "Australia/Oceania"
         ],
         "xaxis": "x",
         "y": {
          "bdata": "Fg==",
          "dtype": "i1"
         },
         "yaxis": "y"
        },
        {
         "hovertemplate": "Country=Laos<br>Continent=%{x}<br>TotalCases=%{y}<extra></extra>",
         "legendgroup": "Laos",
         "marker": {
          "color": "#636efa",
          "pattern": {
           "shape": ""
          }
         },
         "name": "Laos",
         "orientation": "v",
         "showlegend": true,
         "textposition": "auto",
         "type": "bar",
         "x": [
          "Asia"
         ],
         "xaxis": "x",
         "y": {
          "bdata": "FA==",
          "dtype": "i1"
         },
         "yaxis": "y"
        },
        {
         "hovertemplate": "Country=Dominica<br>Continent=%{x}<br>TotalCases=%{y}<extra></extra>",
         "legendgroup": "Dominica",
         "marker": {
          "color": "#EF553B",
          "pattern": {
           "shape": ""
          }
         },
         "name": "Dominica",
         "orientation": "v",
         "showlegend": true,
         "textposition": "auto",
         "type": "bar",
         "x": [
          "North America"
         ],
         "xaxis": "x",
         "y": {
          "bdata": "Eg==",
          "dtype": "i1"
         },
         "yaxis": "y"
        },
        {
         "hovertemplate": "Country=Saint Kitts and Nevis<br>Continent=%{x}<br>TotalCases=%{y}<extra></extra>",
         "legendgroup": "Saint Kitts and Nevis",
         "marker": {
          "color": "#00cc96",
          "pattern": {
           "shape": ""
          }
         },
         "name": "Saint Kitts and Nevis",
         "orientation": "v",
         "showlegend": true,
         "textposition": "auto",
         "type": "bar",
         "x": [
          "North America"
         ],
         "xaxis": "x",
         "y": {
          "bdata": "EQ==",
          "dtype": "i1"
         },
         "yaxis": "y"
        },
        {
         "hovertemplate": "Country=Greenland<br>Continent=%{x}<br>TotalCases=%{y}<extra></extra>",
         "legendgroup": "Greenland",
         "marker": {
          "color": "#ab63fa",
          "pattern": {
           "shape": ""
          }
         },
         "name": "Greenland",
         "orientation": "v",
         "showlegend": true,
         "textposition": "auto",
         "type": "bar",
         "x": [
          "North America"
         ],
         "xaxis": "x",
         "y": {
          "bdata": "Dg==",
          "dtype": "i1"
         },
         "yaxis": "y"
        },
        {
         "hovertemplate": "Country=Montserrat<br>Continent=%{x}<br>TotalCases=%{y}<extra></extra>",
         "legendgroup": "Montserrat",
         "marker": {
          "color": "#FFA15A",
          "pattern": {
           "shape": ""
          }
         },
         "name": "Montserrat",
         "orientation": "v",
         "showlegend": true,
         "textposition": "auto",
         "type": "bar",
         "x": [
          "North America"
         ],
         "xaxis": "x",
         "y": {
          "bdata": "DQ==",
          "dtype": "i1"
         },
         "yaxis": "y"
        },
        {
         "hovertemplate": "Country=Caribbean Netherlands<br>Continent=%{x}<br>TotalCases=%{y}<extra></extra>",
         "legendgroup": "Caribbean Netherlands",
         "marker": {
          "color": "#19d3f3",
          "pattern": {
           "shape": ""
          }
         },
         "name": "Caribbean Netherlands",
         "orientation": "v",
         "showlegend": true,
         "textposition": "auto",
         "type": "bar",
         "x": [
          "North America"
         ],
         "xaxis": "x",
         "y": {
          "bdata": "DQ==",
          "dtype": "i1"
         },
         "yaxis": "y"
        },
        {
         "hovertemplate": "Country=Falkland Islands<br>Continent=%{x}<br>TotalCases=%{y}<extra></extra>",
         "legendgroup": "Falkland Islands",
         "marker": {
          "color": "#FF6692",
          "pattern": {
           "shape": ""
          }
         },
         "name": "Falkland Islands",
         "orientation": "v",
         "showlegend": true,
         "textposition": "auto",
         "type": "bar",
         "x": [
          "South America"
         ],
         "xaxis": "x",
         "y": {
          "bdata": "DQ==",
          "dtype": "i1"
         },
         "yaxis": "y"
        },
        {
         "hovertemplate": "Country=Vatican City<br>Continent=%{x}<br>TotalCases=%{y}<extra></extra>",
         "legendgroup": "Vatican City",
         "marker": {
          "color": "#B6E880",
          "pattern": {
           "shape": ""
          }
         },
         "name": "Vatican City",
         "orientation": "v",
         "showlegend": true,
         "textposition": "auto",
         "type": "bar",
         "x": [
          "Europe"
         ],
         "xaxis": "x",
         "y": {
          "bdata": "DA==",
          "dtype": "i1"
         },
         "yaxis": "y"
        },
        {
         "hovertemplate": "Country=Western Sahara<br>Continent=%{x}<br>TotalCases=%{y}<extra></extra>",
         "legendgroup": "Western Sahara",
         "marker": {
          "color": "#FF97FF",
          "pattern": {
           "shape": ""
          }
         },
         "name": "Western Sahara",
         "orientation": "v",
         "showlegend": true,
         "textposition": "auto",
         "type": "bar",
         "x": [
          "Africa"
         ],
         "xaxis": "x",
         "y": {
          "bdata": "Cg==",
          "dtype": "i1"
         },
         "yaxis": "y"
        }
       ],
       "layout": {
        "barmode": "relative",
        "legend": {
         "title": {
          "text": "Country"
         },
         "tracegroupgap": 0
        },
        "margin": {
         "t": 60
        },
        "template": {
         "data": {
          "bar": [
           {
            "error_x": {
             "color": "#2a3f5f"
            },
            "error_y": {
             "color": "#2a3f5f"
            },
            "marker": {
             "line": {
              "color": "#E5ECF6",
              "width": 0.5
             },
             "pattern": {
              "fillmode": "overlay",
              "size": 10,
              "solidity": 0.2
             }
            },
            "type": "bar"
           }
          ],
          "barpolar": [
           {
            "marker": {
             "line": {
              "color": "#E5ECF6",
              "width": 0.5
             },
             "pattern": {
              "fillmode": "overlay",
              "size": 10,
              "solidity": 0.2
             }
            },
            "type": "barpolar"
           }
          ],
          "carpet": [
           {
            "aaxis": {
             "endlinecolor": "#2a3f5f",
             "gridcolor": "white",
             "linecolor": "white",
             "minorgridcolor": "white",
             "startlinecolor": "#2a3f5f"
            },
            "baxis": {
             "endlinecolor": "#2a3f5f",
             "gridcolor": "white",
             "linecolor": "white",
             "minorgridcolor": "white",
             "startlinecolor": "#2a3f5f"
            },
            "type": "carpet"
           }
          ],
          "choropleth": [
           {
            "colorbar": {
             "outlinewidth": 0,
             "ticks": ""
            },
            "type": "choropleth"
           }
          ],
          "contour": [
           {
            "colorbar": {
             "outlinewidth": 0,
             "ticks": ""
            },
            "colorscale": [
             [
              0,
              "#0d0887"
             ],
             [
              0.1111111111111111,
              "#46039f"
             ],
             [
              0.2222222222222222,
              "#7201a8"
             ],
             [
              0.3333333333333333,
              "#9c179e"
             ],
             [
              0.4444444444444444,
              "#bd3786"
             ],
             [
              0.5555555555555556,
              "#d8576b"
             ],
             [
              0.6666666666666666,
              "#ed7953"
             ],
             [
              0.7777777777777778,
              "#fb9f3a"
             ],
             [
              0.8888888888888888,
              "#fdca26"
             ],
             [
              1,
              "#f0f921"
             ]
            ],
            "type": "contour"
           }
          ],
          "contourcarpet": [
           {
            "colorbar": {
             "outlinewidth": 0,
             "ticks": ""
            },
            "type": "contourcarpet"
           }
          ],
          "heatmap": [
           {
            "colorbar": {
             "outlinewidth": 0,
             "ticks": ""
            },
            "colorscale": [
             [
              0,
              "#0d0887"
             ],
             [
              0.1111111111111111,
              "#46039f"
             ],
             [
              0.2222222222222222,
              "#7201a8"
             ],
             [
              0.3333333333333333,
              "#9c179e"
             ],
             [
              0.4444444444444444,
              "#bd3786"
             ],
             [
              0.5555555555555556,
              "#d8576b"
             ],
             [
              0.6666666666666666,
              "#ed7953"
             ],
             [
              0.7777777777777778,
              "#fb9f3a"
             ],
             [
              0.8888888888888888,
              "#fdca26"
             ],
             [
              1,
              "#f0f921"
             ]
            ],
            "type": "heatmap"
           }
          ],
          "histogram": [
           {
            "marker": {
             "pattern": {
              "fillmode": "overlay",
              "size": 10,
              "solidity": 0.2
             }
            },
            "type": "histogram"
           }
          ],
          "histogram2d": [
           {
            "colorbar": {
             "outlinewidth": 0,
             "ticks": ""
            },
            "colorscale": [
             [
              0,
              "#0d0887"
             ],
             [
              0.1111111111111111,
              "#46039f"
             ],
             [
              0.2222222222222222,
              "#7201a8"
             ],
             [
              0.3333333333333333,
              "#9c179e"
             ],
             [
              0.4444444444444444,
              "#bd3786"
             ],
             [
              0.5555555555555556,
              "#d8576b"
             ],
             [
              0.6666666666666666,
              "#ed7953"
             ],
             [
              0.7777777777777778,
              "#fb9f3a"
             ],
             [
              0.8888888888888888,
              "#fdca26"
             ],
             [
              1,
              "#f0f921"
             ]
            ],
            "type": "histogram2d"
           }
          ],
          "histogram2dcontour": [
           {
            "colorbar": {
             "outlinewidth": 0,
             "ticks": ""
            },
            "colorscale": [
             [
              0,
              "#0d0887"
             ],
             [
              0.1111111111111111,
              "#46039f"
             ],
             [
              0.2222222222222222,
              "#7201a8"
             ],
             [
              0.3333333333333333,
              "#9c179e"
             ],
             [
              0.4444444444444444,
              "#bd3786"
             ],
             [
              0.5555555555555556,
              "#d8576b"
             ],
             [
              0.6666666666666666,
              "#ed7953"
             ],
             [
              0.7777777777777778,
              "#fb9f3a"
             ],
             [
              0.8888888888888888,
              "#fdca26"
             ],
             [
              1,
              "#f0f921"
             ]
            ],
            "type": "histogram2dcontour"
           }
          ],
          "mesh3d": [
           {
            "colorbar": {
             "outlinewidth": 0,
             "ticks": ""
            },
            "type": "mesh3d"
           }
          ],
          "parcoords": [
           {
            "line": {
             "colorbar": {
              "outlinewidth": 0,
              "ticks": ""
             }
            },
            "type": "parcoords"
           }
          ],
          "pie": [
           {
            "automargin": true,
            "type": "pie"
           }
          ],
          "scatter": [
           {
            "fillpattern": {
             "fillmode": "overlay",
             "size": 10,
             "solidity": 0.2
            },
            "type": "scatter"
           }
          ],
          "scatter3d": [
           {
            "line": {
             "colorbar": {
              "outlinewidth": 0,
              "ticks": ""
             }
            },
            "marker": {
             "colorbar": {
              "outlinewidth": 0,
              "ticks": ""
             }
            },
            "type": "scatter3d"
           }
          ],
          "scattercarpet": [
           {
            "marker": {
             "colorbar": {
              "outlinewidth": 0,
              "ticks": ""
             }
            },
            "type": "scattercarpet"
           }
          ],
          "scattergeo": [
           {
            "marker": {
             "colorbar": {
              "outlinewidth": 0,
              "ticks": ""
             }
            },
            "type": "scattergeo"
           }
          ],
          "scattergl": [
           {
            "marker": {
             "colorbar": {
              "outlinewidth": 0,
              "ticks": ""
             }
            },
            "type": "scattergl"
           }
          ],
          "scattermap": [
           {
            "marker": {
             "colorbar": {
              "outlinewidth": 0,
              "ticks": ""
             }
            },
            "type": "scattermap"
           }
          ],
          "scattermapbox": [
           {
            "marker": {
             "colorbar": {
              "outlinewidth": 0,
              "ticks": ""
             }
            },
            "type": "scattermapbox"
           }
          ],
          "scatterpolar": [
           {
            "marker": {
             "colorbar": {
              "outlinewidth": 0,
              "ticks": ""
             }
            },
            "type": "scatterpolar"
           }
          ],
          "scatterpolargl": [
           {
            "marker": {
             "colorbar": {
              "outlinewidth": 0,
              "ticks": ""
             }
            },
            "type": "scatterpolargl"
           }
          ],
          "scatterternary": [
           {
            "marker": {
             "colorbar": {
              "outlinewidth": 0,
              "ticks": ""
             }
            },
            "type": "scatterternary"
           }
          ],
          "surface": [
           {
            "colorbar": {
             "outlinewidth": 0,
             "ticks": ""
            },
            "colorscale": [
             [
              0,
              "#0d0887"
             ],
             [
              0.1111111111111111,
              "#46039f"
             ],
             [
              0.2222222222222222,
              "#7201a8"
             ],
             [
              0.3333333333333333,
              "#9c179e"
             ],
             [
              0.4444444444444444,
              "#bd3786"
             ],
             [
              0.5555555555555556,
              "#d8576b"
             ],
             [
              0.6666666666666666,
              "#ed7953"
             ],
             [
              0.7777777777777778,
              "#fb9f3a"
             ],
             [
              0.8888888888888888,
              "#fdca26"
             ],
             [
              1,
              "#f0f921"
             ]
            ],
            "type": "surface"
           }
          ],
          "table": [
           {
            "cells": {
             "fill": {
              "color": "#EBF0F8"
             },
             "line": {
              "color": "white"
             }
            },
            "header": {
             "fill": {
              "color": "#C8D4E3"
             },
             "line": {
              "color": "white"
             }
            },
            "type": "table"
           }
          ]
         },
         "layout": {
          "annotationdefaults": {
           "arrowcolor": "#2a3f5f",
           "arrowhead": 0,
           "arrowwidth": 1
          },
          "autotypenumbers": "strict",
          "coloraxis": {
           "colorbar": {
            "outlinewidth": 0,
            "ticks": ""
           }
          },
          "colorscale": {
           "diverging": [
            [
             0,
             "#8e0152"
            ],
            [
             0.1,
             "#c51b7d"
            ],
            [
             0.2,
             "#de77ae"
            ],
            [
             0.3,
             "#f1b6da"
            ],
            [
             0.4,
             "#fde0ef"
            ],
            [
             0.5,
             "#f7f7f7"
            ],
            [
             0.6,
             "#e6f5d0"
            ],
            [
             0.7,
             "#b8e186"
            ],
            [
             0.8,
             "#7fbc41"
            ],
            [
             0.9,
             "#4d9221"
            ],
            [
             1,
             "#276419"
            ]
           ],
           "sequential": [
            [
             0,
             "#0d0887"
            ],
            [
             0.1111111111111111,
             "#46039f"
            ],
            [
             0.2222222222222222,
             "#7201a8"
            ],
            [
             0.3333333333333333,
             "#9c179e"
            ],
            [
             0.4444444444444444,
             "#bd3786"
            ],
            [
             0.5555555555555556,
             "#d8576b"
            ],
            [
             0.6666666666666666,
             "#ed7953"
            ],
            [
             0.7777777777777778,
             "#fb9f3a"
            ],
            [
             0.8888888888888888,
             "#fdca26"
            ],
            [
             1,
             "#f0f921"
            ]
           ],
           "sequentialminus": [
            [
             0,
             "#0d0887"
            ],
            [
             0.1111111111111111,
             "#46039f"
            ],
            [
             0.2222222222222222,
             "#7201a8"
            ],
            [
             0.3333333333333333,
             "#9c179e"
            ],
            [
             0.4444444444444444,
             "#bd3786"
            ],
            [
             0.5555555555555556,
             "#d8576b"
            ],
            [
             0.6666666666666666,
             "#ed7953"
            ],
            [
             0.7777777777777778,
             "#fb9f3a"
            ],
            [
             0.8888888888888888,
             "#fdca26"
            ],
            [
             1,
             "#f0f921"
            ]
           ]
          },
          "colorway": [
           "#636efa",
           "#EF553B",
           "#00cc96",
           "#ab63fa",
           "#FFA15A",
           "#19d3f3",
           "#FF6692",
           "#B6E880",
           "#FF97FF",
           "#FECB52"
          ],
          "font": {
           "color": "#2a3f5f"
          },
          "geo": {
           "bgcolor": "white",
           "lakecolor": "white",
           "landcolor": "#E5ECF6",
           "showlakes": true,
           "showland": true,
           "subunitcolor": "white"
          },
          "hoverlabel": {
           "align": "left"
          },
          "hovermode": "closest",
          "mapbox": {
           "style": "light"
          },
          "paper_bgcolor": "white",
          "plot_bgcolor": "#E5ECF6",
          "polar": {
           "angularaxis": {
            "gridcolor": "white",
            "linecolor": "white",
            "ticks": ""
           },
           "bgcolor": "#E5ECF6",
           "radialaxis": {
            "gridcolor": "white",
            "linecolor": "white",
            "ticks": ""
           }
          },
          "scene": {
           "xaxis": {
            "backgroundcolor": "#E5ECF6",
            "gridcolor": "white",
            "gridwidth": 2,
            "linecolor": "white",
            "showbackground": true,
            "ticks": "",
            "zerolinecolor": "white"
           },
           "yaxis": {
            "backgroundcolor": "#E5ECF6",
            "gridcolor": "white",
            "gridwidth": 2,
            "linecolor": "white",
            "showbackground": true,
            "ticks": "",
            "zerolinecolor": "white"
           },
           "zaxis": {
            "backgroundcolor": "#E5ECF6",
            "gridcolor": "white",
            "gridwidth": 2,
            "linecolor": "white",
            "showbackground": true,
            "ticks": "",
            "zerolinecolor": "white"
           }
          },
          "shapedefaults": {
           "line": {
            "color": "#2a3f5f"
           }
          },
          "ternary": {
           "aaxis": {
            "gridcolor": "white",
            "linecolor": "white",
            "ticks": ""
           },
           "baxis": {
            "gridcolor": "white",
            "linecolor": "white",
            "ticks": ""
           },
           "bgcolor": "#E5ECF6",
           "caxis": {
            "gridcolor": "white",
            "linecolor": "white",
            "ticks": ""
           }
          },
          "title": {
           "x": 0.05
          },
          "xaxis": {
           "automargin": true,
           "gridcolor": "white",
           "linecolor": "white",
           "ticks": "",
           "title": {
            "standoff": 15
           },
           "zerolinecolor": "white",
           "zerolinewidth": 2
          },
          "yaxis": {
           "automargin": true,
           "gridcolor": "white",
           "linecolor": "white",
           "ticks": "",
           "title": {
            "standoff": 15
           },
           "zerolinecolor": "white",
           "zerolinewidth": 2
          }
         }
        },
        "xaxis": {
         "anchor": "y",
         "domain": [
          0,
          1
         ],
         "title": {
          "text": "Continent"
         }
        },
        "yaxis": {
         "anchor": "x",
         "domain": [
          0,
          1
         ],
         "title": {
          "text": "TotalCases"
         }
        }
       }
      }
     },
     "metadata": {},
     "output_type": "display_data"
    }
   ],
   "source": [
    "#import the plotly express - Interactive Visualization. \n",
    "# We are going to provide another alternative interactive solution to create the bar, line (3d), scatter using \n",
    "#plotly express\n",
    "#install library :: py -m pip install plotly \n",
    "\n",
    "import plotly.express as px\n",
    "\n",
    "#implement the Bar chart using plotly express \n",
    "px.bar(covid,x='Continent',y='TotalCases',color='Country')"
   ]
  },
  {
   "cell_type": "code",
   "execution_count": 20,
   "id": "dbb10737",
   "metadata": {},
   "outputs": [
    {
     "data": {
      "application/vnd.plotly.v1+json": {
       "config": {
        "plotlyServerURL": "https://plot.ly"
       },
       "data": [
        {
         "hovertemplate": "Country=%{y}<br>Continent=%{x}<br>TotalDeaths=%{z}<extra></extra>",
         "legendgroup": "USA",
         "marker": {
          "color": "#636efa",
          "symbol": "circle"
         },
         "mode": "markers",
         "name": "USA",
         "scene": "scene",
         "showlegend": true,
         "type": "scatter3d",
         "x": [
          "North America"
         ],
         "y": [
          "USA"
         ],
         "z": {
          "bdata": "AAAAAKDfA0E=",
          "dtype": "f8"
         }
        },
        {
         "hovertemplate": "Country=%{y}<br>Continent=%{x}<br>TotalDeaths=%{z}<extra></extra>",
         "legendgroup": "Brazil",
         "marker": {
          "color": "#EF553B",
          "symbol": "circle"
         },
         "mode": "markers",
         "name": "Brazil",
         "scene": "scene",
         "showlegend": true,
         "type": "scatter3d",
         "x": [
          "South America"
         ],
         "y": [
          "Brazil"
         ],
         "z": {
          "bdata": "AAAAAEAV+EA=",
          "dtype": "f8"
         }
        },
        {
         "hovertemplate": "Country=%{y}<br>Continent=%{x}<br>TotalDeaths=%{z}<extra></extra>",
         "legendgroup": "India",
         "marker": {
          "color": "#00cc96",
          "symbol": "circle"
         },
         "mode": "markers",
         "name": "India",
         "scene": "scene",
         "showlegend": true,
         "type": "scatter3d",
         "x": [
          "Asia"
         ],
         "y": [
          "India"
         ],
         "z": {
          "bdata": "AAAAAMBU5EA=",
          "dtype": "f8"
         }
        },
        {
         "hovertemplate": "Country=%{y}<br>Continent=%{x}<br>TotalDeaths=%{z}<extra></extra>",
         "legendgroup": "Russia",
         "marker": {
          "color": "#ab63fa",
          "symbol": "circle"
         },
         "mode": "markers",
         "name": "Russia",
         "scene": "scene",
         "showlegend": true,
         "type": "scatter3d",
         "x": [
          "Europe"
         ],
         "y": [
          "Russia"
         ],
         "z": {
          "bdata": "AAAAAACHzEA=",
          "dtype": "f8"
         }
        },
        {
         "hovertemplate": "Country=%{y}<br>Continent=%{x}<br>TotalDeaths=%{z}<extra></extra>",
         "legendgroup": "South Africa",
         "marker": {
          "color": "#FFA15A",
          "symbol": "circle"
         },
         "mode": "markers",
         "name": "South Africa",
         "scene": "scene",
         "showlegend": true,
         "type": "scatter3d",
         "x": [
          "Africa"
         ],
         "y": [
          "South Africa"
         ],
         "z": {
          "bdata": "AAAAAADCwkA=",
          "dtype": "f8"
         }
        },
        {
         "hovertemplate": "Country=%{y}<br>Continent=%{x}<br>TotalDeaths=%{z}<extra></extra>",
         "legendgroup": "Mexico",
         "marker": {
          "color": "#19d3f3",
          "symbol": "circle"
         },
         "mode": "markers",
         "name": "Mexico",
         "scene": "scene",
         "showlegend": true,
         "type": "scatter3d",
         "x": [
          "North America"
         ],
         "y": [
          "Mexico"
         ],
         "z": {
          "bdata": "AAAAAKCq6EA=",
          "dtype": "f8"
         }
        },
        {
         "hovertemplate": "Country=%{y}<br>Continent=%{x}<br>TotalDeaths=%{z}<extra></extra>",
         "legendgroup": "Peru",
         "marker": {
          "color": "#FF6692",
          "symbol": "circle"
         },
         "mode": "markers",
         "name": "Peru",
         "scene": "scene",
         "showlegend": true,
         "type": "scatter3d",
         "x": [
          "South America"
         ],
         "y": [
          "Peru"
         ],
         "z": {
          "bdata": "AAAAAADy00A=",
          "dtype": "f8"
         }
        },
        {
         "hovertemplate": "Country=%{y}<br>Continent=%{x}<br>TotalDeaths=%{z}<extra></extra>",
         "legendgroup": "Chile",
         "marker": {
          "color": "#B6E880",
          "symbol": "circle"
         },
         "mode": "markers",
         "name": "Chile",
         "scene": "scene",
         "showlegend": true,
         "type": "scatter3d",
         "x": [
          "South America"
         ],
         "y": [
          "Chile"
         ],
         "z": {
          "bdata": "AAAAAIBQw0A=",
          "dtype": "f8"
         }
        },
        {
         "hovertemplate": "Country=%{y}<br>Continent=%{x}<br>TotalDeaths=%{z}<extra></extra>",
         "legendgroup": "Colombia",
         "marker": {
          "color": "#FF97FF",
          "symbol": "circle"
         },
         "mode": "markers",
         "name": "Colombia",
         "scene": "scene",
         "showlegend": true,
         "type": "scatter3d",
         "x": [
          "South America"
         ],
         "y": [
          "Colombia"
         ],
         "z": {
          "bdata": "AAAAAIBRx0A=",
          "dtype": "f8"
         }
        },
        {
         "hovertemplate": "Country=%{y}<br>Continent=%{x}<br>TotalDeaths=%{z}<extra></extra>",
         "legendgroup": "Spain",
         "marker": {
          "color": "#FECB52",
          "symbol": "circle"
         },
         "mode": "markers",
         "name": "Spain",
         "scene": "scene",
         "showlegend": true,
         "type": "scatter3d",
         "x": [
          "Europe"
         ],
         "y": [
          "Spain"
         ],
         "z": {
          "bdata": "AAAAAADV20A=",
          "dtype": "f8"
         }
        },
        {
         "hovertemplate": "Country=%{y}<br>Continent=%{x}<br>TotalDeaths=%{z}<extra></extra>",
         "legendgroup": "Iran",
         "marker": {
          "color": "#636efa",
          "symbol": "circle"
         },
         "mode": "markers",
         "name": "Iran",
         "scene": "scene",
         "showlegend": true,
         "type": "scatter3d",
         "x": [
          "Asia"
         ],
         "y": [
          "Iran"
         ],
         "z": {
          "bdata": "AAAAAACO0UA=",
          "dtype": "f8"
         }
        },
        {
         "hovertemplate": "Country=%{y}<br>Continent=%{x}<br>TotalDeaths=%{z}<extra></extra>",
         "legendgroup": "UK",
         "marker": {
          "color": "#EF553B",
          "symbol": "circle"
         },
         "mode": "markers",
         "name": "UK",
         "scene": "scene",
         "showlegend": true,
         "type": "scatter3d",
         "x": [
          "Europe"
         ],
         "y": [
          "UK"
         ],
         "z": {
          "bdata": "AAAAAKCp5kA=",
          "dtype": "f8"
         }
        },
        {
         "hovertemplate": "Country=%{y}<br>Continent=%{x}<br>TotalDeaths=%{z}<extra></extra>",
         "legendgroup": "Saudi Arabia",
         "marker": {
          "color": "#00cc96",
          "symbol": "circle"
         },
         "mode": "markers",
         "name": "Saudi Arabia",
         "scene": "scene",
         "showlegend": true,
         "type": "scatter3d",
         "x": [
          "Asia"
         ],
         "y": [
          "Saudi Arabia"
         ],
         "z": {
          "bdata": "AAAAAADep0A=",
          "dtype": "f8"
         }
        },
        {
         "hovertemplate": "Country=%{y}<br>Continent=%{x}<br>TotalDeaths=%{z}<extra></extra>",
         "legendgroup": "Pakistan",
         "marker": {
          "color": "#ab63fa",
          "symbol": "circle"
         },
         "mode": "markers",
         "name": "Pakistan",
         "scene": "scene",
         "showlegend": true,
         "type": "scatter3d",
         "x": [
          "Asia"
         ],
         "y": [
          "Pakistan"
         ],
         "z": {
          "bdata": "AAAAAACTt0A=",
          "dtype": "f8"
         }
        },
        {
         "hovertemplate": "Country=%{y}<br>Continent=%{x}<br>TotalDeaths=%{z}<extra></extra>",
         "legendgroup": "Bangladesh",
         "marker": {
          "color": "#FFA15A",
          "symbol": "circle"
         },
         "mode": "markers",
         "name": "Bangladesh",
         "scene": "scene",
         "showlegend": true,
         "type": "scatter3d",
         "x": [
          "Asia"
         ],
         "y": [
          "Bangladesh"
         ],
         "z": {
          "bdata": "AAAAAADUqUA=",
          "dtype": "f8"
         }
        },
        {
         "hovertemplate": "Country=%{y}<br>Continent=%{x}<br>TotalDeaths=%{z}<extra></extra>",
         "legendgroup": "Italy",
         "marker": {
          "color": "#19d3f3",
          "symbol": "circle"
         },
         "mode": "markers",
         "name": "Italy",
         "scene": "scene",
         "showlegend": true,
         "type": "scatter3d",
         "x": [
          "Europe"
         ],
         "y": [
          "Italy"
         ],
         "z": {
          "bdata": "AAAAAGAu4UA=",
          "dtype": "f8"
         }
        },
        {
         "hovertemplate": "Country=%{y}<br>Continent=%{x}<br>TotalDeaths=%{z}<extra></extra>",
         "legendgroup": "Turkey",
         "marker": {
          "color": "#FF6692",
          "symbol": "circle"
         },
         "mode": "markers",
         "name": "Turkey",
         "scene": "scene",
         "showlegend": true,
         "type": "scatter3d",
         "x": [
          "Asia"
         ],
         "y": [
          "Turkey"
         ],
         "z": {
          "bdata": "AAAAAACmtkA=",
          "dtype": "f8"
         }
        },
        {
         "hovertemplate": "Country=%{y}<br>Continent=%{x}<br>TotalDeaths=%{z}<extra></extra>",
         "legendgroup": "Argentina",
         "marker": {
          "color": "#B6E880",
          "symbol": "circle"
         },
         "mode": "markers",
         "name": "Argentina",
         "scene": "scene",
         "showlegend": true,
         "type": "scatter3d",
         "x": [
          "South America"
         ],
         "y": [
          "Argentina"
         ],
         "z": {
          "bdata": "AAAAAACbsEA=",
          "dtype": "f8"
         }
        },
        {
         "hovertemplate": "Country=%{y}<br>Continent=%{x}<br>TotalDeaths=%{z}<extra></extra>",
         "legendgroup": "Germany",
         "marker": {
          "color": "#FF97FF",
          "symbol": "circle"
         },
         "mode": "markers",
         "name": "Germany",
         "scene": "scene",
         "showlegend": true,
         "type": "scatter3d",
         "x": [
          "Europe"
         ],
         "y": [
          "Germany"
         ],
         "z": {
          "bdata": "AAAAAAASwkA=",
          "dtype": "f8"
         }
        },
        {
         "hovertemplate": "Country=%{y}<br>Continent=%{x}<br>TotalDeaths=%{z}<extra></extra>",
         "legendgroup": "France",
         "marker": {
          "color": "#FECB52",
          "symbol": "circle"
         },
         "mode": "markers",
         "name": "France",
         "scene": "scene",
         "showlegend": true,
         "type": "scatter3d",
         "x": [
          "Europe"
         ],
         "y": [
          "France"
         ],
         "z": {
          "bdata": "AAAAAACa3UA=",
          "dtype": "f8"
         }
        },
        {
         "hovertemplate": "Country=%{y}<br>Continent=%{x}<br>TotalDeaths=%{z}<extra></extra>",
         "legendgroup": "Iraq",
         "marker": {
          "color": "#636efa",
          "symbol": "circle"
         },
         "mode": "markers",
         "name": "Iraq",
         "scene": "scene",
         "showlegend": true,
         "type": "scatter3d",
         "x": [
          "Asia"
         ],
         "y": [
          "Iraq"
         ],
         "z": {
          "bdata": "AAAAAAAptEA=",
          "dtype": "f8"
         }
        },
        {
         "hovertemplate": "Country=%{y}<br>Continent=%{x}<br>TotalDeaths=%{z}<extra></extra>",
         "legendgroup": "Philippines",
         "marker": {
          "color": "#EF553B",
          "symbol": "circle"
         },
         "mode": "markers",
         "name": "Philippines",
         "scene": "scene",
         "showlegend": true,
         "type": "scatter3d",
         "x": [
          "Asia"
         ],
         "y": [
          "Philippines"
         ],
         "z": {
          "bdata": "AAAAAADMoEA=",
          "dtype": "f8"
         }
        },
        {
         "hovertemplate": "Country=%{y}<br>Continent=%{x}<br>TotalDeaths=%{z}<extra></extra>",
         "legendgroup": "Indonesia",
         "marker": {
          "color": "#00cc96",
          "symbol": "circle"
         },
         "mode": "markers",
         "name": "Indonesia",
         "scene": "scene",
         "showlegend": true,
         "type": "scatter3d",
         "x": [
          "Asia"
         ],
         "y": [
          "Indonesia"
         ],
         "z": {
          "bdata": "AAAAAACRtUA=",
          "dtype": "f8"
         }
        },
        {
         "hovertemplate": "Country=%{y}<br>Continent=%{x}<br>TotalDeaths=%{z}<extra></extra>",
         "legendgroup": "Canada",
         "marker": {
          "color": "#ab63fa",
          "symbol": "circle"
         },
         "mode": "markers",
         "name": "Canada",
         "scene": "scene",
         "showlegend": true,
         "type": "scatter3d",
         "x": [
          "North America"
         ],
         "y": [
          "Canada"
         ],
         "z": {
          "bdata": "AAAAAACDwUA=",
          "dtype": "f8"
         }
        },
        {
         "hovertemplate": "Country=%{y}<br>Continent=%{x}<br>TotalDeaths=%{z}<extra></extra>",
         "legendgroup": "Qatar",
         "marker": {
          "color": "#FFA15A",
          "symbol": "circle"
         },
         "mode": "markers",
         "name": "Qatar",
         "scene": "scene",
         "showlegend": true,
         "type": "scatter3d",
         "x": [
          "Asia"
         ],
         "y": [
          "Qatar"
         ],
         "z": {
          "bdata": "AAAAAABAZkA=",
          "dtype": "f8"
         }
        },
        {
         "hovertemplate": "Country=%{y}<br>Continent=%{x}<br>TotalDeaths=%{z}<extra></extra>",
         "legendgroup": "Kazakhstan",
         "marker": {
          "color": "#19d3f3",
          "symbol": "circle"
         },
         "mode": "markers",
         "name": "Kazakhstan",
         "scene": "scene",
         "showlegend": true,
         "type": "scatter3d",
         "x": [
          "Asia"
         ],
         "y": [
          "Kazakhstan"
         ],
         "z": {
          "bdata": "AAAAAACIkEA=",
          "dtype": "f8"
         }
        },
        {
         "hovertemplate": "Country=%{y}<br>Continent=%{x}<br>TotalDeaths=%{z}<extra></extra>",
         "legendgroup": "Egypt",
         "marker": {
          "color": "#FF6692",
          "symbol": "circle"
         },
         "mode": "markers",
         "name": "Egypt",
         "scene": "scene",
         "showlegend": true,
         "type": "scatter3d",
         "x": [
          "Africa"
         ],
         "y": [
          "Egypt"
         ],
         "z": {
          "bdata": "AAAAAABXs0A=",
          "dtype": "f8"
         }
        },
        {
         "hovertemplate": "Country=%{y}<br>Continent=%{x}<br>TotalDeaths=%{z}<extra></extra>",
         "legendgroup": "Ecuador",
         "marker": {
          "color": "#B6E880",
          "symbol": "circle"
         },
         "mode": "markers",
         "name": "Ecuador",
         "scene": "scene",
         "showlegend": true,
         "type": "scatter3d",
         "x": [
          "South America"
         ],
         "y": [
          "Ecuador"
         ],
         "z": {
          "bdata": "AAAAAAD1tkA=",
          "dtype": "f8"
         }
        },
        {
         "hovertemplate": "Country=%{y}<br>Continent=%{x}<br>TotalDeaths=%{z}<extra></extra>",
         "legendgroup": "Bolivia",
         "marker": {
          "color": "#FF97FF",
          "symbol": "circle"
         },
         "mode": "markers",
         "name": "Bolivia",
         "scene": "scene",
         "showlegend": true,
         "type": "scatter3d",
         "x": [
          "South America"
         ],
         "y": [
          "Bolivia"
         ],
         "z": {
          "bdata": "AAAAAAASq0A=",
          "dtype": "f8"
         }
        },
        {
         "hovertemplate": "Country=%{y}<br>Continent=%{x}<br>TotalDeaths=%{z}<extra></extra>",
         "legendgroup": "Sweden",
         "marker": {
          "color": "#FECB52",
          "symbol": "circle"
         },
         "mode": "markers",
         "name": "Sweden",
         "scene": "scene",
         "showlegend": true,
         "type": "scatter3d",
         "x": [
          "Europe"
         ],
         "y": [
          "Sweden"
         ],
         "z": {
          "bdata": "AAAAAACGtkA=",
          "dtype": "f8"
         }
        },
        {
         "hovertemplate": "Country=%{y}<br>Continent=%{x}<br>TotalDeaths=%{z}<extra></extra>",
         "legendgroup": "Oman",
         "marker": {
          "color": "#636efa",
          "symbol": "circle"
         },
         "mode": "markers",
         "name": "Oman",
         "scene": "scene",
         "showlegend": true,
         "type": "scatter3d",
         "x": [
          "Asia"
         ],
         "y": [
          "Oman"
         ],
         "z": {
          "bdata": "AAAAAADAfkA=",
          "dtype": "f8"
         }
        },
        {
         "hovertemplate": "Country=%{y}<br>Continent=%{x}<br>TotalDeaths=%{z}<extra></extra>",
         "legendgroup": "Israel",
         "marker": {
          "color": "#EF553B",
          "symbol": "circle"
         },
         "mode": "markers",
         "name": "Israel",
         "scene": "scene",
         "showlegend": true,
         "type": "scatter3d",
         "x": [
          "Asia"
         ],
         "y": [
          "Israel"
         ],
         "z": {
          "bdata": "AAAAAAAAgkA=",
          "dtype": "f8"
         }
        },
        {
         "hovertemplate": "Country=%{y}<br>Continent=%{x}<br>TotalDeaths=%{z}<extra></extra>",
         "legendgroup": "Ukraine",
         "marker": {
          "color": "#00cc96",
          "symbol": "circle"
         },
         "mode": "markers",
         "name": "Ukraine",
         "scene": "scene",
         "showlegend": true,
         "type": "scatter3d",
         "x": [
          "Europe"
         ],
         "y": [
          "Ukraine"
         ],
         "z": {
          "bdata": "AAAAAABsnEA=",
          "dtype": "f8"
         }
        },
        {
         "hovertemplate": "Country=%{y}<br>Continent=%{x}<br>TotalDeaths=%{z}<extra></extra>",
         "legendgroup": "Dominican Republic",
         "marker": {
          "color": "#ab63fa",
          "symbol": "circle"
         },
         "mode": "markers",
         "name": "Dominican Republic",
         "scene": "scene",
         "showlegend": true,
         "type": "scatter3d",
         "x": [
          "North America"
         ],
         "y": [
          "Dominican Republic"
         ],
         "z": {
          "bdata": "AAAAAAB4k0A=",
          "dtype": "f8"
         }
        },
        {
         "hovertemplate": "Country=%{y}<br>Continent=%{x}<br>TotalDeaths=%{z}<extra></extra>",
         "legendgroup": "Panama",
         "marker": {
          "color": "#FFA15A",
          "symbol": "circle"
         },
         "mode": "markers",
         "name": "Panama",
         "scene": "scene",
         "showlegend": true,
         "type": "scatter3d",
         "x": [
          "North America"
         ],
         "y": [
          "Panama"
         ],
         "z": {
          "bdata": "AAAAAACYmEA=",
          "dtype": "f8"
         }
        },
        {
         "hovertemplate": "Country=%{y}<br>Continent=%{x}<br>TotalDeaths=%{z}<extra></extra>",
         "legendgroup": "Belgium",
         "marker": {
          "color": "#19d3f3",
          "symbol": "circle"
         },
         "mode": "markers",
         "name": "Belgium",
         "scene": "scene",
         "showlegend": true,
         "type": "scatter3d",
         "x": [
          "Europe"
         ],
         "y": [
          "Belgium"
         ],
         "z": {
          "bdata": "AAAAAIBBw0A=",
          "dtype": "f8"
         }
        },
        {
         "hovertemplate": "Country=%{y}<br>Continent=%{x}<br>TotalDeaths=%{z}<extra></extra>",
         "legendgroup": "Kuwait",
         "marker": {
          "color": "#FF6692",
          "symbol": "circle"
         },
         "mode": "markers",
         "name": "Kuwait",
         "scene": "scene",
         "showlegend": true,
         "type": "scatter3d",
         "x": [
          "Asia"
         ],
         "y": [
          "Kuwait"
         ],
         "z": {
          "bdata": "AAAAAABQfUA=",
          "dtype": "f8"
         }
        },
        {
         "hovertemplate": "Country=%{y}<br>Continent=%{x}<br>TotalDeaths=%{z}<extra></extra>",
         "legendgroup": "Belarus",
         "marker": {
          "color": "#B6E880",
          "symbol": "circle"
         },
         "mode": "markers",
         "name": "Belarus",
         "scene": "scene",
         "showlegend": true,
         "type": "scatter3d",
         "x": [
          "Europe"
         ],
         "y": [
          "Belarus"
         ],
         "z": {
          "bdata": "AAAAAAAggkA=",
          "dtype": "f8"
         }
        },
        {
         "hovertemplate": "Country=%{y}<br>Continent=%{x}<br>TotalDeaths=%{z}<extra></extra>",
         "legendgroup": "UAE",
         "marker": {
          "color": "#FF97FF",
          "symbol": "circle"
         },
         "mode": "markers",
         "name": "UAE",
         "scene": "scene",
         "showlegend": true,
         "type": "scatter3d",
         "x": [
          "Asia"
         ],
         "y": [
          "UAE"
         ],
         "z": {
          "bdata": "AAAAAAAgdkA=",
          "dtype": "f8"
         }
        },
        {
         "hovertemplate": "Country=%{y}<br>Continent=%{x}<br>TotalDeaths=%{z}<extra></extra>",
         "legendgroup": "Romania",
         "marker": {
          "color": "#FECB52",
          "symbol": "circle"
         },
         "mode": "markers",
         "name": "Romania",
         "scene": "scene",
         "showlegend": true,
         "type": "scatter3d",
         "x": [
          "Europe"
         ],
         "y": [
          "Romania"
         ],
         "z": {
          "bdata": "AAAAAAAMpEA=",
          "dtype": "f8"
         }
        },
        {
         "hovertemplate": "Country=%{y}<br>Continent=%{x}<br>TotalDeaths=%{z}<extra></extra>",
         "legendgroup": "Netherlands",
         "marker": {
          "color": "#636efa",
          "symbol": "circle"
         },
         "mode": "markers",
         "name": "Netherlands",
         "scene": "scene",
         "showlegend": true,
         "type": "scatter3d",
         "x": [
          "Europe"
         ],
         "y": [
          "Netherlands"
         ],
         "z": {
          "bdata": "AAAAAAAJuEA=",
          "dtype": "f8"
         }
        },
        {
         "hovertemplate": "Country=%{y}<br>Continent=%{x}<br>TotalDeaths=%{z}<extra></extra>",
         "legendgroup": "Singapore",
         "marker": {
          "color": "#EF553B",
          "symbol": "circle"
         },
         "mode": "markers",
         "name": "Singapore",
         "scene": "scene",
         "showlegend": true,
         "type": "scatter3d",
         "x": [
          "Asia"
         ],
         "y": [
          "Singapore"
         ],
         "z": {
          "bdata": "AAAAAAAAO0A=",
          "dtype": "f8"
         }
        },
        {
         "hovertemplate": "Country=%{y}<br>Continent=%{x}<br>TotalDeaths=%{z}<extra></extra>",
         "legendgroup": "Guatemala",
         "marker": {
          "color": "#00cc96",
          "symbol": "circle"
         },
         "mode": "markers",
         "name": "Guatemala",
         "scene": "scene",
         "showlegend": true,
         "type": "scatter3d",
         "x": [
          "North America"
         ],
         "y": [
          "Guatemala"
         ],
         "z": {
          "bdata": "AAAAAACOoEA=",
          "dtype": "f8"
         }
        },
        {
         "hovertemplate": "Country=%{y}<br>Continent=%{x}<br>TotalDeaths=%{z}<extra></extra>",
         "legendgroup": "Portugal",
         "marker": {
          "color": "#ab63fa",
          "symbol": "circle"
         },
         "mode": "markers",
         "name": "Portugal",
         "scene": "scene",
         "showlegend": true,
         "type": "scatter3d",
         "x": [
          "Europe"
         ],
         "y": [
          "Portugal"
         ],
         "z": {
          "bdata": "AAAAAAA8m0A=",
          "dtype": "f8"
         }
        },
        {
         "hovertemplate": "Country=%{y}<br>Continent=%{x}<br>TotalDeaths=%{z}<extra></extra>",
         "legendgroup": "Poland",
         "marker": {
          "color": "#FFA15A",
          "symbol": "circle"
         },
         "mode": "markers",
         "name": "Poland",
         "scene": "scene",
         "showlegend": true,
         "type": "scatter3d",
         "x": [
          "Europe"
         ],
         "y": [
          "Poland"
         ],
         "z": {
          "bdata": "AAAAAAC4m0A=",
          "dtype": "f8"
         }
        },
        {
         "hovertemplate": "Country=%{y}<br>Continent=%{x}<br>TotalDeaths=%{z}<extra></extra>",
         "legendgroup": "Nigeria",
         "marker": {
          "color": "#19d3f3",
          "symbol": "circle"
         },
         "mode": "markers",
         "name": "Nigeria",
         "scene": "scene",
         "showlegend": true,
         "type": "scatter3d",
         "x": [
          "Africa"
         ],
         "y": [
          "Nigeria"
         ],
         "z": {
          "bdata": "AAAAAAAQjUA=",
          "dtype": "f8"
         }
        },
        {
         "hovertemplate": "Country=%{y}<br>Continent=%{x}<br>TotalDeaths=%{z}<extra></extra>",
         "legendgroup": "Honduras",
         "marker": {
          "color": "#FF6692",
          "symbol": "circle"
         },
         "mode": "markers",
         "name": "Honduras",
         "scene": "scene",
         "showlegend": true,
         "type": "scatter3d",
         "x": [
          "North America"
         ],
         "y": [
          "Honduras"
         ],
         "z": {
          "bdata": "AAAAAAA8lkA=",
          "dtype": "f8"
         }
        },
        {
         "hovertemplate": "Country=%{y}<br>Continent=%{x}<br>TotalDeaths=%{z}<extra></extra>",
         "legendgroup": "Bahrain",
         "marker": {
          "color": "#B6E880",
          "symbol": "circle"
         },
         "mode": "markers",
         "name": "Bahrain",
         "scene": "scene",
         "showlegend": true,
         "type": "scatter3d",
         "x": [
          "Asia"
         ],
         "y": [
          "Bahrain"
         ],
         "z": {
          "bdata": "AAAAAACAY0A=",
          "dtype": "f8"
         }
        },
        {
         "hovertemplate": "Country=%{y}<br>Continent=%{x}<br>TotalDeaths=%{z}<extra></extra>",
         "legendgroup": "Japan",
         "marker": {
          "color": "#FF97FF",
          "symbol": "circle"
         },
         "mode": "markers",
         "name": "Japan",
         "scene": "scene",
         "showlegend": true,
         "type": "scatter3d",
         "x": [
          "Asia"
         ],
         "y": [
          "Japan"
         ],
         "z": {
          "bdata": "AAAAAAAIkEA=",
          "dtype": "f8"
         }
        },
        {
         "hovertemplate": "Country=%{y}<br>Continent=%{x}<br>TotalDeaths=%{z}<extra></extra>",
         "legendgroup": "Armenia",
         "marker": {
          "color": "#FECB52",
          "symbol": "circle"
         },
         "mode": "markers",
         "name": "Armenia",
         "scene": "scene",
         "showlegend": true,
         "type": "scatter3d",
         "x": [
          "Asia"
         ],
         "y": [
          "Armenia"
         ],
         "z": {
          "bdata": "AAAAAAAgiEA=",
          "dtype": "f8"
         }
        },
        {
         "hovertemplate": "Country=%{y}<br>Continent=%{x}<br>TotalDeaths=%{z}<extra></extra>",
         "legendgroup": "Ghana",
         "marker": {
          "color": "#636efa",
          "symbol": "circle"
         },
         "mode": "markers",
         "name": "Ghana",
         "scene": "scene",
         "showlegend": true,
         "type": "scatter3d",
         "x": [
          "Africa"
         ],
         "y": [
          "Ghana"
         ],
         "z": {
          "bdata": "AAAAAADgaEA=",
          "dtype": "f8"
         }
        },
        {
         "hovertemplate": "Country=%{y}<br>Continent=%{x}<br>TotalDeaths=%{z}<extra></extra>",
         "legendgroup": "Kyrgyzstan",
         "marker": {
          "color": "#EF553B",
          "symbol": "circle"
         },
         "mode": "markers",
         "name": "Kyrgyzstan",
         "scene": "scene",
         "showlegend": true,
         "type": "scatter3d",
         "x": [
          "Asia"
         ],
         "y": [
          "Kyrgyzstan"
         ],
         "z": {
          "bdata": "AAAAAACclkA=",
          "dtype": "f8"
         }
        },
        {
         "hovertemplate": "Country=%{y}<br>Continent=%{x}<br>TotalDeaths=%{z}<extra></extra>",
         "legendgroup": "Afghanistan",
         "marker": {
          "color": "#00cc96",
          "symbol": "circle"
         },
         "mode": "markers",
         "name": "Afghanistan",
         "scene": "scene",
         "showlegend": true,
         "type": "scatter3d",
         "x": [
          "Asia"
         ],
         "y": [
          "Afghanistan"
         ],
         "z": {
          "bdata": "AAAAAABIlEA=",
          "dtype": "f8"
         }
        },
        {
         "hovertemplate": "Country=%{y}<br>Continent=%{x}<br>TotalDeaths=%{z}<extra></extra>",
         "legendgroup": "Switzerland",
         "marker": {
          "color": "#ab63fa",
          "symbol": "circle"
         },
         "mode": "markers",
         "name": "Switzerland",
         "scene": "scene",
         "showlegend": true,
         "type": "scatter3d",
         "x": [
          "Europe"
         ],
         "y": [
          "Switzerland"
         ],
         "z": {
          "bdata": "AAAAAAAEn0A=",
          "dtype": "f8"
         }
        },
        {
         "hovertemplate": "Country=%{y}<br>Continent=%{x}<br>TotalDeaths=%{z}<extra></extra>",
         "legendgroup": "Algeria",
         "marker": {
          "color": "#FFA15A",
          "symbol": "circle"
         },
         "mode": "markers",
         "name": "Algeria",
         "scene": "scene",
         "showlegend": true,
         "type": "scatter3d",
         "x": [
          "Africa"
         ],
         "y": [
          "Algeria"
         ],
         "z": {
          "bdata": "AAAAAADkk0A=",
          "dtype": "f8"
         }
        },
        {
         "hovertemplate": "Country=%{y}<br>Continent=%{x}<br>TotalDeaths=%{z}<extra></extra>",
         "legendgroup": "Azerbaijan",
         "marker": {
          "color": "#19d3f3",
          "symbol": "circle"
         },
         "mode": "markers",
         "name": "Azerbaijan",
         "scene": "scene",
         "showlegend": true,
         "type": "scatter3d",
         "x": [
          "Asia"
         ],
         "y": [
          "Azerbaijan"
         ],
         "z": {
          "bdata": "AAAAAADwfUA=",
          "dtype": "f8"
         }
        },
        {
         "hovertemplate": "Country=%{y}<br>Continent=%{x}<br>TotalDeaths=%{z}<extra></extra>",
         "legendgroup": "Morocco",
         "marker": {
          "color": "#FF6692",
          "symbol": "circle"
         },
         "mode": "markers",
         "name": "Morocco",
         "scene": "scene",
         "showlegend": true,
         "type": "scatter3d",
         "x": [
          "Africa"
         ],
         "y": [
          "Morocco"
         ],
         "z": {
          "bdata": "AAAAAAAQfEA=",
          "dtype": "f8"
         }
        },
        {
         "hovertemplate": "Country=%{y}<br>Continent=%{x}<br>TotalDeaths=%{z}<extra></extra>",
         "legendgroup": "Uzbekistan",
         "marker": {
          "color": "#B6E880",
          "symbol": "circle"
         },
         "mode": "markers",
         "name": "Uzbekistan",
         "scene": "scene",
         "showlegend": true,
         "type": "scatter3d",
         "x": [
          "Asia"
         ],
         "y": [
          "Uzbekistan"
         ],
         "z": {
          "bdata": "AAAAAADgZUA=",
          "dtype": "f8"
         }
        },
        {
         "hovertemplate": "Country=%{y}<br>Continent=%{x}<br>TotalDeaths=%{z}<extra></extra>",
         "legendgroup": "Serbia",
         "marker": {
          "color": "#FF97FF",
          "symbol": "circle"
         },
         "mode": "markers",
         "name": "Serbia",
         "scene": "scene",
         "showlegend": true,
         "type": "scatter3d",
         "x": [
          "Europe"
         ],
         "y": [
          "Serbia"
         ],
         "z": {
          "bdata": "AAAAAABog0A=",
          "dtype": "f8"
         }
        },
        {
         "hovertemplate": "Country=%{y}<br>Continent=%{x}<br>TotalDeaths=%{z}<extra></extra>",
         "legendgroup": "Moldova",
         "marker": {
          "color": "#FECB52",
          "symbol": "circle"
         },
         "mode": "markers",
         "name": "Moldova",
         "scene": "scene",
         "showlegend": true,
         "type": "scatter3d",
         "x": [
          "Europe"
         ],
         "y": [
          "Moldova"
         ],
         "z": {
          "bdata": "AAAAAADgiUA=",
          "dtype": "f8"
         }
        },
        {
         "hovertemplate": "Country=%{y}<br>Continent=%{x}<br>TotalDeaths=%{z}<extra></extra>",
         "legendgroup": "Ireland",
         "marker": {
          "color": "#636efa",
          "symbol": "circle"
         },
         "mode": "markers",
         "name": "Ireland",
         "scene": "scene",
         "showlegend": true,
         "type": "scatter3d",
         "x": [
          "Europe"
         ],
         "y": [
          "Ireland"
         ],
         "z": {
          "bdata": "AAAAAACgm0A=",
          "dtype": "f8"
         }
        },
        {
         "hovertemplate": "Country=%{y}<br>Continent=%{x}<br>TotalDeaths=%{z}<extra></extra>",
         "legendgroup": "Kenya",
         "marker": {
          "color": "#EF553B",
          "symbol": "circle"
         },
         "mode": "markers",
         "name": "Kenya",
         "scene": "scene",
         "showlegend": true,
         "type": "scatter3d",
         "x": [
          "Africa"
         ],
         "y": [
          "Kenya"
         ],
         "z": {
          "bdata": "AAAAAADweEA=",
          "dtype": "f8"
         }
        },
        {
         "hovertemplate": "Country=%{y}<br>Continent=%{x}<br>TotalDeaths=%{z}<extra></extra>",
         "legendgroup": "Venezuela",
         "marker": {
          "color": "#00cc96",
          "symbol": "circle"
         },
         "mode": "markers",
         "name": "Venezuela",
         "scene": "scene",
         "showlegend": true,
         "type": "scatter3d",
         "x": [
          "South America"
         ],
         "y": [
          "Venezuela"
         ],
         "z": {
          "bdata": "AAAAAABgaEA=",
          "dtype": "f8"
         }
        },
        {
         "hovertemplate": "Country=%{y}<br>Continent=%{x}<br>TotalDeaths=%{z}<extra></extra>",
         "legendgroup": "Nepal",
         "marker": {
          "color": "#ab63fa",
          "symbol": "circle"
         },
         "mode": "markers",
         "name": "Nepal",
         "scene": "scene",
         "showlegend": true,
         "type": "scatter3d",
         "x": [
          "Asia"
         ],
         "y": [
          "Nepal"
         ],
         "z": {
          "bdata": "AAAAAABAUEA=",
          "dtype": "f8"
         }
        },
        {
         "hovertemplate": "Country=%{y}<br>Continent=%{x}<br>TotalDeaths=%{z}<extra></extra>",
         "legendgroup": "Austria",
         "marker": {
          "color": "#FFA15A",
          "symbol": "circle"
         },
         "mode": "markers",
         "name": "Austria",
         "scene": "scene",
         "showlegend": true,
         "type": "scatter3d",
         "x": [
          "Europe"
         ],
         "y": [
          "Austria"
         ],
         "z": {
          "bdata": "AAAAAAB4hkA=",
          "dtype": "f8"
         }
        },
        {
         "hovertemplate": "Country=%{y}<br>Continent=%{x}<br>TotalDeaths=%{z}<extra></extra>",
         "legendgroup": "Costa Rica",
         "marker": {
          "color": "#19d3f3",
          "symbol": "circle"
         },
         "mode": "markers",
         "name": "Costa Rica",
         "scene": "scene",
         "showlegend": true,
         "type": "scatter3d",
         "x": [
          "North America"
         ],
         "y": [
          "Costa Rica"
         ],
         "z": {
          "bdata": "AAAAAAAAaUA=",
          "dtype": "f8"
         }
        },
        {
         "hovertemplate": "Country=%{y}<br>Continent=%{x}<br>TotalDeaths=%{z}<extra></extra>",
         "legendgroup": "Ethiopia",
         "marker": {
          "color": "#FF6692",
          "symbol": "circle"
         },
         "mode": "markers",
         "name": "Ethiopia",
         "scene": "scene",
         "showlegend": true,
         "type": "scatter3d",
         "x": [
          "Africa"
         ],
         "y": [
          "Ethiopia"
         ],
         "z": {
          "bdata": "AAAAAADQdkA=",
          "dtype": "f8"
         }
        },
        {
         "hovertemplate": "Country=%{y}<br>Continent=%{x}<br>TotalDeaths=%{z}<extra></extra>",
         "legendgroup": "Australia",
         "marker": {
          "color": "#B6E880",
          "symbol": "circle"
         },
         "mode": "markers",
         "name": "Australia",
         "scene": "scene",
         "showlegend": true,
         "type": "scatter3d",
         "x": [
          "Australia/Oceania"
         ],
         "y": [
          "Australia"
         ],
         "z": {
          "bdata": "AAAAAADgb0A=",
          "dtype": "f8"
         }
        },
        {
         "hovertemplate": "Country=%{y}<br>Continent=%{x}<br>TotalDeaths=%{z}<extra></extra>",
         "legendgroup": "El Salvador",
         "marker": {
          "color": "#FF97FF",
          "symbol": "circle"
         },
         "mode": "markers",
         "name": "El Salvador",
         "scene": "scene",
         "showlegend": true,
         "type": "scatter3d",
         "x": [
          "North America"
         ],
         "y": [
          "El Salvador"
         ],
         "z": {
          "bdata": "AAAAAAAIgEA=",
          "dtype": "f8"
         }
        },
        {
         "hovertemplate": "Country=%{y}<br>Continent=%{x}<br>TotalDeaths=%{z}<extra></extra>",
         "legendgroup": "Czechia",
         "marker": {
          "color": "#FECB52",
          "symbol": "circle"
         },
         "mode": "markers",
         "name": "Czechia",
         "scene": "scene",
         "showlegend": true,
         "type": "scatter3d",
         "x": [
          "Europe"
         ],
         "y": [
          "Czechia"
         ],
         "z": {
          "bdata": "AAAAAABgeEA=",
          "dtype": "f8"
         }
        },
        {
         "hovertemplate": "Country=%{y}<br>Continent=%{x}<br>TotalDeaths=%{z}<extra></extra>",
         "legendgroup": "Cameroon",
         "marker": {
          "color": "#636efa",
          "symbol": "circle"
         },
         "mode": "markers",
         "name": "Cameroon",
         "scene": "scene",
         "showlegend": true,
         "type": "scatter3d",
         "x": [
          "Africa"
         ],
         "y": [
          "Cameroon"
         ],
         "z": {
          "bdata": "AAAAAABweEA=",
          "dtype": "f8"
         }
        },
        {
         "hovertemplate": "Country=%{y}<br>Continent=%{x}<br>TotalDeaths=%{z}<extra></extra>",
         "legendgroup": "Ivory Coast",
         "marker": {
          "color": "#EF553B",
          "symbol": "circle"
         },
         "mode": "markers",
         "name": "Ivory Coast",
         "scene": "scene",
         "showlegend": true,
         "type": "scatter3d",
         "x": [
          "Africa"
         ],
         "y": [
          "Ivory Coast"
         ],
         "z": {
          "bdata": "AAAAAADAWUA=",
          "dtype": "f8"
         }
        },
        {
         "hovertemplate": "Country=%{y}<br>Continent=%{x}<br>TotalDeaths=%{z}<extra></extra>",
         "legendgroup": "S. Korea",
         "marker": {
          "color": "#00cc96",
          "symbol": "circle"
         },
         "mode": "markers",
         "name": "S. Korea",
         "scene": "scene",
         "showlegend": true,
         "type": "scatter3d",
         "x": [
          "Asia"
         ],
         "y": [
          "S. Korea"
         ],
         "z": {
          "bdata": "AAAAAADwckA=",
          "dtype": "f8"
         }
        },
        {
         "hovertemplate": "Country=%{y}<br>Continent=%{x}<br>TotalDeaths=%{z}<extra></extra>",
         "legendgroup": "Denmark",
         "marker": {
          "color": "#ab63fa",
          "symbol": "circle"
         },
         "mode": "markers",
         "name": "Denmark",
         "scene": "scene",
         "showlegend": true,
         "type": "scatter3d",
         "x": [
          "Europe"
         ],
         "y": [
          "Denmark"
         ],
         "z": {
          "bdata": "AAAAAABIg0A=",
          "dtype": "f8"
         }
        },
        {
         "hovertemplate": "Country=%{y}<br>Continent=%{x}<br>TotalDeaths=%{z}<extra></extra>",
         "legendgroup": "Palestine",
         "marker": {
          "color": "#FFA15A",
          "symbol": "circle"
         },
         "mode": "markers",
         "name": "Palestine",
         "scene": "scene",
         "showlegend": true,
         "type": "scatter3d",
         "x": [
          "Asia"
         ],
         "y": [
          "Palestine"
         ],
         "z": {
          "bdata": "AAAAAAAAV0A=",
          "dtype": "f8"
         }
        },
        {
         "hovertemplate": "Country=%{y}<br>Continent=%{x}<br>TotalDeaths=%{z}<extra></extra>",
         "legendgroup": "Bosnia and Herzegovina",
         "marker": {
          "color": "#19d3f3",
          "symbol": "circle"
         },
         "mode": "markers",
         "name": "Bosnia and Herzegovina",
         "scene": "scene",
         "showlegend": true,
         "type": "scatter3d",
         "x": [
          "Europe"
         ],
         "y": [
          "Bosnia and Herzegovina"
         ],
         "z": {
          "bdata": "AAAAAAAAeEA=",
          "dtype": "f8"
         }
        },
        {
         "hovertemplate": "Country=%{y}<br>Continent=%{x}<br>TotalDeaths=%{z}<extra></extra>",
         "legendgroup": "Bulgaria",
         "marker": {
          "color": "#FF6692",
          "symbol": "circle"
         },
         "mode": "markers",
         "name": "Bulgaria",
         "scene": "scene",
         "showlegend": true,
         "type": "scatter3d",
         "x": [
          "Europe"
         ],
         "y": [
          "Bulgaria"
         ],
         "z": {
          "bdata": "AAAAAAAwe0A=",
          "dtype": "f8"
         }
        },
        {
         "hovertemplate": "Country=%{y}<br>Continent=%{x}<br>TotalDeaths=%{z}<extra></extra>",
         "legendgroup": "Madagascar",
         "marker": {
          "color": "#B6E880",
          "symbol": "circle"
         },
         "mode": "markers",
         "name": "Madagascar",
         "scene": "scene",
         "showlegend": true,
         "type": "scatter3d",
         "x": [
          "Africa"
         ],
         "y": [
          "Madagascar"
         ],
         "z": {
          "bdata": "AAAAAADAYEA=",
          "dtype": "f8"
         }
        },
        {
         "hovertemplate": "Country=%{y}<br>Continent=%{x}<br>TotalDeaths=%{z}<extra></extra>",
         "legendgroup": "Sudan",
         "marker": {
          "color": "#FF97FF",
          "symbol": "circle"
         },
         "mode": "markers",
         "name": "Sudan",
         "scene": "scene",
         "showlegend": true,
         "type": "scatter3d",
         "x": [
          "Africa"
         ],
         "y": [
          "Sudan"
         ],
         "z": {
          "bdata": "AAAAAADYh0A=",
          "dtype": "f8"
         }
        },
        {
         "hovertemplate": "Country=%{y}<br>Continent=%{x}<br>TotalDeaths=%{z}<extra></extra>",
         "legendgroup": "North Macedonia",
         "marker": {
          "color": "#FECB52",
          "symbol": "circle"
         },
         "mode": "markers",
         "name": "North Macedonia",
         "scene": "scene",
         "showlegend": true,
         "type": "scatter3d",
         "x": [
          "Europe"
         ],
         "y": [
          "North Macedonia"
         ],
         "z": {
          "bdata": "AAAAAAAogEA=",
          "dtype": "f8"
         }
        },
        {
         "hovertemplate": "Country=%{y}<br>Continent=%{x}<br>TotalDeaths=%{z}<extra></extra>",
         "legendgroup": "Senegal",
         "marker": {
          "color": "#636efa",
          "symbol": "circle"
         },
         "mode": "markers",
         "name": "Senegal",
         "scene": "scene",
         "showlegend": true,
         "type": "scatter3d",
         "x": [
          "Africa"
         ],
         "y": [
          "Senegal"
         ],
         "z": {
          "bdata": "AAAAAADga0A=",
          "dtype": "f8"
         }
        },
        {
         "hovertemplate": "Country=%{y}<br>Continent=%{x}<br>TotalDeaths=%{z}<extra></extra>",
         "legendgroup": "Norway",
         "marker": {
          "color": "#EF553B",
          "symbol": "circle"
         },
         "mode": "markers",
         "name": "Norway",
         "scene": "scene",
         "showlegend": true,
         "type": "scatter3d",
         "x": [
          "Europe"
         ],
         "y": [
          "Norway"
         ],
         "z": {
          "bdata": "AAAAAAAAcEA=",
          "dtype": "f8"
         }
        },
        {
         "hovertemplate": "Country=%{y}<br>Continent=%{x}<br>TotalDeaths=%{z}<extra></extra>",
         "legendgroup": "DRC",
         "marker": {
          "color": "#00cc96",
          "symbol": "circle"
         },
         "mode": "markers",
         "name": "DRC",
         "scene": "scene",
         "showlegend": true,
         "type": "scatter3d",
         "x": [
          "Africa"
         ],
         "y": [
          "DRC"
         ],
         "z": {
          "bdata": "AAAAAADgakA=",
          "dtype": "f8"
         }
        },
        {
         "hovertemplate": "Country=%{y}<br>Continent=%{x}<br>TotalDeaths=%{z}<extra></extra>",
         "legendgroup": "Malaysia",
         "marker": {
          "color": "#ab63fa",
          "symbol": "circle"
         },
         "mode": "markers",
         "name": "Malaysia",
         "scene": "scene",
         "showlegend": true,
         "type": "scatter3d",
         "x": [
          "Asia"
         ],
         "y": [
          "Malaysia"
         ],
         "z": {
          "bdata": "AAAAAABAX0A=",
          "dtype": "f8"
         }
        },
        {
         "hovertemplate": "Country=%{y}<br>Continent=%{x}<br>TotalDeaths=%{z}<extra></extra>",
         "legendgroup": "French Guiana",
         "marker": {
          "color": "#FFA15A",
          "symbol": "circle"
         },
         "mode": "markers",
         "name": "French Guiana",
         "scene": "scene",
         "showlegend": true,
         "type": "scatter3d",
         "x": [
          "South America"
         ],
         "y": [
          "French Guiana"
         ],
         "z": {
          "bdata": "AAAAAACAR0A=",
          "dtype": "f8"
         }
        },
        {
         "hovertemplate": "Country=%{y}<br>Continent=%{x}<br>TotalDeaths=%{z}<extra></extra>",
         "legendgroup": "Gabon",
         "marker": {
          "color": "#19d3f3",
          "symbol": "circle"
         },
         "mode": "markers",
         "name": "Gabon",
         "scene": "scene",
         "showlegend": true,
         "type": "scatter3d",
         "x": [
          "Africa"
         ],
         "y": [
          "Gabon"
         ],
         "z": {
          "bdata": "AAAAAACASUA=",
          "dtype": "f8"
         }
        },
        {
         "hovertemplate": "Country=%{y}<br>Continent=%{x}<br>TotalDeaths=%{z}<extra></extra>",
         "legendgroup": "Tajikistan",
         "marker": {
          "color": "#FF6692",
          "symbol": "circle"
         },
         "mode": "markers",
         "name": "Tajikistan",
         "scene": "scene",
         "showlegend": true,
         "type": "scatter3d",
         "x": [
          "Asia"
         ],
         "y": [
          "Tajikistan"
         ],
         "z": {
          "bdata": "AAAAAAAAT0A=",
          "dtype": "f8"
         }
        },
        {
         "hovertemplate": "Country=%{y}<br>Continent=%{x}<br>TotalDeaths=%{z}<extra></extra>",
         "legendgroup": "Guinea",
         "marker": {
          "color": "#B6E880",
          "symbol": "circle"
         },
         "mode": "markers",
         "name": "Guinea",
         "scene": "scene",
         "showlegend": true,
         "type": "scatter3d",
         "x": [
          "Africa"
         ],
         "y": [
          "Guinea"
         ],
         "z": {
          "bdata": "AAAAAACASEA=",
          "dtype": "f8"
         }
        },
        {
         "hovertemplate": "Country=%{y}<br>Continent=%{x}<br>TotalDeaths=%{z}<extra></extra>",
         "legendgroup": "Haiti",
         "marker": {
          "color": "#FF97FF",
          "symbol": "circle"
         },
         "mode": "markers",
         "name": "Haiti",
         "scene": "scene",
         "showlegend": true,
         "type": "scatter3d",
         "x": [
          "North America"
         ],
         "y": [
          "Haiti"
         ],
         "z": {
          "bdata": "AAAAAABgZUA=",
          "dtype": "f8"
         }
        },
        {
         "hovertemplate": "Country=%{y}<br>Continent=%{x}<br>TotalDeaths=%{z}<extra></extra>",
         "legendgroup": "Finland",
         "marker": {
          "color": "#FECB52",
          "symbol": "circle"
         },
         "mode": "markers",
         "name": "Finland",
         "scene": "scene",
         "showlegend": true,
         "type": "scatter3d",
         "x": [
          "Europe"
         ],
         "y": [
          "Finland"
         ],
         "z": {
          "bdata": "AAAAAACwdEA=",
          "dtype": "f8"
         }
        },
        {
         "hovertemplate": "Country=%{y}<br>Continent=%{x}<br>TotalDeaths=%{z}<extra></extra>",
         "legendgroup": "Zambia",
         "marker": {
          "color": "#636efa",
          "symbol": "circle"
         },
         "mode": "markers",
         "name": "Zambia",
         "scene": "scene",
         "showlegend": true,
         "type": "scatter3d",
         "x": [
          "Africa"
         ],
         "y": [
          "Zambia"
         ],
         "z": {
          "bdata": "AAAAAADgaEA=",
          "dtype": "f8"
         }
        },
        {
         "hovertemplate": "Country=%{y}<br>Continent=%{x}<br>TotalDeaths=%{z}<extra></extra>",
         "legendgroup": "Luxembourg",
         "marker": {
          "color": "#EF553B",
          "symbol": "circle"
         },
         "mode": "markers",
         "name": "Luxembourg",
         "scene": "scene",
         "showlegend": true,
         "type": "scatter3d",
         "x": [
          "Europe"
         ],
         "y": [
          "Luxembourg"
         ],
         "z": {
          "bdata": "AAAAAADAXUA=",
          "dtype": "f8"
         }
        },
        {
         "hovertemplate": "Country=%{y}<br>Continent=%{x}<br>TotalDeaths=%{z}<extra></extra>",
         "legendgroup": "Mauritania",
         "marker": {
          "color": "#00cc96",
          "symbol": "circle"
         },
         "mode": "markers",
         "name": "Mauritania",
         "scene": "scene",
         "showlegend": true,
         "type": "scatter3d",
         "x": [
          "Africa"
         ],
         "y": [
          "Mauritania"
         ],
         "z": {
          "bdata": "AAAAAACgY0A=",
          "dtype": "f8"
         }
        },
        {
         "hovertemplate": "Country=%{y}<br>Continent=%{x}<br>TotalDeaths=%{z}<extra></extra>",
         "legendgroup": "Paraguay",
         "marker": {
          "color": "#ab63fa",
          "symbol": "circle"
         },
         "mode": "markers",
         "name": "Paraguay",
         "scene": "scene",
         "showlegend": true,
         "type": "scatter3d",
         "x": [
          "South America"
         ],
         "y": [
          "Paraguay"
         ],
         "z": {
          "bdata": "AAAAAACAUEA=",
          "dtype": "f8"
         }
        },
        {
         "hovertemplate": "Country=%{y}<br>Continent=%{x}<br>TotalDeaths=%{z}<extra></extra>",
         "legendgroup": "Albania",
         "marker": {
          "color": "#FFA15A",
          "symbol": "circle"
         },
         "mode": "markers",
         "name": "Albania",
         "scene": "scene",
         "showlegend": true,
         "type": "scatter3d",
         "x": [
          "Europe"
         ],
         "y": [
          "Albania"
         ],
         "z": {
          "bdata": "AAAAAACAZ0A=",
          "dtype": "f8"
         }
        },
        {
         "hovertemplate": "Country=%{y}<br>Continent=%{x}<br>TotalDeaths=%{z}<extra></extra>",
         "legendgroup": "Lebanon",
         "marker": {
          "color": "#19d3f3",
          "symbol": "circle"
         },
         "mode": "markers",
         "name": "Lebanon",
         "scene": "scene",
         "showlegend": true,
         "type": "scatter3d",
         "x": [
          "Asia"
         ],
         "y": [
          "Lebanon"
         ],
         "z": {
          "bdata": "AAAAAACAUUA=",
          "dtype": "f8"
         }
        },
        {
         "hovertemplate": "Country=%{y}<br>Continent=%{x}<br>TotalDeaths=%{z}<extra></extra>",
         "legendgroup": "Croatia",
         "marker": {
          "color": "#FF6692",
          "symbol": "circle"
         },
         "mode": "markers",
         "name": "Croatia",
         "scene": "scene",
         "showlegend": true,
         "type": "scatter3d",
         "x": [
          "Europe"
         ],
         "y": [
          "Croatia"
         ],
         "z": {
          "bdata": "AAAAAABgY0A=",
          "dtype": "f8"
         }
        },
        {
         "hovertemplate": "Country=%{y}<br>Continent=%{x}<br>TotalDeaths=%{z}<extra></extra>",
         "legendgroup": "Djibouti",
         "marker": {
          "color": "#B6E880",
          "symbol": "circle"
         },
         "mode": "markers",
         "name": "Djibouti",
         "scene": "scene",
         "showlegend": true,
         "type": "scatter3d",
         "x": [
          "Africa"
         ],
         "y": [
          "Djibouti"
         ],
         "z": {
          "bdata": "AAAAAACATUA=",
          "dtype": "f8"
         }
        },
        {
         "hovertemplate": "Country=%{y}<br>Continent=%{x}<br>TotalDeaths=%{z}<extra></extra>",
         "legendgroup": "Greece",
         "marker": {
          "color": "#FF97FF",
          "symbol": "circle"
         },
         "mode": "markers",
         "name": "Greece",
         "scene": "scene",
         "showlegend": true,
         "type": "scatter3d",
         "x": [
          "Europe"
         ],
         "y": [
          "Greece"
         ],
         "z": {
          "bdata": "AAAAAABAakA=",
          "dtype": "f8"
         }
        },
        {
         "hovertemplate": "Country=%{y}<br>Continent=%{x}<br>TotalDeaths=%{z}<extra></extra>",
         "legendgroup": "Libya",
         "marker": {
          "color": "#FECB52",
          "symbol": "circle"
         },
         "mode": "markers",
         "name": "Libya",
         "scene": "scene",
         "showlegend": true,
         "type": "scatter3d",
         "x": [
          "Africa"
         ],
         "y": [
          "Libya"
         ],
         "z": {
          "bdata": "AAAAAADAWkA=",
          "dtype": "f8"
         }
        },
        {
         "hovertemplate": "Country=%{y}<br>Continent=%{x}<br>TotalDeaths=%{z}<extra></extra>",
         "legendgroup": "Equatorial Guinea",
         "marker": {
          "color": "#636efa",
          "symbol": "circle"
         },
         "mode": "markers",
         "name": "Equatorial Guinea",
         "scene": "scene",
         "showlegend": true,
         "type": "scatter3d",
         "x": [
          "Africa"
         ],
         "y": [
          "Equatorial Guinea"
         ],
         "z": {
          "bdata": "AAAAAADAVEA=",
          "dtype": "f8"
         }
        },
        {
         "hovertemplate": "Country=%{y}<br>Continent=%{x}<br>TotalDeaths=%{z}<extra></extra>",
         "legendgroup": "Maldives",
         "marker": {
          "color": "#EF553B",
          "symbol": "circle"
         },
         "mode": "markers",
         "name": "Maldives",
         "scene": "scene",
         "showlegend": true,
         "type": "scatter3d",
         "x": [
          "Asia"
         ],
         "y": [
          "Maldives"
         ],
         "z": {
          "bdata": "AAAAAAAAM0A=",
          "dtype": "f8"
         }
        },
        {
         "hovertemplate": "Country=%{y}<br>Continent=%{x}<br>TotalDeaths=%{z}<extra></extra>",
         "legendgroup": "CAR",
         "marker": {
          "color": "#00cc96",
          "symbol": "circle"
         },
         "mode": "markers",
         "name": "CAR",
         "scene": "scene",
         "showlegend": true,
         "type": "scatter3d",
         "x": [
          "Africa"
         ],
         "y": [
          "CAR"
         ],
         "z": {
          "bdata": "AAAAAACATUA=",
          "dtype": "f8"
         }
        },
        {
         "hovertemplate": "Country=%{y}<br>Continent=%{x}<br>TotalDeaths=%{z}<extra></extra>",
         "legendgroup": "Hungary",
         "marker": {
          "color": "#ab63fa",
          "symbol": "circle"
         },
         "mode": "markers",
         "name": "Hungary",
         "scene": "scene",
         "showlegend": true,
         "type": "scatter3d",
         "x": [
          "Europe"
         ],
         "y": [
          "Hungary"
         ],
         "z": {
          "bdata": "AAAAAADAgkA=",
          "dtype": "f8"
         }
        },
        {
         "hovertemplate": "Country=%{y}<br>Continent=%{x}<br>TotalDeaths=%{z}<extra></extra>",
         "legendgroup": "Malawi",
         "marker": {
          "color": "#FFA15A",
          "symbol": "circle"
         },
         "mode": "markers",
         "name": "Malawi",
         "scene": "scene",
         "showlegend": true,
         "type": "scatter3d",
         "x": [
          "Africa"
         ],
         "y": [
          "Malawi"
         ],
         "z": {
          "bdata": "AAAAAAAgYUA=",
          "dtype": "f8"
         }
        },
        {
         "hovertemplate": "Country=%{y}<br>Continent=%{x}<br>TotalDeaths=%{z}<extra></extra>",
         "legendgroup": "Zimbabwe",
         "marker": {
          "color": "#19d3f3",
          "symbol": "circle"
         },
         "mode": "markers",
         "name": "Zimbabwe",
         "scene": "scene",
         "showlegend": true,
         "type": "scatter3d",
         "x": [
          "Africa"
         ],
         "y": [
          "Zimbabwe"
         ],
         "z": {
          "bdata": "AAAAAAAAVUA=",
          "dtype": "f8"
         }
        },
        {
         "hovertemplate": "Country=%{y}<br>Continent=%{x}<br>TotalDeaths=%{z}<extra></extra>",
         "legendgroup": "Nicaragua",
         "marker": {
          "color": "#FF6692",
          "symbol": "circle"
         },
         "mode": "markers",
         "name": "Nicaragua",
         "scene": "scene",
         "showlegend": true,
         "type": "scatter3d",
         "x": [
          "North America"
         ],
         "y": [
          "Nicaragua"
         ],
         "z": {
          "bdata": "AAAAAADAXkA=",
          "dtype": "f8"
         }
        },
        {
         "hovertemplate": "Country=%{y}<br>Continent=%{x}<br>TotalDeaths=%{z}<extra></extra>",
         "legendgroup": "Hong Kong",
         "marker": {
          "color": "#B6E880",
          "symbol": "circle"
         },
         "mode": "markers",
         "name": "Hong Kong",
         "scene": "scene",
         "showlegend": true,
         "type": "scatter3d",
         "x": [
          "Asia"
         ],
         "y": [
          "Hong Kong"
         ],
         "z": {
          "bdata": "AAAAAAAAR0A=",
          "dtype": "f8"
         }
        },
        {
         "hovertemplate": "Country=%{y}<br>Continent=%{x}<br>TotalDeaths=%{z}<extra></extra>",
         "legendgroup": "Congo",
         "marker": {
          "color": "#FF97FF",
          "symbol": "circle"
         },
         "mode": "markers",
         "name": "Congo",
         "scene": "scene",
         "showlegend": true,
         "type": "scatter3d",
         "x": [
          "Africa"
         ],
         "y": [
          "Congo"
         ],
         "z": {
          "bdata": "AAAAAAAATUA=",
          "dtype": "f8"
         }
        },
        {
         "hovertemplate": "Country=%{y}<br>Continent=%{x}<br>TotalDeaths=%{z}<extra></extra>",
         "legendgroup": "Montenegro",
         "marker": {
          "color": "#FECB52",
          "symbol": "circle"
         },
         "mode": "markers",
         "name": "Montenegro",
         "scene": "scene",
         "showlegend": true,
         "type": "scatter3d",
         "x": [
          "Europe"
         ],
         "y": [
          "Montenegro"
         ],
         "z": {
          "bdata": "AAAAAAAATkA=",
          "dtype": "f8"
         }
        },
        {
         "hovertemplate": "Country=%{y}<br>Continent=%{x}<br>TotalDeaths=%{z}<extra></extra>",
         "legendgroup": "Thailand",
         "marker": {
          "color": "#636efa",
          "symbol": "circle"
         },
         "mode": "markers",
         "name": "Thailand",
         "scene": "scene",
         "showlegend": true,
         "type": "scatter3d",
         "x": [
          "Asia"
         ],
         "y": [
          "Thailand"
         ],
         "z": {
          "bdata": "AAAAAAAATUA=",
          "dtype": "f8"
         }
        },
        {
         "hovertemplate": "Country=%{y}<br>Continent=%{x}<br>TotalDeaths=%{z}<extra></extra>",
         "legendgroup": "Somalia",
         "marker": {
          "color": "#EF553B",
          "symbol": "circle"
         },
         "mode": "markers",
         "name": "Somalia",
         "scene": "scene",
         "showlegend": true,
         "type": "scatter3d",
         "x": [
          "Africa"
         ],
         "y": [
          "Somalia"
         ],
         "z": {
          "bdata": "AAAAAABAV0A=",
          "dtype": "f8"
         }
        },
        {
         "hovertemplate": "Country=%{y}<br>Continent=%{x}<br>TotalDeaths=%{z}<extra></extra>",
         "legendgroup": "Mayotte",
         "marker": {
          "color": "#00cc96",
          "symbol": "circle"
         },
         "mode": "markers",
         "name": "Mayotte",
         "scene": "scene",
         "showlegend": true,
         "type": "scatter3d",
         "x": [
          "Africa"
         ],
         "y": [
          "Mayotte"
         ],
         "z": {
          "bdata": "AAAAAACAQ0A=",
          "dtype": "f8"
         }
        },
        {
         "hovertemplate": "Country=%{y}<br>Continent=%{x}<br>TotalDeaths=%{z}<extra></extra>",
         "legendgroup": "Eswatini",
         "marker": {
          "color": "#ab63fa",
          "symbol": "circle"
         },
         "mode": "markers",
         "name": "Eswatini",
         "scene": "scene",
         "showlegend": true,
         "type": "scatter3d",
         "x": [
          "Africa"
         ],
         "y": [
          "Eswatini"
         ],
         "z": {
          "bdata": "AAAAAACAS0A=",
          "dtype": "f8"
         }
        },
        {
         "hovertemplate": "Country=%{y}<br>Continent=%{x}<br>TotalDeaths=%{z}<extra></extra>",
         "legendgroup": "Sri Lanka",
         "marker": {
          "color": "#FFA15A",
          "symbol": "circle"
         },
         "mode": "markers",
         "name": "Sri Lanka",
         "scene": "scene",
         "showlegend": true,
         "type": "scatter3d",
         "x": [
          "Asia"
         ],
         "y": [
          "Sri Lanka"
         ],
         "z": {
          "bdata": "AAAAAAAAJkA=",
          "dtype": "f8"
         }
        },
        {
         "hovertemplate": "Country=%{y}<br>Continent=%{x}<br>TotalDeaths=%{z}<extra></extra>",
         "legendgroup": "Cuba",
         "marker": {
          "color": "#19d3f3",
          "symbol": "circle"
         },
         "mode": "markers",
         "name": "Cuba",
         "scene": "scene",
         "showlegend": true,
         "type": "scatter3d",
         "x": [
          "North America"
         ],
         "y": [
          "Cuba"
         ],
         "z": {
          "bdata": "AAAAAAAAVkA=",
          "dtype": "f8"
         }
        },
        {
         "hovertemplate": "Country=%{y}<br>Continent=%{x}<br>TotalDeaths=%{z}<extra></extra>",
         "legendgroup": "Cabo Verde",
         "marker": {
          "color": "#FF6692",
          "symbol": "circle"
         },
         "mode": "markers",
         "name": "Cabo Verde",
         "scene": "scene",
         "showlegend": true,
         "type": "scatter3d",
         "x": [
          "Africa"
         ],
         "y": [
          "Cabo Verde"
         ],
         "z": {
          "bdata": "AAAAAAAAO0A=",
          "dtype": "f8"
         }
        },
        {
         "hovertemplate": "Country=%{y}<br>Continent=%{x}<br>TotalDeaths=%{z}<extra></extra>",
         "legendgroup": "Namibia",
         "marker": {
          "color": "#B6E880",
          "symbol": "circle"
         },
         "mode": "markers",
         "name": "Namibia",
         "scene": "scene",
         "showlegend": true,
         "type": "scatter3d",
         "x": [
          "Africa"
         ],
         "y": [
          "Namibia"
         ],
         "z": {
          "bdata": "AAAAAAAALkA=",
          "dtype": "f8"
         }
        },
        {
         "hovertemplate": "Country=%{y}<br>Continent=%{x}<br>TotalDeaths=%{z}<extra></extra>",
         "legendgroup": "Mali",
         "marker": {
          "color": "#FF97FF",
          "symbol": "circle"
         },
         "mode": "markers",
         "name": "Mali",
         "scene": "scene",
         "showlegend": true,
         "type": "scatter3d",
         "x": [
          "Africa"
         ],
         "y": [
          "Mali"
         ],
         "z": {
          "bdata": "AAAAAAAAX0A=",
          "dtype": "f8"
         }
        },
        {
         "hovertemplate": "Country=%{y}<br>Continent=%{x}<br>TotalDeaths=%{z}<extra></extra>",
         "legendgroup": "Slovakia",
         "marker": {
          "color": "#FECB52",
          "symbol": "circle"
         },
         "mode": "markers",
         "name": "Slovakia",
         "scene": "scene",
         "showlegend": true,
         "type": "scatter3d",
         "x": [
          "Europe"
         ],
         "y": [
          "Slovakia"
         ],
         "z": {
          "bdata": "AAAAAAAAPUA=",
          "dtype": "f8"
         }
        },
        {
         "hovertemplate": "Country=%{y}<br>Continent=%{x}<br>TotalDeaths=%{z}<extra></extra>",
         "legendgroup": "South Sudan",
         "marker": {
          "color": "#636efa",
          "symbol": "circle"
         },
         "mode": "markers",
         "name": "South Sudan",
         "scene": "scene",
         "showlegend": true,
         "type": "scatter3d",
         "x": [
          "Africa"
         ],
         "y": [
          "South Sudan"
         ],
         "z": {
          "bdata": "AAAAAACAR0A=",
          "dtype": "f8"
         }
        },
        {
         "hovertemplate": "Country=%{y}<br>Continent=%{x}<br>TotalDeaths=%{z}<extra></extra>",
         "legendgroup": "Slovenia",
         "marker": {
          "color": "#EF553B",
          "symbol": "circle"
         },
         "mode": "markers",
         "name": "Slovenia",
         "scene": "scene",
         "showlegend": true,
         "type": "scatter3d",
         "x": [
          "Europe"
         ],
         "y": [
          "Slovenia"
         ],
         "z": {
          "bdata": "AAAAAABAX0A=",
          "dtype": "f8"
         }
        },
        {
         "hovertemplate": "Country=%{y}<br>Continent=%{x}<br>TotalDeaths=%{z}<extra></extra>",
         "legendgroup": "Lithuania",
         "marker": {
          "color": "#00cc96",
          "symbol": "circle"
         },
         "mode": "markers",
         "name": "Lithuania",
         "scene": "scene",
         "showlegend": true,
         "type": "scatter3d",
         "x": [
          "Europe"
         ],
         "y": [
          "Lithuania"
         ],
         "z": {
          "bdata": "AAAAAABAVEA=",
          "dtype": "f8"
         }
        },
        {
         "hovertemplate": "Country=%{y}<br>Continent=%{x}<br>TotalDeaths=%{z}<extra></extra>",
         "legendgroup": "Estonia",
         "marker": {
          "color": "#ab63fa",
          "symbol": "circle"
         },
         "mode": "markers",
         "name": "Estonia",
         "scene": "scene",
         "showlegend": true,
         "type": "scatter3d",
         "x": [
          "Europe"
         ],
         "y": [
          "Estonia"
         ],
         "z": {
          "bdata": "AAAAAACAT0A=",
          "dtype": "f8"
         }
        },
        {
         "hovertemplate": "Country=%{y}<br>Continent=%{x}<br>TotalDeaths=%{z}<extra></extra>",
         "legendgroup": "Mozambique",
         "marker": {
          "color": "#FFA15A",
          "symbol": "circle"
         },
         "mode": "markers",
         "name": "Mozambique",
         "scene": "scene",
         "showlegend": true,
         "type": "scatter3d",
         "x": [
          "Africa"
         ],
         "y": [
          "Mozambique"
         ],
         "z": {
          "bdata": "AAAAAAAALkA=",
          "dtype": "f8"
         }
        },
        {
         "hovertemplate": "Country=%{y}<br>Continent=%{x}<br>TotalDeaths=%{z}<extra></extra>",
         "legendgroup": "Rwanda",
         "marker": {
          "color": "#19d3f3",
          "symbol": "circle"
         },
         "mode": "markers",
         "name": "Rwanda",
         "scene": "scene",
         "showlegend": true,
         "type": "scatter3d",
         "x": [
          "Africa"
         ],
         "y": [
          "Rwanda"
         ],
         "z": {
          "bdata": "AAAAAAAAFEA=",
          "dtype": "f8"
         }
        },
        {
         "hovertemplate": "Country=%{y}<br>Continent=%{x}<br>TotalDeaths=%{z}<extra></extra>",
         "legendgroup": "Suriname",
         "marker": {
          "color": "#FF6692",
          "symbol": "circle"
         },
         "mode": "markers",
         "name": "Suriname",
         "scene": "scene",
         "showlegend": true,
         "type": "scatter3d",
         "x": [
          "South America"
         ],
         "y": [
          "Suriname"
         ],
         "z": {
          "bdata": "AAAAAAAAPUA=",
          "dtype": "f8"
         }
        },
        {
         "hovertemplate": "Country=%{y}<br>Continent=%{x}<br>TotalDeaths=%{z}<extra></extra>",
         "legendgroup": "Guinea-Bissau",
         "marker": {
          "color": "#B6E880",
          "symbol": "circle"
         },
         "mode": "markers",
         "name": "Guinea-Bissau",
         "scene": "scene",
         "showlegend": true,
         "type": "scatter3d",
         "x": [
          "Africa"
         ],
         "y": [
          "Guinea-Bissau"
         ],
         "z": {
          "bdata": "AAAAAAAAO0A=",
          "dtype": "f8"
         }
        },
        {
         "hovertemplate": "Country=%{y}<br>Continent=%{x}<br>TotalDeaths=%{z}<extra></extra>",
         "legendgroup": "Benin",
         "marker": {
          "color": "#FF97FF",
          "symbol": "circle"
         },
         "mode": "markers",
         "name": "Benin",
         "scene": "scene",
         "showlegend": true,
         "type": "scatter3d",
         "x": [
          "Africa"
         ],
         "y": [
          "Benin"
         ],
         "z": {
          "bdata": "AAAAAAAAQ0A=",
          "dtype": "f8"
         }
        },
        {
         "hovertemplate": "Country=%{y}<br>Continent=%{x}<br>TotalDeaths=%{z}<extra></extra>",
         "legendgroup": "Iceland",
         "marker": {
          "color": "#FECB52",
          "symbol": "circle"
         },
         "mode": "markers",
         "name": "Iceland",
         "scene": "scene",
         "showlegend": true,
         "type": "scatter3d",
         "x": [
          "Europe"
         ],
         "y": [
          "Iceland"
         ],
         "z": {
          "bdata": "AAAAAAAAJEA=",
          "dtype": "f8"
         }
        },
        {
         "hovertemplate": "Country=%{y}<br>Continent=%{x}<br>TotalDeaths=%{z}<extra></extra>",
         "legendgroup": "Sierra Leone",
         "marker": {
          "color": "#636efa",
          "symbol": "circle"
         },
         "mode": "markers",
         "name": "Sierra Leone",
         "scene": "scene",
         "showlegend": true,
         "type": "scatter3d",
         "x": [
          "Africa"
         ],
         "y": [
          "Sierra Leone"
         ],
         "z": {
          "bdata": "AAAAAADAUEA=",
          "dtype": "f8"
         }
        },
        {
         "hovertemplate": "Country=%{y}<br>Continent=%{x}<br>TotalDeaths=%{z}<extra></extra>",
         "legendgroup": "Yemen",
         "marker": {
          "color": "#EF553B",
          "symbol": "circle"
         },
         "mode": "markers",
         "name": "Yemen",
         "scene": "scene",
         "showlegend": true,
         "type": "scatter3d",
         "x": [
          "Asia"
         ],
         "y": [
          "Yemen"
         ],
         "z": {
          "bdata": "AAAAAADAf0A=",
          "dtype": "f8"
         }
        },
        {
         "hovertemplate": "Country=%{y}<br>Continent=%{x}<br>TotalDeaths=%{z}<extra></extra>",
         "legendgroup": "Tunisia",
         "marker": {
          "color": "#00cc96",
          "symbol": "circle"
         },
         "mode": "markers",
         "name": "Tunisia",
         "scene": "scene",
         "showlegend": true,
         "type": "scatter3d",
         "x": [
          "Africa"
         ],
         "y": [
          "Tunisia"
         ],
         "z": {
          "bdata": "AAAAAACASUA=",
          "dtype": "f8"
         }
        },
        {
         "hovertemplate": "Country=%{y}<br>Continent=%{x}<br>TotalDeaths=%{z}<extra></extra>",
         "legendgroup": "New Zealand",
         "marker": {
          "color": "#ab63fa",
          "symbol": "circle"
         },
         "mode": "markers",
         "name": "New Zealand",
         "scene": "scene",
         "showlegend": true,
         "type": "scatter3d",
         "x": [
          "Australia/Oceania"
         ],
         "y": [
          "New Zealand"
         ],
         "z": {
          "bdata": "AAAAAAAANkA=",
          "dtype": "f8"
         }
        },
        {
         "hovertemplate": "Country=%{y}<br>Continent=%{x}<br>TotalDeaths=%{z}<extra></extra>",
         "legendgroup": "Angola",
         "marker": {
          "color": "#FFA15A",
          "symbol": "circle"
         },
         "mode": "markers",
         "name": "Angola",
         "scene": "scene",
         "showlegend": true,
         "type": "scatter3d",
         "x": [
          "Africa"
         ],
         "y": [
          "Angola"
         ],
         "z": {
          "bdata": "AAAAAAAAUEA=",
          "dtype": "f8"
         }
        },
        {
         "hovertemplate": "Country=%{y}<br>Continent=%{x}<br>TotalDeaths=%{z}<extra></extra>",
         "legendgroup": "Uruguay",
         "marker": {
          "color": "#19d3f3",
          "symbol": "circle"
         },
         "mode": "markers",
         "name": "Uruguay",
         "scene": "scene",
         "showlegend": true,
         "type": "scatter3d",
         "x": [
          "South America"
         ],
         "y": [
          "Uruguay"
         ],
         "z": {
          "bdata": "AAAAAACAQkA=",
          "dtype": "f8"
         }
        },
        {
         "hovertemplate": "Country=%{y}<br>Continent=%{x}<br>TotalDeaths=%{z}<extra></extra>",
         "legendgroup": "Latvia",
         "marker": {
          "color": "#FF6692",
          "symbol": "circle"
         },
         "mode": "markers",
         "name": "Latvia",
         "scene": "scene",
         "showlegend": true,
         "type": "scatter3d",
         "x": [
          "Europe"
         ],
         "y": [
          "Latvia"
         ],
         "z": {
          "bdata": "AAAAAAAAQEA=",
          "dtype": "f8"
         }
        },
        {
         "hovertemplate": "Country=%{y}<br>Continent=%{x}<br>TotalDeaths=%{z}<extra></extra>",
         "legendgroup": "Jordan",
         "marker": {
          "color": "#B6E880",
          "symbol": "circle"
         },
         "mode": "markers",
         "name": "Jordan",
         "scene": "scene",
         "showlegend": true,
         "type": "scatter3d",
         "x": [
          "Asia"
         ],
         "y": [
          "Jordan"
         ],
         "z": {
          "bdata": "AAAAAAAAJkA=",
          "dtype": "f8"
         }
        },
        {
         "hovertemplate": "Country=%{y}<br>Continent=%{x}<br>TotalDeaths=%{z}<extra></extra>",
         "legendgroup": "Liberia",
         "marker": {
          "color": "#FF97FF",
          "symbol": "circle"
         },
         "mode": "markers",
         "name": "Liberia",
         "scene": "scene",
         "showlegend": true,
         "type": "scatter3d",
         "x": [
          "Africa"
         ],
         "y": [
          "Liberia"
         ],
         "z": {
          "bdata": "AAAAAACAU0A=",
          "dtype": "f8"
         }
        },
        {
         "hovertemplate": "Country=%{y}<br>Continent=%{x}<br>TotalDeaths=%{z}<extra></extra>",
         "legendgroup": "Uganda",
         "marker": {
          "color": "#FECB52",
          "symbol": "circle"
         },
         "mode": "markers",
         "name": "Uganda",
         "scene": "scene",
         "showlegend": true,
         "type": "scatter3d",
         "x": [
          "Africa"
         ],
         "y": [
          "Uganda"
         ],
         "z": {
          "bdata": "AAAAAAAAFEA=",
          "dtype": "f8"
         }
        },
        {
         "hovertemplate": "Country=%{y}<br>Continent=%{x}<br>TotalDeaths=%{z}<extra></extra>",
         "legendgroup": "Cyprus",
         "marker": {
          "color": "#636efa",
          "symbol": "circle"
         },
         "mode": "markers",
         "name": "Cyprus",
         "scene": "scene",
         "showlegend": true,
         "type": "scatter3d",
         "x": [
          "Asia"
         ],
         "y": [
          "Cyprus"
         ],
         "z": {
          "bdata": "AAAAAAAAM0A=",
          "dtype": "f8"
         }
        },
        {
         "hovertemplate": "Country=%{y}<br>Continent=%{x}<br>TotalDeaths=%{z}<extra></extra>",
         "legendgroup": "Georgia",
         "marker": {
          "color": "#EF553B",
          "symbol": "circle"
         },
         "mode": "markers",
         "name": "Georgia",
         "scene": "scene",
         "showlegend": true,
         "type": "scatter3d",
         "x": [
          "Asia"
         ],
         "y": [
          "Georgia"
         ],
         "z": {
          "bdata": "AAAAAAAAMUA=",
          "dtype": "f8"
         }
        },
        {
         "hovertemplate": "Country=%{y}<br>Continent=%{x}<br>TotalDeaths=%{z}<extra></extra>",
         "legendgroup": "Burkina Faso",
         "marker": {
          "color": "#00cc96",
          "symbol": "circle"
         },
         "mode": "markers",
         "name": "Burkina Faso",
         "scene": "scene",
         "showlegend": true,
         "type": "scatter3d",
         "x": [
          "Africa"
         ],
         "y": [
          "Burkina Faso"
         ],
         "z": {
          "bdata": "AAAAAAAAS0A=",
          "dtype": "f8"
         }
        },
        {
         "hovertemplate": "Country=%{y}<br>Continent=%{x}<br>TotalDeaths=%{z}<extra></extra>",
         "legendgroup": "Niger",
         "marker": {
          "color": "#ab63fa",
          "symbol": "circle"
         },
         "mode": "markers",
         "name": "Niger",
         "scene": "scene",
         "showlegend": true,
         "type": "scatter3d",
         "x": [
          "Africa"
         ],
         "y": [
          "Niger"
         ],
         "z": {
          "bdata": "AAAAAABAUUA=",
          "dtype": "f8"
         }
        },
        {
         "hovertemplate": "Country=%{y}<br>Continent=%{x}<br>TotalDeaths=%{z}<extra></extra>",
         "legendgroup": "Togo",
         "marker": {
          "color": "#FFA15A",
          "symbol": "circle"
         },
         "mode": "markers",
         "name": "Togo",
         "scene": "scene",
         "showlegend": true,
         "type": "scatter3d",
         "x": [
          "Africa"
         ],
         "y": [
          "Togo"
         ],
         "z": {
          "bdata": "AAAAAAAANkA=",
          "dtype": "f8"
         }
        },
        {
         "hovertemplate": "Country=%{y}<br>Continent=%{x}<br>TotalDeaths=%{z}<extra></extra>",
         "legendgroup": "Syria",
         "marker": {
          "color": "#19d3f3",
          "symbol": "circle"
         },
         "mode": "markers",
         "name": "Syria",
         "scene": "scene",
         "showlegend": true,
         "type": "scatter3d",
         "x": [
          "Asia"
         ],
         "y": [
          "Syria"
         ],
         "z": {
          "bdata": "AAAAAAAASEA=",
          "dtype": "f8"
         }
        },
        {
         "hovertemplate": "Country=%{y}<br>Continent=%{x}<br>TotalDeaths=%{z}<extra></extra>",
         "legendgroup": "Jamaica",
         "marker": {
          "color": "#FF6692",
          "symbol": "circle"
         },
         "mode": "markers",
         "name": "Jamaica",
         "scene": "scene",
         "showlegend": true,
         "type": "scatter3d",
         "x": [
          "North America"
         ],
         "y": [
          "Jamaica"
         ],
         "z": {
          "bdata": "AAAAAAAAKEA=",
          "dtype": "f8"
         }
        },
        {
         "hovertemplate": "Country=%{y}<br>Continent=%{x}<br>TotalDeaths=%{z}<extra></extra>",
         "legendgroup": "Malta",
         "marker": {
          "color": "#B6E880",
          "symbol": "circle"
         },
         "mode": "markers",
         "name": "Malta",
         "scene": "scene",
         "showlegend": true,
         "type": "scatter3d",
         "x": [
          "Europe"
         ],
         "y": [
          "Malta"
         ],
         "z": {
          "bdata": "AAAAAAAAIkA=",
          "dtype": "f8"
         }
        },
        {
         "hovertemplate": "Country=%{y}<br>Continent=%{x}<br>TotalDeaths=%{z}<extra></extra>",
         "legendgroup": "Andorra",
         "marker": {
          "color": "#FF97FF",
          "symbol": "circle"
         },
         "mode": "markers",
         "name": "Andorra",
         "scene": "scene",
         "showlegend": true,
         "type": "scatter3d",
         "x": [
          "Europe"
         ],
         "y": [
          "Andorra"
         ],
         "z": {
          "bdata": "AAAAAAAASkA=",
          "dtype": "f8"
         }
        },
        {
         "hovertemplate": "Country=%{y}<br>Continent=%{x}<br>TotalDeaths=%{z}<extra></extra>",
         "legendgroup": "Chad",
         "marker": {
          "color": "#FECB52",
          "symbol": "circle"
         },
         "mode": "markers",
         "name": "Chad",
         "scene": "scene",
         "showlegend": true,
         "type": "scatter3d",
         "x": [
          "Africa"
         ],
         "y": [
          "Chad"
         ],
         "z": {
          "bdata": "AAAAAAAAU0A=",
          "dtype": "f8"
         }
        },
        {
         "hovertemplate": "Country=%{y}<br>Continent=%{x}<br>TotalDeaths=%{z}<extra></extra>",
         "legendgroup": "Gambia",
         "marker": {
          "color": "#636efa",
          "symbol": "circle"
         },
         "mode": "markers",
         "name": "Gambia",
         "scene": "scene",
         "showlegend": true,
         "type": "scatter3d",
         "x": [
          "Africa"
         ],
         "y": [
          "Gambia"
         ],
         "z": {
          "bdata": "AAAAAAAAMEA=",
          "dtype": "f8"
         }
        },
        {
         "hovertemplate": "Country=%{y}<br>Continent=%{x}<br>TotalDeaths=%{z}<extra></extra>",
         "legendgroup": "Sao Tome and Principe",
         "marker": {
          "color": "#EF553B",
          "symbol": "circle"
         },
         "mode": "markers",
         "name": "Sao Tome and Principe",
         "scene": "scene",
         "showlegend": true,
         "type": "scatter3d",
         "x": [
          "Africa"
         ],
         "y": [
          "Sao Tome and Principe"
         ],
         "z": {
          "bdata": "AAAAAAAALkA=",
          "dtype": "f8"
         }
        },
        {
         "hovertemplate": "Country=%{y}<br>Continent=%{x}<br>TotalDeaths=%{z}<extra></extra>",
         "legendgroup": "Botswana",
         "marker": {
          "color": "#00cc96",
          "symbol": "circle"
         },
         "mode": "markers",
         "name": "Botswana",
         "scene": "scene",
         "showlegend": true,
         "type": "scatter3d",
         "x": [
          "Africa"
         ],
         "y": [
          "Botswana"
         ],
         "z": {
          "bdata": "AAAAAAAAAEA=",
          "dtype": "f8"
         }
        },
        {
         "hovertemplate": "Country=%{y}<br>Continent=%{x}<br>TotalDeaths=%{z}<extra></extra>",
         "legendgroup": "Bahamas",
         "marker": {
          "color": "#ab63fa",
          "symbol": "circle"
         },
         "mode": "markers",
         "name": "Bahamas",
         "scene": "scene",
         "showlegend": true,
         "type": "scatter3d",
         "x": [
          "North America"
         ],
         "y": [
          "Bahamas"
         ],
         "z": {
          "bdata": "AAAAAAAALEA=",
          "dtype": "f8"
         }
        },
        {
         "hovertemplate": "Country=%{y}<br>Continent=%{x}<br>TotalDeaths=%{z}<extra></extra>",
         "legendgroup": "Vietnam",
         "marker": {
          "color": "#FFA15A",
          "symbol": "circle"
         },
         "mode": "markers",
         "name": "Vietnam",
         "scene": "scene",
         "showlegend": true,
         "type": "scatter3d",
         "x": [
          "Asia"
         ],
         "y": [
          "Vietnam"
         ],
         "z": {
          "bdata": "AAAAAAAAJEA=",
          "dtype": "f8"
         }
        },
        {
         "hovertemplate": "Country=%{y}<br>Continent=%{x}<br>TotalDeaths=%{z}<extra></extra>",
         "legendgroup": "Lesotho",
         "marker": {
          "color": "#19d3f3",
          "symbol": "circle"
         },
         "mode": "markers",
         "name": "Lesotho",
         "scene": "scene",
         "showlegend": true,
         "type": "scatter3d",
         "x": [
          "Africa"
         ],
         "y": [
          "Lesotho"
         ],
         "z": {
          "bdata": "AAAAAAAAN0A=",
          "dtype": "f8"
         }
        },
        {
         "hovertemplate": "Country=%{y}<br>Continent=%{x}<br>TotalDeaths=%{z}<extra></extra>",
         "legendgroup": "Diamond Princess",
         "marker": {
          "color": "#FF6692",
          "symbol": "circle"
         },
         "mode": "markers",
         "name": "Diamond Princess",
         "scene": "scene",
         "showlegend": true,
         "type": "scatter3d",
         "x": [
          null
         ],
         "y": [
          "Diamond Princess"
         ],
         "z": {
          "bdata": "AAAAAAAAKkA=",
          "dtype": "f8"
         }
        },
        {
         "hovertemplate": "Country=%{y}<br>Continent=%{x}<br>TotalDeaths=%{z}<extra></extra>",
         "legendgroup": "San Marino",
         "marker": {
          "color": "#B6E880",
          "symbol": "circle"
         },
         "mode": "markers",
         "name": "San Marino",
         "scene": "scene",
         "showlegend": true,
         "type": "scatter3d",
         "x": [
          "Europe"
         ],
         "y": [
          "San Marino"
         ],
         "z": {
          "bdata": "AAAAAAAARUA=",
          "dtype": "f8"
         }
        },
        {
         "hovertemplate": "Country=%{y}<br>Continent=%{x}<br>TotalDeaths=%{z}<extra></extra>",
         "legendgroup": "Réunion",
         "marker": {
          "color": "#FF97FF",
          "symbol": "circle"
         },
         "mode": "markers",
         "name": "Réunion",
         "scene": "scene",
         "showlegend": true,
         "type": "scatter3d",
         "x": [
          "Africa"
         ],
         "y": [
          "Réunion"
         ],
         "z": {
          "bdata": "AAAAAAAAFEA=",
          "dtype": "f8"
         }
        },
        {
         "hovertemplate": "Country=%{y}<br>Continent=%{x}<br>TotalDeaths=%{z}<extra></extra>",
         "legendgroup": "Channel Islands",
         "marker": {
          "color": "#FECB52",
          "symbol": "circle"
         },
         "mode": "markers",
         "name": "Channel Islands",
         "scene": "scene",
         "showlegend": true,
         "type": "scatter3d",
         "x": [
          "Europe"
         ],
         "y": [
          "Channel Islands"
         ],
         "z": {
          "bdata": "AAAAAACAR0A=",
          "dtype": "f8"
         }
        },
        {
         "hovertemplate": "Country=%{y}<br>Continent=%{x}<br>TotalDeaths=%{z}<extra></extra>",
         "legendgroup": "Guyana",
         "marker": {
          "color": "#636efa",
          "symbol": "circle"
         },
         "mode": "markers",
         "name": "Guyana",
         "scene": "scene",
         "showlegend": true,
         "type": "scatter3d",
         "x": [
          "South America"
         ],
         "y": [
          "Guyana"
         ],
         "z": {
          "bdata": "AAAAAAAANkA=",
          "dtype": "f8"
         }
        },
        {
         "hovertemplate": "Country=%{y}<br>Continent=%{x}<br>TotalDeaths=%{z}<extra></extra>",
         "legendgroup": "Tanzania",
         "marker": {
          "color": "#EF553B",
          "symbol": "circle"
         },
         "mode": "markers",
         "name": "Tanzania",
         "scene": "scene",
         "showlegend": true,
         "type": "scatter3d",
         "x": [
          "Africa"
         ],
         "y": [
          "Tanzania"
         ],
         "z": {
          "bdata": "AAAAAAAANUA=",
          "dtype": "f8"
         }
        },
        {
         "hovertemplate": "Country=%{y}<br>Continent=%{x}<br>TotalDeaths=%{z}<extra></extra>",
         "legendgroup": "Taiwan",
         "marker": {
          "color": "#00cc96",
          "symbol": "circle"
         },
         "mode": "markers",
         "name": "Taiwan",
         "scene": "scene",
         "showlegend": true,
         "type": "scatter3d",
         "x": [
          "Asia"
         ],
         "y": [
          "Taiwan"
         ],
         "z": {
          "bdata": "AAAAAAAAHEA=",
          "dtype": "f8"
         }
        },
        {
         "hovertemplate": "Country=%{y}<br>Continent=%{x}<br>TotalDeaths=%{z}<extra></extra>",
         "legendgroup": "Comoros",
         "marker": {
          "color": "#ab63fa",
          "symbol": "circle"
         },
         "mode": "markers",
         "name": "Comoros",
         "scene": "scene",
         "showlegend": true,
         "type": "scatter3d",
         "x": [
          "Africa"
         ],
         "y": [
          "Comoros"
         ],
         "z": {
          "bdata": "AAAAAAAAHEA=",
          "dtype": "f8"
         }
        },
        {
         "hovertemplate": "Country=%{y}<br>Continent=%{x}<br>TotalDeaths=%{z}<extra></extra>",
         "legendgroup": "Burundi",
         "marker": {
          "color": "#FFA15A",
          "symbol": "circle"
         },
         "mode": "markers",
         "name": "Burundi",
         "scene": "scene",
         "showlegend": true,
         "type": "scatter3d",
         "x": [
          "Africa"
         ],
         "y": [
          "Burundi"
         ],
         "z": {
          "bdata": "AAAAAAAA8D8=",
          "dtype": "f8"
         }
        },
        {
         "hovertemplate": "Country=%{y}<br>Continent=%{x}<br>TotalDeaths=%{z}<extra></extra>",
         "legendgroup": "Myanmar",
         "marker": {
          "color": "#19d3f3",
          "symbol": "circle"
         },
         "mode": "markers",
         "name": "Myanmar",
         "scene": "scene",
         "showlegend": true,
         "type": "scatter3d",
         "x": [
          "Asia"
         ],
         "y": [
          "Myanmar"
         ],
         "z": {
          "bdata": "AAAAAAAAGEA=",
          "dtype": "f8"
         }
        },
        {
         "hovertemplate": "Country=%{y}<br>Continent=%{x}<br>TotalDeaths=%{z}<extra></extra>",
         "legendgroup": "Mauritius",
         "marker": {
          "color": "#FF6692",
          "symbol": "circle"
         },
         "mode": "markers",
         "name": "Mauritius",
         "scene": "scene",
         "showlegend": true,
         "type": "scatter3d",
         "x": [
          "Africa"
         ],
         "y": [
          "Mauritius"
         ],
         "z": {
          "bdata": "AAAAAAAAJEA=",
          "dtype": "f8"
         }
        },
        {
         "hovertemplate": "Country=%{y}<br>Continent=%{x}<br>TotalDeaths=%{z}<extra></extra>",
         "legendgroup": "Isle of Man",
         "marker": {
          "color": "#B6E880",
          "symbol": "circle"
         },
         "mode": "markers",
         "name": "Isle of Man",
         "scene": "scene",
         "showlegend": true,
         "type": "scatter3d",
         "x": [
          "Europe"
         ],
         "y": [
          "Isle of Man"
         ],
         "z": {
          "bdata": "AAAAAAAAOEA=",
          "dtype": "f8"
         }
        },
        {
         "hovertemplate": "Country=%{y}<br>Continent=%{x}<br>TotalDeaths=%{z}<extra></extra>",
         "legendgroup": "Mongolia",
         "marker": {
          "color": "#FF97FF",
          "symbol": "circle"
         },
         "mode": "markers",
         "name": "Mongolia",
         "scene": "scene",
         "showlegend": true,
         "type": "scatter3d",
         "x": [
          "Asia"
         ],
         "y": [
          "Mongolia"
         ],
         "z": {
          "bdata": "AAAAAAAA+H8=",
          "dtype": "f8"
         }
        },
        {
         "hovertemplate": "Country=%{y}<br>Continent=%{x}<br>TotalDeaths=%{z}<extra></extra>",
         "legendgroup": "Eritrea",
         "marker": {
          "color": "#FECB52",
          "symbol": "circle"
         },
         "mode": "markers",
         "name": "Eritrea",
         "scene": "scene",
         "showlegend": true,
         "type": "scatter3d",
         "x": [
          "Africa"
         ],
         "y": [
          "Eritrea"
         ],
         "z": {
          "bdata": "AAAAAAAA+H8=",
          "dtype": "f8"
         }
        },
        {
         "hovertemplate": "Country=%{y}<br>Continent=%{x}<br>TotalDeaths=%{z}<extra></extra>",
         "legendgroup": "Guadeloupe",
         "marker": {
          "color": "#636efa",
          "symbol": "circle"
         },
         "mode": "markers",
         "name": "Guadeloupe",
         "scene": "scene",
         "showlegend": true,
         "type": "scatter3d",
         "x": [
          "North America"
         ],
         "y": [
          "Guadeloupe"
         ],
         "z": {
          "bdata": "AAAAAAAALEA=",
          "dtype": "f8"
         }
        },
        {
         "hovertemplate": "Country=%{y}<br>Continent=%{x}<br>TotalDeaths=%{z}<extra></extra>",
         "legendgroup": "Martinique",
         "marker": {
          "color": "#EF553B",
          "symbol": "circle"
         },
         "mode": "markers",
         "name": "Martinique",
         "scene": "scene",
         "showlegend": true,
         "type": "scatter3d",
         "x": [
          "North America"
         ],
         "y": [
          "Martinique"
         ],
         "z": {
          "bdata": "AAAAAAAALkA=",
          "dtype": "f8"
         }
        },
        {
         "hovertemplate": "Country=%{y}<br>Continent=%{x}<br>TotalDeaths=%{z}<extra></extra>",
         "legendgroup": "Faeroe Islands",
         "marker": {
          "color": "#00cc96",
          "symbol": "circle"
         },
         "mode": "markers",
         "name": "Faeroe Islands",
         "scene": "scene",
         "showlegend": true,
         "type": "scatter3d",
         "x": [
          "Europe"
         ],
         "y": [
          "Faeroe Islands"
         ],
         "z": {
          "bdata": "AAAAAAAA+H8=",
          "dtype": "f8"
         }
        },
        {
         "hovertemplate": "Country=%{y}<br>Continent=%{x}<br>TotalDeaths=%{z}<extra></extra>",
         "legendgroup": "Aruba",
         "marker": {
          "color": "#ab63fa",
          "symbol": "circle"
         },
         "mode": "markers",
         "name": "Aruba",
         "scene": "scene",
         "showlegend": true,
         "type": "scatter3d",
         "x": [
          "North America"
         ],
         "y": [
          "Aruba"
         ],
         "z": {
          "bdata": "AAAAAAAACEA=",
          "dtype": "f8"
         }
        },
        {
         "hovertemplate": "Country=%{y}<br>Continent=%{x}<br>TotalDeaths=%{z}<extra></extra>",
         "legendgroup": "Cambodia",
         "marker": {
          "color": "#FFA15A",
          "symbol": "circle"
         },
         "mode": "markers",
         "name": "Cambodia",
         "scene": "scene",
         "showlegend": true,
         "type": "scatter3d",
         "x": [
          "Asia"
         ],
         "y": [
          "Cambodia"
         ],
         "z": {
          "bdata": "AAAAAAAA+H8=",
          "dtype": "f8"
         }
        },
        {
         "hovertemplate": "Country=%{y}<br>Continent=%{x}<br>TotalDeaths=%{z}<extra></extra>",
         "legendgroup": "Trinidad and Tobago",
         "marker": {
          "color": "#19d3f3",
          "symbol": "circle"
         },
         "mode": "markers",
         "name": "Trinidad and Tobago",
         "scene": "scene",
         "showlegend": true,
         "type": "scatter3d",
         "x": [
          "North America"
         ],
         "y": [
          "Trinidad and Tobago"
         ],
         "z": {
          "bdata": "AAAAAAAAIEA=",
          "dtype": "f8"
         }
        },
        {
         "hovertemplate": "Country=%{y}<br>Continent=%{x}<br>TotalDeaths=%{z}<extra></extra>",
         "legendgroup": "Cayman Islands",
         "marker": {
          "color": "#FF6692",
          "symbol": "circle"
         },
         "mode": "markers",
         "name": "Cayman Islands",
         "scene": "scene",
         "showlegend": true,
         "type": "scatter3d",
         "x": [
          "North America"
         ],
         "y": [
          "Cayman Islands"
         ],
         "z": {
          "bdata": "AAAAAAAA8D8=",
          "dtype": "f8"
         }
        },
        {
         "hovertemplate": "Country=%{y}<br>Continent=%{x}<br>TotalDeaths=%{z}<extra></extra>",
         "legendgroup": "Gibraltar",
         "marker": {
          "color": "#B6E880",
          "symbol": "circle"
         },
         "mode": "markers",
         "name": "Gibraltar",
         "scene": "scene",
         "showlegend": true,
         "type": "scatter3d",
         "x": [
          "Europe"
         ],
         "y": [
          "Gibraltar"
         ],
         "z": {
          "bdata": "AAAAAAAA+H8=",
          "dtype": "f8"
         }
        },
        {
         "hovertemplate": "Country=%{y}<br>Continent=%{x}<br>TotalDeaths=%{z}<extra></extra>",
         "legendgroup": "Papua New Guinea",
         "marker": {
          "color": "#FF97FF",
          "symbol": "circle"
         },
         "mode": "markers",
         "name": "Papua New Guinea",
         "scene": "scene",
         "showlegend": true,
         "type": "scatter3d",
         "x": [
          "Australia/Oceania"
         ],
         "y": [
          "Papua New Guinea"
         ],
         "z": {
          "bdata": "AAAAAAAACEA=",
          "dtype": "f8"
         }
        },
        {
         "hovertemplate": "Country=%{y}<br>Continent=%{x}<br>TotalDeaths=%{z}<extra></extra>",
         "legendgroup": "Sint Maarten",
         "marker": {
          "color": "#FECB52",
          "symbol": "circle"
         },
         "mode": "markers",
         "name": "Sint Maarten",
         "scene": "scene",
         "showlegend": true,
         "type": "scatter3d",
         "x": [
          "North America"
         ],
         "y": [
          "Sint Maarten"
         ],
         "z": {
          "bdata": "AAAAAAAAMEA=",
          "dtype": "f8"
         }
        },
        {
         "hovertemplate": "Country=%{y}<br>Continent=%{x}<br>TotalDeaths=%{z}<extra></extra>",
         "legendgroup": "Bermuda",
         "marker": {
          "color": "#636efa",
          "symbol": "circle"
         },
         "mode": "markers",
         "name": "Bermuda",
         "scene": "scene",
         "showlegend": true,
         "type": "scatter3d",
         "x": [
          "North America"
         ],
         "y": [
          "Bermuda"
         ],
         "z": {
          "bdata": "AAAAAAAAIkA=",
          "dtype": "f8"
         }
        },
        {
         "hovertemplate": "Country=%{y}<br>Continent=%{x}<br>TotalDeaths=%{z}<extra></extra>",
         "legendgroup": "Brunei ",
         "marker": {
          "color": "#EF553B",
          "symbol": "circle"
         },
         "mode": "markers",
         "name": "Brunei ",
         "scene": "scene",
         "showlegend": true,
         "type": "scatter3d",
         "x": [
          "Asia"
         ],
         "y": [
          "Brunei "
         ],
         "z": {
          "bdata": "AAAAAAAACEA=",
          "dtype": "f8"
         }
        },
        {
         "hovertemplate": "Country=%{y}<br>Continent=%{x}<br>TotalDeaths=%{z}<extra></extra>",
         "legendgroup": "Barbados",
         "marker": {
          "color": "#00cc96",
          "symbol": "circle"
         },
         "mode": "markers",
         "name": "Barbados",
         "scene": "scene",
         "showlegend": true,
         "type": "scatter3d",
         "x": [
          "North America"
         ],
         "y": [
          "Barbados"
         ],
         "z": {
          "bdata": "AAAAAAAAHEA=",
          "dtype": "f8"
         }
        },
        {
         "hovertemplate": "Country=%{y}<br>Continent=%{x}<br>TotalDeaths=%{z}<extra></extra>",
         "legendgroup": "Turks and Caicos",
         "marker": {
          "color": "#ab63fa",
          "symbol": "circle"
         },
         "mode": "markers",
         "name": "Turks and Caicos",
         "scene": "scene",
         "showlegend": true,
         "type": "scatter3d",
         "x": [
          "North America"
         ],
         "y": [
          "Turks and Caicos"
         ],
         "z": {
          "bdata": "AAAAAAAAAEA=",
          "dtype": "f8"
         }
        },
        {
         "hovertemplate": "Country=%{y}<br>Continent=%{x}<br>TotalDeaths=%{z}<extra></extra>",
         "legendgroup": "Seychelles",
         "marker": {
          "color": "#FFA15A",
          "symbol": "circle"
         },
         "mode": "markers",
         "name": "Seychelles",
         "scene": "scene",
         "showlegend": true,
         "type": "scatter3d",
         "x": [
          "Africa"
         ],
         "y": [
          "Seychelles"
         ],
         "z": {
          "bdata": "AAAAAAAA+H8=",
          "dtype": "f8"
         }
        },
        {
         "hovertemplate": "Country=%{y}<br>Continent=%{x}<br>TotalDeaths=%{z}<extra></extra>",
         "legendgroup": "Monaco",
         "marker": {
          "color": "#19d3f3",
          "symbol": "circle"
         },
         "mode": "markers",
         "name": "Monaco",
         "scene": "scene",
         "showlegend": true,
         "type": "scatter3d",
         "x": [
          "Europe"
         ],
         "y": [
          "Monaco"
         ],
         "z": {
          "bdata": "AAAAAAAAEEA=",
          "dtype": "f8"
         }
        },
        {
         "hovertemplate": "Country=%{y}<br>Continent=%{x}<br>TotalDeaths=%{z}<extra></extra>",
         "legendgroup": "Bhutan",
         "marker": {
          "color": "#FF6692",
          "symbol": "circle"
         },
         "mode": "markers",
         "name": "Bhutan",
         "scene": "scene",
         "showlegend": true,
         "type": "scatter3d",
         "x": [
          "Asia"
         ],
         "y": [
          "Bhutan"
         ],
         "z": {
          "bdata": "AAAAAAAA+H8=",
          "dtype": "f8"
         }
        },
        {
         "hovertemplate": "Country=%{y}<br>Continent=%{x}<br>TotalDeaths=%{z}<extra></extra>",
         "legendgroup": "Antigua and Barbuda",
         "marker": {
          "color": "#B6E880",
          "symbol": "circle"
         },
         "mode": "markers",
         "name": "Antigua and Barbuda",
         "scene": "scene",
         "showlegend": true,
         "type": "scatter3d",
         "x": [
          "North America"
         ],
         "y": [
          "Antigua and Barbuda"
         ],
         "z": {
          "bdata": "AAAAAAAACEA=",
          "dtype": "f8"
         }
        },
        {
         "hovertemplate": "Country=%{y}<br>Continent=%{x}<br>TotalDeaths=%{z}<extra></extra>",
         "legendgroup": "Liechtenstein",
         "marker": {
          "color": "#FF97FF",
          "symbol": "circle"
         },
         "mode": "markers",
         "name": "Liechtenstein",
         "scene": "scene",
         "showlegend": true,
         "type": "scatter3d",
         "x": [
          "Europe"
         ],
         "y": [
          "Liechtenstein"
         ],
         "z": {
          "bdata": "AAAAAAAA8D8=",
          "dtype": "f8"
         }
        },
        {
         "hovertemplate": "Country=%{y}<br>Continent=%{x}<br>TotalDeaths=%{z}<extra></extra>",
         "legendgroup": "Belize",
         "marker": {
          "color": "#FECB52",
          "symbol": "circle"
         },
         "mode": "markers",
         "name": "Belize",
         "scene": "scene",
         "showlegend": true,
         "type": "scatter3d",
         "x": [
          "North America"
         ],
         "y": [
          "Belize"
         ],
         "z": {
          "bdata": "AAAAAAAAAEA=",
          "dtype": "f8"
         }
        },
        {
         "hovertemplate": "Country=%{y}<br>Continent=%{x}<br>TotalDeaths=%{z}<extra></extra>",
         "legendgroup": "French Polynesia",
         "marker": {
          "color": "#636efa",
          "symbol": "circle"
         },
         "mode": "markers",
         "name": "French Polynesia",
         "scene": "scene",
         "showlegend": true,
         "type": "scatter3d",
         "x": [
          "Australia/Oceania"
         ],
         "y": [
          "French Polynesia"
         ],
         "z": {
          "bdata": "AAAAAAAA+H8=",
          "dtype": "f8"
         }
        },
        {
         "hovertemplate": "Country=%{y}<br>Continent=%{x}<br>TotalDeaths=%{z}<extra></extra>",
         "legendgroup": "St. Vincent Grenadines",
         "marker": {
          "color": "#EF553B",
          "symbol": "circle"
         },
         "mode": "markers",
         "name": "St. Vincent Grenadines",
         "scene": "scene",
         "showlegend": true,
         "type": "scatter3d",
         "x": [
          "North America"
         ],
         "y": [
          "St. Vincent Grenadines"
         ],
         "z": {
          "bdata": "AAAAAAAA+H8=",
          "dtype": "f8"
         }
        },
        {
         "hovertemplate": "Country=%{y}<br>Continent=%{x}<br>TotalDeaths=%{z}<extra></extra>",
         "legendgroup": "Saint Martin",
         "marker": {
          "color": "#00cc96",
          "symbol": "circle"
         },
         "mode": "markers",
         "name": "Saint Martin",
         "scene": "scene",
         "showlegend": true,
         "type": "scatter3d",
         "x": [
          "North America"
         ],
         "y": [
          "Saint Martin"
         ],
         "z": {
          "bdata": "AAAAAAAACEA=",
          "dtype": "f8"
         }
        },
        {
         "hovertemplate": "Country=%{y}<br>Continent=%{x}<br>TotalDeaths=%{z}<extra></extra>",
         "legendgroup": "Macao",
         "marker": {
          "color": "#ab63fa",
          "symbol": "circle"
         },
         "mode": "markers",
         "name": "Macao",
         "scene": "scene",
         "showlegend": true,
         "type": "scatter3d",
         "x": [
          "Asia"
         ],
         "y": [
          "Macao"
         ],
         "z": {
          "bdata": "AAAAAAAA+H8=",
          "dtype": "f8"
         }
        },
        {
         "hovertemplate": "Country=%{y}<br>Continent=%{x}<br>TotalDeaths=%{z}<extra></extra>",
         "legendgroup": "Curaçao",
         "marker": {
          "color": "#FFA15A",
          "symbol": "circle"
         },
         "mode": "markers",
         "name": "Curaçao",
         "scene": "scene",
         "showlegend": true,
         "type": "scatter3d",
         "x": [
          "North America"
         ],
         "y": [
          "Curaçao"
         ],
         "z": {
          "bdata": "AAAAAAAA8D8=",
          "dtype": "f8"
         }
        },
        {
         "hovertemplate": "Country=%{y}<br>Continent=%{x}<br>TotalDeaths=%{z}<extra></extra>",
         "legendgroup": "Fiji",
         "marker": {
          "color": "#19d3f3",
          "symbol": "circle"
         },
         "mode": "markers",
         "name": "Fiji",
         "scene": "scene",
         "showlegend": true,
         "type": "scatter3d",
         "x": [
          "Australia/Oceania"
         ],
         "y": [
          "Fiji"
         ],
         "z": {
          "bdata": "AAAAAAAA8D8=",
          "dtype": "f8"
         }
        },
        {
         "hovertemplate": "Country=%{y}<br>Continent=%{x}<br>TotalDeaths=%{z}<extra></extra>",
         "legendgroup": "Saint Lucia",
         "marker": {
          "color": "#FF6692",
          "symbol": "circle"
         },
         "mode": "markers",
         "name": "Saint Lucia",
         "scene": "scene",
         "showlegend": true,
         "type": "scatter3d",
         "x": [
          "North America"
         ],
         "y": [
          "Saint Lucia"
         ],
         "z": {
          "bdata": "AAAAAAAA+H8=",
          "dtype": "f8"
         }
        },
        {
         "hovertemplate": "Country=%{y}<br>Continent=%{x}<br>TotalDeaths=%{z}<extra></extra>",
         "legendgroup": "Timor-Leste",
         "marker": {
          "color": "#B6E880",
          "symbol": "circle"
         },
         "mode": "markers",
         "name": "Timor-Leste",
         "scene": "scene",
         "showlegend": true,
         "type": "scatter3d",
         "x": [
          "Asia"
         ],
         "y": [
          "Timor-Leste"
         ],
         "z": {
          "bdata": "AAAAAAAA+H8=",
          "dtype": "f8"
         }
        },
        {
         "hovertemplate": "Country=%{y}<br>Continent=%{x}<br>TotalDeaths=%{z}<extra></extra>",
         "legendgroup": "Grenada",
         "marker": {
          "color": "#FF97FF",
          "symbol": "circle"
         },
         "mode": "markers",
         "name": "Grenada",
         "scene": "scene",
         "showlegend": true,
         "type": "scatter3d",
         "x": [
          "North America"
         ],
         "y": [
          "Grenada"
         ],
         "z": {
          "bdata": "AAAAAAAA+H8=",
          "dtype": "f8"
         }
        },
        {
         "hovertemplate": "Country=%{y}<br>Continent=%{x}<br>TotalDeaths=%{z}<extra></extra>",
         "legendgroup": "New Caledonia",
         "marker": {
          "color": "#FECB52",
          "symbol": "circle"
         },
         "mode": "markers",
         "name": "New Caledonia",
         "scene": "scene",
         "showlegend": true,
         "type": "scatter3d",
         "x": [
          "Australia/Oceania"
         ],
         "y": [
          "New Caledonia"
         ],
         "z": {
          "bdata": "AAAAAAAA+H8=",
          "dtype": "f8"
         }
        },
        {
         "hovertemplate": "Country=%{y}<br>Continent=%{x}<br>TotalDeaths=%{z}<extra></extra>",
         "legendgroup": "Laos",
         "marker": {
          "color": "#636efa",
          "symbol": "circle"
         },
         "mode": "markers",
         "name": "Laos",
         "scene": "scene",
         "showlegend": true,
         "type": "scatter3d",
         "x": [
          "Asia"
         ],
         "y": [
          "Laos"
         ],
         "z": {
          "bdata": "AAAAAAAA+H8=",
          "dtype": "f8"
         }
        },
        {
         "hovertemplate": "Country=%{y}<br>Continent=%{x}<br>TotalDeaths=%{z}<extra></extra>",
         "legendgroup": "Dominica",
         "marker": {
          "color": "#EF553B",
          "symbol": "circle"
         },
         "mode": "markers",
         "name": "Dominica",
         "scene": "scene",
         "showlegend": true,
         "type": "scatter3d",
         "x": [
          "North America"
         ],
         "y": [
          "Dominica"
         ],
         "z": {
          "bdata": "AAAAAAAA+H8=",
          "dtype": "f8"
         }
        },
        {
         "hovertemplate": "Country=%{y}<br>Continent=%{x}<br>TotalDeaths=%{z}<extra></extra>",
         "legendgroup": "Saint Kitts and Nevis",
         "marker": {
          "color": "#00cc96",
          "symbol": "circle"
         },
         "mode": "markers",
         "name": "Saint Kitts and Nevis",
         "scene": "scene",
         "showlegend": true,
         "type": "scatter3d",
         "x": [
          "North America"
         ],
         "y": [
          "Saint Kitts and Nevis"
         ],
         "z": {
          "bdata": "AAAAAAAA+H8=",
          "dtype": "f8"
         }
        },
        {
         "hovertemplate": "Country=%{y}<br>Continent=%{x}<br>TotalDeaths=%{z}<extra></extra>",
         "legendgroup": "Greenland",
         "marker": {
          "color": "#ab63fa",
          "symbol": "circle"
         },
         "mode": "markers",
         "name": "Greenland",
         "scene": "scene",
         "showlegend": true,
         "type": "scatter3d",
         "x": [
          "North America"
         ],
         "y": [
          "Greenland"
         ],
         "z": {
          "bdata": "AAAAAAAA+H8=",
          "dtype": "f8"
         }
        },
        {
         "hovertemplate": "Country=%{y}<br>Continent=%{x}<br>TotalDeaths=%{z}<extra></extra>",
         "legendgroup": "Montserrat",
         "marker": {
          "color": "#FFA15A",
          "symbol": "circle"
         },
         "mode": "markers",
         "name": "Montserrat",
         "scene": "scene",
         "showlegend": true,
         "type": "scatter3d",
         "x": [
          "North America"
         ],
         "y": [
          "Montserrat"
         ],
         "z": {
          "bdata": "AAAAAAAA8D8=",
          "dtype": "f8"
         }
        },
        {
         "hovertemplate": "Country=%{y}<br>Continent=%{x}<br>TotalDeaths=%{z}<extra></extra>",
         "legendgroup": "Caribbean Netherlands",
         "marker": {
          "color": "#19d3f3",
          "symbol": "circle"
         },
         "mode": "markers",
         "name": "Caribbean Netherlands",
         "scene": "scene",
         "showlegend": true,
         "type": "scatter3d",
         "x": [
          "North America"
         ],
         "y": [
          "Caribbean Netherlands"
         ],
         "z": {
          "bdata": "AAAAAAAA+H8=",
          "dtype": "f8"
         }
        },
        {
         "hovertemplate": "Country=%{y}<br>Continent=%{x}<br>TotalDeaths=%{z}<extra></extra>",
         "legendgroup": "Falkland Islands",
         "marker": {
          "color": "#FF6692",
          "symbol": "circle"
         },
         "mode": "markers",
         "name": "Falkland Islands",
         "scene": "scene",
         "showlegend": true,
         "type": "scatter3d",
         "x": [
          "South America"
         ],
         "y": [
          "Falkland Islands"
         ],
         "z": {
          "bdata": "AAAAAAAA+H8=",
          "dtype": "f8"
         }
        },
        {
         "hovertemplate": "Country=%{y}<br>Continent=%{x}<br>TotalDeaths=%{z}<extra></extra>",
         "legendgroup": "Vatican City",
         "marker": {
          "color": "#B6E880",
          "symbol": "circle"
         },
         "mode": "markers",
         "name": "Vatican City",
         "scene": "scene",
         "showlegend": true,
         "type": "scatter3d",
         "x": [
          "Europe"
         ],
         "y": [
          "Vatican City"
         ],
         "z": {
          "bdata": "AAAAAAAA+H8=",
          "dtype": "f8"
         }
        },
        {
         "hovertemplate": "Country=%{y}<br>Continent=%{x}<br>TotalDeaths=%{z}<extra></extra>",
         "legendgroup": "Western Sahara",
         "marker": {
          "color": "#FF97FF",
          "symbol": "circle"
         },
         "mode": "markers",
         "name": "Western Sahara",
         "scene": "scene",
         "showlegend": true,
         "type": "scatter3d",
         "x": [
          "Africa"
         ],
         "y": [
          "Western Sahara"
         ],
         "z": {
          "bdata": "AAAAAAAA8D8=",
          "dtype": "f8"
         }
        }
       ],
       "layout": {
        "legend": {
         "title": {
          "text": "Country"
         },
         "tracegroupgap": 0
        },
        "margin": {
         "t": 60
        },
        "scene": {
         "domain": {
          "x": [
           0,
           1
          ],
          "y": [
           0,
           1
          ]
         },
         "xaxis": {
          "title": {
           "text": "Continent"
          }
         },
         "yaxis": {
          "categoryarray": [
           "USA",
           "Brazil",
           "India",
           "Russia",
           "South Africa",
           "Mexico",
           "Peru",
           "Chile",
           "Colombia",
           "Spain",
           "Iran",
           "UK",
           "Saudi Arabia",
           "Pakistan",
           "Bangladesh",
           "Italy",
           "Turkey",
           "Argentina",
           "Germany",
           "France",
           "Iraq",
           "Philippines",
           "Indonesia",
           "Canada",
           "Qatar",
           "Kazakhstan",
           "Egypt",
           "Ecuador",
           "Bolivia",
           "Sweden",
           "Oman",
           "Israel",
           "Ukraine",
           "Dominican Republic",
           "Panama",
           "Belgium",
           "Kuwait",
           "Belarus",
           "UAE",
           "Romania",
           "Netherlands",
           "Singapore",
           "Guatemala",
           "Portugal",
           "Poland",
           "Nigeria",
           "Honduras",
           "Bahrain",
           "Japan",
           "Armenia",
           "Ghana",
           "Kyrgyzstan",
           "Afghanistan",
           "Switzerland",
           "Algeria",
           "Azerbaijan",
           "Morocco",
           "Uzbekistan",
           "Serbia",
           "Moldova",
           "Ireland",
           "Kenya",
           "Venezuela",
           "Nepal",
           "Austria",
           "Costa Rica",
           "Ethiopia",
           "Australia",
           "El Salvador",
           "Czechia",
           "Cameroon",
           "Ivory Coast",
           "S. Korea",
           "Denmark",
           "Palestine",
           "Bosnia and Herzegovina",
           "Bulgaria",
           "Madagascar",
           "Sudan",
           "North Macedonia",
           "Senegal",
           "Norway",
           "DRC",
           "Malaysia",
           "French Guiana",
           "Gabon",
           "Tajikistan",
           "Guinea",
           "Haiti",
           "Finland",
           "Zambia",
           "Luxembourg",
           "Mauritania",
           "Paraguay",
           "Albania",
           "Lebanon",
           "Croatia",
           "Djibouti",
           "Greece",
           "Libya",
           "Equatorial Guinea",
           "Maldives",
           "CAR",
           "Hungary",
           "Malawi",
           "Zimbabwe",
           "Nicaragua",
           "Hong Kong",
           "Congo",
           "Montenegro",
           "Thailand",
           "Somalia",
           "Mayotte",
           "Eswatini",
           "Sri Lanka",
           "Cuba",
           "Cabo Verde",
           "Namibia",
           "Mali",
           "Slovakia",
           "South Sudan",
           "Slovenia",
           "Lithuania",
           "Estonia",
           "Mozambique",
           "Rwanda",
           "Suriname",
           "Guinea-Bissau",
           "Benin",
           "Iceland",
           "Sierra Leone",
           "Yemen",
           "Tunisia",
           "New Zealand",
           "Angola",
           "Uruguay",
           "Latvia",
           "Jordan",
           "Liberia",
           "Uganda",
           "Cyprus",
           "Georgia",
           "Burkina Faso",
           "Niger",
           "Togo",
           "Syria",
           "Jamaica",
           "Malta",
           "Andorra",
           "Chad",
           "Gambia",
           "Sao Tome and Principe",
           "Botswana",
           "Bahamas",
           "Vietnam",
           "Lesotho",
           "Diamond Princess",
           "San Marino",
           "Réunion",
           "Channel Islands",
           "Guyana",
           "Tanzania",
           "Taiwan",
           "Comoros",
           "Burundi",
           "Myanmar",
           "Mauritius",
           "Isle of Man",
           "Mongolia",
           "Eritrea",
           "Guadeloupe",
           "Martinique",
           "Faeroe Islands",
           "Aruba",
           "Cambodia",
           "Trinidad and Tobago",
           "Cayman Islands",
           "Gibraltar",
           "Papua New Guinea",
           "Sint Maarten",
           "Bermuda",
           "Brunei ",
           "Barbados",
           "Turks and Caicos",
           "Seychelles",
           "Monaco",
           "Bhutan",
           "Antigua and Barbuda",
           "Liechtenstein",
           "Belize",
           "French Polynesia",
           "St. Vincent Grenadines",
           "Saint Martin",
           "Macao",
           "Curaçao",
           "Fiji",
           "Saint Lucia",
           "Timor-Leste",
           "Grenada",
           "New Caledonia",
           "Laos",
           "Dominica",
           "Saint Kitts and Nevis",
           "Greenland",
           "Montserrat",
           "Caribbean Netherlands",
           "Falkland Islands",
           "Vatican City",
           "Western Sahara"
          ],
          "categoryorder": "array",
          "title": {
           "text": "Country"
          }
         },
         "zaxis": {
          "title": {
           "text": "TotalDeaths"
          }
         }
        },
        "template": {
         "data": {
          "bar": [
           {
            "error_x": {
             "color": "#2a3f5f"
            },
            "error_y": {
             "color": "#2a3f5f"
            },
            "marker": {
             "line": {
              "color": "#E5ECF6",
              "width": 0.5
             },
             "pattern": {
              "fillmode": "overlay",
              "size": 10,
              "solidity": 0.2
             }
            },
            "type": "bar"
           }
          ],
          "barpolar": [
           {
            "marker": {
             "line": {
              "color": "#E5ECF6",
              "width": 0.5
             },
             "pattern": {
              "fillmode": "overlay",
              "size": 10,
              "solidity": 0.2
             }
            },
            "type": "barpolar"
           }
          ],
          "carpet": [
           {
            "aaxis": {
             "endlinecolor": "#2a3f5f",
             "gridcolor": "white",
             "linecolor": "white",
             "minorgridcolor": "white",
             "startlinecolor": "#2a3f5f"
            },
            "baxis": {
             "endlinecolor": "#2a3f5f",
             "gridcolor": "white",
             "linecolor": "white",
             "minorgridcolor": "white",
             "startlinecolor": "#2a3f5f"
            },
            "type": "carpet"
           }
          ],
          "choropleth": [
           {
            "colorbar": {
             "outlinewidth": 0,
             "ticks": ""
            },
            "type": "choropleth"
           }
          ],
          "contour": [
           {
            "colorbar": {
             "outlinewidth": 0,
             "ticks": ""
            },
            "colorscale": [
             [
              0,
              "#0d0887"
             ],
             [
              0.1111111111111111,
              "#46039f"
             ],
             [
              0.2222222222222222,
              "#7201a8"
             ],
             [
              0.3333333333333333,
              "#9c179e"
             ],
             [
              0.4444444444444444,
              "#bd3786"
             ],
             [
              0.5555555555555556,
              "#d8576b"
             ],
             [
              0.6666666666666666,
              "#ed7953"
             ],
             [
              0.7777777777777778,
              "#fb9f3a"
             ],
             [
              0.8888888888888888,
              "#fdca26"
             ],
             [
              1,
              "#f0f921"
             ]
            ],
            "type": "contour"
           }
          ],
          "contourcarpet": [
           {
            "colorbar": {
             "outlinewidth": 0,
             "ticks": ""
            },
            "type": "contourcarpet"
           }
          ],
          "heatmap": [
           {
            "colorbar": {
             "outlinewidth": 0,
             "ticks": ""
            },
            "colorscale": [
             [
              0,
              "#0d0887"
             ],
             [
              0.1111111111111111,
              "#46039f"
             ],
             [
              0.2222222222222222,
              "#7201a8"
             ],
             [
              0.3333333333333333,
              "#9c179e"
             ],
             [
              0.4444444444444444,
              "#bd3786"
             ],
             [
              0.5555555555555556,
              "#d8576b"
             ],
             [
              0.6666666666666666,
              "#ed7953"
             ],
             [
              0.7777777777777778,
              "#fb9f3a"
             ],
             [
              0.8888888888888888,
              "#fdca26"
             ],
             [
              1,
              "#f0f921"
             ]
            ],
            "type": "heatmap"
           }
          ],
          "histogram": [
           {
            "marker": {
             "pattern": {
              "fillmode": "overlay",
              "size": 10,
              "solidity": 0.2
             }
            },
            "type": "histogram"
           }
          ],
          "histogram2d": [
           {
            "colorbar": {
             "outlinewidth": 0,
             "ticks": ""
            },
            "colorscale": [
             [
              0,
              "#0d0887"
             ],
             [
              0.1111111111111111,
              "#46039f"
             ],
             [
              0.2222222222222222,
              "#7201a8"
             ],
             [
              0.3333333333333333,
              "#9c179e"
             ],
             [
              0.4444444444444444,
              "#bd3786"
             ],
             [
              0.5555555555555556,
              "#d8576b"
             ],
             [
              0.6666666666666666,
              "#ed7953"
             ],
             [
              0.7777777777777778,
              "#fb9f3a"
             ],
             [
              0.8888888888888888,
              "#fdca26"
             ],
             [
              1,
              "#f0f921"
             ]
            ],
            "type": "histogram2d"
           }
          ],
          "histogram2dcontour": [
           {
            "colorbar": {
             "outlinewidth": 0,
             "ticks": ""
            },
            "colorscale": [
             [
              0,
              "#0d0887"
             ],
             [
              0.1111111111111111,
              "#46039f"
             ],
             [
              0.2222222222222222,
              "#7201a8"
             ],
             [
              0.3333333333333333,
              "#9c179e"
             ],
             [
              0.4444444444444444,
              "#bd3786"
             ],
             [
              0.5555555555555556,
              "#d8576b"
             ],
             [
              0.6666666666666666,
              "#ed7953"
             ],
             [
              0.7777777777777778,
              "#fb9f3a"
             ],
             [
              0.8888888888888888,
              "#fdca26"
             ],
             [
              1,
              "#f0f921"
             ]
            ],
            "type": "histogram2dcontour"
           }
          ],
          "mesh3d": [
           {
            "colorbar": {
             "outlinewidth": 0,
             "ticks": ""
            },
            "type": "mesh3d"
           }
          ],
          "parcoords": [
           {
            "line": {
             "colorbar": {
              "outlinewidth": 0,
              "ticks": ""
             }
            },
            "type": "parcoords"
           }
          ],
          "pie": [
           {
            "automargin": true,
            "type": "pie"
           }
          ],
          "scatter": [
           {
            "fillpattern": {
             "fillmode": "overlay",
             "size": 10,
             "solidity": 0.2
            },
            "type": "scatter"
           }
          ],
          "scatter3d": [
           {
            "line": {
             "colorbar": {
              "outlinewidth": 0,
              "ticks": ""
             }
            },
            "marker": {
             "colorbar": {
              "outlinewidth": 0,
              "ticks": ""
             }
            },
            "type": "scatter3d"
           }
          ],
          "scattercarpet": [
           {
            "marker": {
             "colorbar": {
              "outlinewidth": 0,
              "ticks": ""
             }
            },
            "type": "scattercarpet"
           }
          ],
          "scattergeo": [
           {
            "marker": {
             "colorbar": {
              "outlinewidth": 0,
              "ticks": ""
             }
            },
            "type": "scattergeo"
           }
          ],
          "scattergl": [
           {
            "marker": {
             "colorbar": {
              "outlinewidth": 0,
              "ticks": ""
             }
            },
            "type": "scattergl"
           }
          ],
          "scattermap": [
           {
            "marker": {
             "colorbar": {
              "outlinewidth": 0,
              "ticks": ""
             }
            },
            "type": "scattermap"
           }
          ],
          "scattermapbox": [
           {
            "marker": {
             "colorbar": {
              "outlinewidth": 0,
              "ticks": ""
             }
            },
            "type": "scattermapbox"
           }
          ],
          "scatterpolar": [
           {
            "marker": {
             "colorbar": {
              "outlinewidth": 0,
              "ticks": ""
             }
            },
            "type": "scatterpolar"
           }
          ],
          "scatterpolargl": [
           {
            "marker": {
             "colorbar": {
              "outlinewidth": 0,
              "ticks": ""
             }
            },
            "type": "scatterpolargl"
           }
          ],
          "scatterternary": [
           {
            "marker": {
             "colorbar": {
              "outlinewidth": 0,
              "ticks": ""
             }
            },
            "type": "scatterternary"
           }
          ],
          "surface": [
           {
            "colorbar": {
             "outlinewidth": 0,
             "ticks": ""
            },
            "colorscale": [
             [
              0,
              "#0d0887"
             ],
             [
              0.1111111111111111,
              "#46039f"
             ],
             [
              0.2222222222222222,
              "#7201a8"
             ],
             [
              0.3333333333333333,
              "#9c179e"
             ],
             [
              0.4444444444444444,
              "#bd3786"
             ],
             [
              0.5555555555555556,
              "#d8576b"
             ],
             [
              0.6666666666666666,
              "#ed7953"
             ],
             [
              0.7777777777777778,
              "#fb9f3a"
             ],
             [
              0.8888888888888888,
              "#fdca26"
             ],
             [
              1,
              "#f0f921"
             ]
            ],
            "type": "surface"
           }
          ],
          "table": [
           {
            "cells": {
             "fill": {
              "color": "#EBF0F8"
             },
             "line": {
              "color": "white"
             }
            },
            "header": {
             "fill": {
              "color": "#C8D4E3"
             },
             "line": {
              "color": "white"
             }
            },
            "type": "table"
           }
          ]
         },
         "layout": {
          "annotationdefaults": {
           "arrowcolor": "#2a3f5f",
           "arrowhead": 0,
           "arrowwidth": 1
          },
          "autotypenumbers": "strict",
          "coloraxis": {
           "colorbar": {
            "outlinewidth": 0,
            "ticks": ""
           }
          },
          "colorscale": {
           "diverging": [
            [
             0,
             "#8e0152"
            ],
            [
             0.1,
             "#c51b7d"
            ],
            [
             0.2,
             "#de77ae"
            ],
            [
             0.3,
             "#f1b6da"
            ],
            [
             0.4,
             "#fde0ef"
            ],
            [
             0.5,
             "#f7f7f7"
            ],
            [
             0.6,
             "#e6f5d0"
            ],
            [
             0.7,
             "#b8e186"
            ],
            [
             0.8,
             "#7fbc41"
            ],
            [
             0.9,
             "#4d9221"
            ],
            [
             1,
             "#276419"
            ]
           ],
           "sequential": [
            [
             0,
             "#0d0887"
            ],
            [
             0.1111111111111111,
             "#46039f"
            ],
            [
             0.2222222222222222,
             "#7201a8"
            ],
            [
             0.3333333333333333,
             "#9c179e"
            ],
            [
             0.4444444444444444,
             "#bd3786"
            ],
            [
             0.5555555555555556,
             "#d8576b"
            ],
            [
             0.6666666666666666,
             "#ed7953"
            ],
            [
             0.7777777777777778,
             "#fb9f3a"
            ],
            [
             0.8888888888888888,
             "#fdca26"
            ],
            [
             1,
             "#f0f921"
            ]
           ],
           "sequentialminus": [
            [
             0,
             "#0d0887"
            ],
            [
             0.1111111111111111,
             "#46039f"
            ],
            [
             0.2222222222222222,
             "#7201a8"
            ],
            [
             0.3333333333333333,
             "#9c179e"
            ],
            [
             0.4444444444444444,
             "#bd3786"
            ],
            [
             0.5555555555555556,
             "#d8576b"
            ],
            [
             0.6666666666666666,
             "#ed7953"
            ],
            [
             0.7777777777777778,
             "#fb9f3a"
            ],
            [
             0.8888888888888888,
             "#fdca26"
            ],
            [
             1,
             "#f0f921"
            ]
           ]
          },
          "colorway": [
           "#636efa",
           "#EF553B",
           "#00cc96",
           "#ab63fa",
           "#FFA15A",
           "#19d3f3",
           "#FF6692",
           "#B6E880",
           "#FF97FF",
           "#FECB52"
          ],
          "font": {
           "color": "#2a3f5f"
          },
          "geo": {
           "bgcolor": "white",
           "lakecolor": "white",
           "landcolor": "#E5ECF6",
           "showlakes": true,
           "showland": true,
           "subunitcolor": "white"
          },
          "hoverlabel": {
           "align": "left"
          },
          "hovermode": "closest",
          "mapbox": {
           "style": "light"
          },
          "paper_bgcolor": "white",
          "plot_bgcolor": "#E5ECF6",
          "polar": {
           "angularaxis": {
            "gridcolor": "white",
            "linecolor": "white",
            "ticks": ""
           },
           "bgcolor": "#E5ECF6",
           "radialaxis": {
            "gridcolor": "white",
            "linecolor": "white",
            "ticks": ""
           }
          },
          "scene": {
           "xaxis": {
            "backgroundcolor": "#E5ECF6",
            "gridcolor": "white",
            "gridwidth": 2,
            "linecolor": "white",
            "showbackground": true,
            "ticks": "",
            "zerolinecolor": "white"
           },
           "yaxis": {
            "backgroundcolor": "#E5ECF6",
            "gridcolor": "white",
            "gridwidth": 2,
            "linecolor": "white",
            "showbackground": true,
            "ticks": "",
            "zerolinecolor": "white"
           },
           "zaxis": {
            "backgroundcolor": "#E5ECF6",
            "gridcolor": "white",
            "gridwidth": 2,
            "linecolor": "white",
            "showbackground": true,
            "ticks": "",
            "zerolinecolor": "white"
           }
          },
          "shapedefaults": {
           "line": {
            "color": "#2a3f5f"
           }
          },
          "ternary": {
           "aaxis": {
            "gridcolor": "white",
            "linecolor": "white",
            "ticks": ""
           },
           "baxis": {
            "gridcolor": "white",
            "linecolor": "white",
            "ticks": ""
           },
           "bgcolor": "#E5ECF6",
           "caxis": {
            "gridcolor": "white",
            "linecolor": "white",
            "ticks": ""
           }
          },
          "title": {
           "x": 0.05
          },
          "xaxis": {
           "automargin": true,
           "gridcolor": "white",
           "linecolor": "white",
           "ticks": "",
           "title": {
            "standoff": 15
           },
           "zerolinecolor": "white",
           "zerolinewidth": 2
          },
          "yaxis": {
           "automargin": true,
           "gridcolor": "white",
           "linecolor": "white",
           "ticks": "",
           "title": {
            "standoff": 15
           },
           "zerolinecolor": "white",
           "zerolinewidth": 2
          }
         }
        }
       }
      }
     },
     "metadata": {},
     "output_type": "display_data"
    }
   ],
   "source": [
    "covidna = covid.copy()\n",
    "covidna['TotalDeaths'] = covidna['TotalDeaths'].fillna(0)\n",
    "px.scatter_3d(covid,x='Continent',y='Country',z='TotalDeaths',color='Country')"
   ]
  }
 ],
 "metadata": {
  "kernelspec": {
   "display_name": "Python 3",
   "language": "python",
   "name": "python3"
  },
  "language_info": {
   "codemirror_mode": {
    "name": "ipython",
    "version": 3
   },
   "file_extension": ".py",
   "mimetype": "text/x-python",
   "name": "python",
   "nbconvert_exporter": "python",
   "pygments_lexer": "ipython3",
   "version": "3.11.0"
  }
 },
 "nbformat": 4,
 "nbformat_minor": 5
}
