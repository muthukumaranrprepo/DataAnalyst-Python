{
 "cells": [
  {
   "cell_type": "code",
   "execution_count": 2,
   "id": "751fe041",
   "metadata": {},
   "outputs": [
    {
     "name": "stdout",
     "output_type": "stream",
     "text": [
      "<class 'pandas.core.frame.DataFrame'>\n",
      "RangeIndex: 568 entries, 0 to 567\n",
      "Data columns (total 8 columns):\n",
      "Unnamed: 0         568 non-null int64\n",
      "Player's List      568 non-null object\n",
      "Base Price         568 non-null object\n",
      "TYPE               568 non-null object\n",
      "COST IN ₹ (CR.)    243 non-null float64\n",
      "Cost IN $ (000)    243 non-null float64\n",
      "2022 Squad         230 non-null object\n",
      "Team               568 non-null object\n",
      "dtypes: float64(2), int64(1), object(5)\n",
      "memory usage: 35.6+ KB\n"
     ]
    }
   ],
   "source": [
    "#project 2 : IPL Data Analysis \n",
    "# created by Muthukumaran RP\n",
    "import pandas as pd \n",
    "#from pandasai import SmartDataframe\n",
    "#from pandasai.llm.openai import OpenAI\n",
    "url = 'https://github.com/muthukumaranrprepo/DataAnalyst-Python/blob/main/DataFiles/IPLsquad23.csv?raw=true'\n",
    "ipldata = pd.read_csv(url)\n",
    "ipldata.info()"
   ]
  },
  {
   "cell_type": "code",
   "execution_count": 3,
   "id": "d00787e8",
   "metadata": {},
   "outputs": [
    {
     "name": "stdout",
     "output_type": "stream",
     "text": [
      "<class 'pandas.core.frame.DataFrame'>\n",
      "RangeIndex: 568 entries, 0 to 567\n",
      "Data columns (total 8 columns):\n",
      "Unnamed: 0         568 non-null int64\n",
      "Player's List      568 non-null object\n",
      "Base Price         568 non-null object\n",
      "TYPE               568 non-null object\n",
      "COST IN ₹ (CR.)    243 non-null float64\n",
      "Cost IN $ (000)    243 non-null float64\n",
      "2022 Squad         230 non-null object\n",
      "Team               568 non-null object\n",
      "dtypes: float64(2), int64(1), object(5)\n",
      "memory usage: 35.6+ KB\n"
     ]
    }
   ],
   "source": [
    "#project :: IPL Data Analysis \n",
    "#----------------------------\n",
    "# Import the DataSet\n",
    "import pandas as pd\n",
    "url = 'https://github.com/muthukumaranrprepo/DataAnalyst-Python/blob/main/DataFiles/IPLsquad23.csv?raw=true'\n",
    "ipldata = pd.read_csv(url)\n",
    "ipldata.info()"
   ]
  },
  {
   "cell_type": "code",
   "execution_count": 4,
   "id": "e9ba14f3",
   "metadata": {},
   "outputs": [
    {
     "data": {
      "text/html": [
       "<div>\n",
       "<style scoped>\n",
       "    .dataframe tbody tr th:only-of-type {\n",
       "        vertical-align: middle;\n",
       "    }\n",
       "\n",
       "    .dataframe tbody tr th {\n",
       "        vertical-align: top;\n",
       "    }\n",
       "\n",
       "    .dataframe thead th {\n",
       "        text-align: right;\n",
       "    }\n",
       "</style>\n",
       "<table border=\"1\" class=\"dataframe\">\n",
       "  <thead>\n",
       "    <tr style=\"text-align: right;\">\n",
       "      <th></th>\n",
       "      <th>Player_Name</th>\n",
       "      <th>Base Price</th>\n",
       "      <th>TYPE</th>\n",
       "      <th>COST IN ₹ (CR.)</th>\n",
       "      <th>Cost IN $ (000)</th>\n",
       "      <th>2022 Squad</th>\n",
       "      <th>Team</th>\n",
       "    </tr>\n",
       "  </thead>\n",
       "  <tbody>\n",
       "    <tr>\n",
       "      <th>281</th>\n",
       "      <td>Sandeep Sharma</td>\n",
       "      <td>5000000</td>\n",
       "      <td>BOWLER</td>\n",
       "      <td>NaN</td>\n",
       "      <td>NaN</td>\n",
       "      <td>PBKS</td>\n",
       "      <td>Unsold</td>\n",
       "    </tr>\n",
       "  </tbody>\n",
       "</table>\n",
       "</div>"
      ],
      "text/plain": [
       "        Player_Name Base Price    TYPE  COST IN ₹ (CR.)  Cost IN $ (000)  \\\n",
       "281  Sandeep Sharma    5000000  BOWLER              NaN              NaN   \n",
       "\n",
       "    2022 Squad    Team  \n",
       "281       PBKS  Unsold  "
      ]
     },
     "execution_count": 4,
     "metadata": {},
     "output_type": "execute_result"
    }
   ],
   "source": [
    "ipldata = ipldata.rename(columns={\"Player's List\": \"Player_Name\"})\n",
    "ipldata = ipldata.drop(columns=['Unnamed: 0'])\n",
    "ipldata.sample()"
   ]
  },
  {
   "cell_type": "code",
   "execution_count": null,
   "id": "ee0a19d5",
   "metadata": {},
   "outputs": [
    {
     "name": "stdout",
     "output_type": "stream",
     "text": [
      "The number of cheaply bought players number is 1\n",
      "player::: 97    Sam Curran\n",
      "Name: Player_Name, dtype: object\n",
      "The most costliest player is 97    Sam Curran\n",
      "Name: Player_Name, dtype: object with a cost of 18.5 crores.\n"
     ]
    }
   ],
   "source": [
    "#Analysis 1: Which players are the most costliest buys?\n",
    "\n",
    "maxplayer_cost = ipldata['COST IN ₹ (CR.)'].max()\n",
    "maxplayer_cost \n",
    "\n",
    "player_name = ipldata.loc[(ipldata['COST IN ₹ (CR.)'] == maxplayer_cost),\"Player_Name\"]\n",
    "print('player:::',player_name)\n",
    "\n",
    "print(\"The most costliest player is\",player_name,\"with a cost of\",maxplayer_cost,\"crores.\")"
   ]
  },
  {
   "cell_type": "code",
   "execution_count": 22,
   "id": "cf3ae5e3",
   "metadata": {},
   "outputs": [
    {
     "name": "stdout",
     "output_type": "stream",
     "text": [
      "The number of cheaply bought players number is 56\n",
      "The most cheapest buys are             Player_Name  COST IN ₹ (CR.)\n",
      "6           Urvil Patel              0.2\n",
      "29        Bhagath Varma              0.2\n",
      "30          Ajay Mandal              0.2\n",
      "31        Shaik Rasheed              0.2\n",
      "81   Kulwant Khejroliya              0.2\n",
      "82        Suyash Sharma              0.2\n",
      "100        Mohit Rathee              0.2\n",
      "101   Vidwath Kaverappa              0.2\n",
      "102        Shivam Singh              0.2\n",
      "126       Swapnil Singh              0.2\n",
      "127      Yudhvir Charak              0.2\n",
      "128       Prerak Mankad              0.2\n",
      "147        Raghav Goyal              0.2\n",
      "148        Shams Mulani              0.2\n",
      "149       Nehal Wadhera              0.2\n",
      "150        Vishnu Vinod              0.2\n",
      "151         Duan Jansen              0.2\n",
      "172      Manoj Bhandage              0.2\n",
      "173          Sonu Yadav              0.2\n",
      "174     Himanshu Sharma              0.2\n",
      "198       Kunal Rathore              0.2\n",
      "199           Abdul P A              0.2\n",
      "200      Akash Vashisht              0.2\n",
      "201      Murugan Ashwin              0.2\n",
      "227  Nitish Kumar Reddy              0.2\n",
      "228        Samarth Vyas              0.2\n",
      "229    Anmolpreet Singh              0.2\n",
      "230        Sanvir Singh              0.2 with a cost of 0.2 crores.\n"
     ]
    }
   ],
   "source": [
    "#Analysis 2: Which players were the cheapest buys this season and which team bought them?\n",
    "#Fetched list of players where the cost not less than 0 \n",
    "minplayer_cost = ipldata.loc[ipldata['COST IN ₹ (CR.)'] != 0, 'COST IN ₹ (CR.)'].min()\n",
    "minplayer_cost\n",
    "\n",
    "player_name = ipldata.loc[(ipldata['COST IN ₹ (CR.)'] == minplayer_cost),[\"Player_Name\",\"COST IN ₹ (CR.)\"]]\n",
    "print('The number of cheaply bought players number is',player_name.size)\n",
    "print(\"The most cheapest buys are\",player_name,\"with a cost of\",minplayer_cost,\"crores.\")"
   ]
  },
  {
   "cell_type": "code",
   "execution_count": 20,
   "id": "77ab75e0",
   "metadata": {},
   "outputs": [
    {
     "name": "stdout",
     "output_type": "stream",
     "text": [
      "The number of cheaply bought players number is 326\n",
      "The most cheapest buys are                 Player_Name  COST IN ₹ (CR.)\n",
      "7             Rahul Tewatia              0.0\n",
      "8           Pradeep Sangwan              0.0\n",
      "9               Rashid Khan              0.0\n",
      "10           R. Sai Kishore              0.0\n",
      "11               Yash Dayal              0.0\n",
      "12               Noor Ahmad              0.0\n",
      "13          Wriddhiman Saha              0.0\n",
      "14            Vijay Shankar              0.0\n",
      "15             Shubman Gill              0.0\n",
      "16            Hardik Pandya              0.0\n",
      "17         B. Sai Sudharsan              0.0\n",
      "18           Alzarri Joseph              0.0\n",
      "19      Abhinav Sadarangani              0.0\n",
      "20         Darshan Nalkande              0.0\n",
      "21             David Miller              0.0\n",
      "22             Matthew Wade              0.0\n",
      "23             Jayant Yadav              0.0\n",
      "24           Mohammad Shami              0.0\n",
      "32          Ravindra Jadeja              0.0\n",
      "33   Rajvardhan Hangargekar              0.0\n",
      "34         Prashant Solanki              0.0\n",
      "35          Ruturaj Gaikwad              0.0\n",
      "36         Tushar Deshpande              0.0\n",
      "37         Mukesh Choudhary              0.0\n",
      "38      Subhranshu Senapati              0.0\n",
      "39          Simarjeet Singh              0.0\n",
      "40              Shivam Dube              0.0\n",
      "41      Matheesha Pathirana              0.0\n",
      "42             Devon Conway              0.0\n",
      "43            Deepak Chahar              0.0\n",
      "..                      ...              ...\n",
      "191           Glenn Maxwell              0.0\n",
      "192          Josh Hazlewood              0.0\n",
      "202            Sanju Samson              0.0\n",
      "203             Riyan Parag              0.0\n",
      "204               R. Ashwin              0.0\n",
      "205         Shimron Hetmyer              0.0\n",
      "206             Trent Boult              0.0\n",
      "207         Prasidh Krishna              0.0\n",
      "208        Yuzvendra Chahal              0.0\n",
      "209        Yashasvi Jaiswal              0.0\n",
      "210            K.C Cariappa              0.0\n",
      "211             Dhruv Jurel              0.0\n",
      "212        Devdutt Padikkal              0.0\n",
      "213             Jos Buttler              0.0\n",
      "214             Kuldeep Sen              0.0\n",
      "215           Navdeep Saini              0.0\n",
      "216            Kuldip Yadav              0.0\n",
      "217              Obed Mccoy              0.0\n",
      "231            Marco Jansen              0.0\n",
      "232          Rahul Tripathi              0.0\n",
      "233             Umran Malik              0.0\n",
      "234       Washington Sundar              0.0\n",
      "235            Kartik Tyagi              0.0\n",
      "236            T. Natarajan              0.0\n",
      "237        Fazalhaq Farooqi              0.0\n",
      "238             Abdul Samad              0.0\n",
      "239         Abhishek Sharma              0.0\n",
      "240           Aiden Markram              0.0\n",
      "241       Bhuvneshwar Kumar              0.0\n",
      "242          Glenn Phillips              0.0\n",
      "\n",
      "[163 rows x 2 columns] with a cost of 0.0 crores.\n"
     ]
    }
   ],
   "source": [
    "#Fetched list of players where the cost includes 0 as well\n",
    "minplayer_cost = ipldata['COST IN ₹ (CR.)'].min()\n",
    "minplayer_cost\n",
    "\n",
    "player_name = ipldata.loc[(ipldata['COST IN ₹ (CR.)'] == minplayer_cost),[\"Player_Name\",\"COST IN ₹ (CR.)\"]]\n",
    "print('The number of cheaply bought players number is',player_name.size)\n",
    "print(\"The most cheapest buys are\",player_name,\"with a cost of\",minplayer_cost,\"crores.\")"
   ]
  }
 ],
 "metadata": {
  "kernelspec": {
   "display_name": "base",
   "language": "python",
   "name": "python3"
  },
  "language_info": {
   "codemirror_mode": {
    "name": "ipython",
    "version": 3
   },
   "file_extension": ".py",
   "mimetype": "text/x-python",
   "name": "python",
   "nbconvert_exporter": "python",
   "pygments_lexer": "ipython3",
   "version": "3.6.5"
  }
 },
 "nbformat": 4,
 "nbformat_minor": 5
}
