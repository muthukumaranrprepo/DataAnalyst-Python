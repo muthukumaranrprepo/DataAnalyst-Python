{
 "cells": [
  {
   "cell_type": "code",
   "execution_count": 1,
   "id": "751fe041",
   "metadata": {},
   "outputs": [
    {
     "name": "stdout",
     "output_type": "stream",
     "text": [
      "<class 'pandas.core.frame.DataFrame'>\n",
      "RangeIndex: 568 entries, 0 to 567\n",
      "Data columns (total 8 columns):\n",
      "Unnamed: 0         568 non-null int64\n",
      "Player's List      568 non-null object\n",
      "Base Price         568 non-null object\n",
      "TYPE               568 non-null object\n",
      "COST IN ₹ (CR.)    243 non-null float64\n",
      "Cost IN $ (000)    243 non-null float64\n",
      "2022 Squad         230 non-null object\n",
      "Team               568 non-null object\n",
      "dtypes: float64(2), int64(1), object(5)\n",
      "memory usage: 35.6+ KB\n"
     ]
    }
   ],
   "source": [
    "#project 2 : IPL Data Analysis \n",
    "import pandas as pd \n",
    "url = 'https://github.com/muthukumaranrprepo/DataAnalyst-Python/blob/main/DataFiles/IPLsquad23.csv?raw=true'\n",
    "ipldata = pd.read_csv(url)\n",
    "ipldata.info()"
   ]
  },
  {
   "cell_type": "code",
   "execution_count": null,
   "id": "d00787e8",
   "metadata": {},
   "outputs": [],
   "source": []
  }
 ],
 "metadata": {
  "kernelspec": {
   "display_name": "base",
   "language": "python",
   "name": "python3"
  },
  "language_info": {
   "codemirror_mode": {
    "name": "ipython",
    "version": 3
   },
   "file_extension": ".py",
   "mimetype": "text/x-python",
   "name": "python",
   "nbconvert_exporter": "python",
   "pygments_lexer": "ipython3",
   "version": "3.6.5"
  }
 },
 "nbformat": 4,
 "nbformat_minor": 5
}
