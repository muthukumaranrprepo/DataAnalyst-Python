{
 "cells": [
  {
   "cell_type": "code",
   "execution_count": 1,
   "id": "751fe041",
   "metadata": {},
   "outputs": [
    {
     "name": "stdout",
     "output_type": "stream",
     "text": [
      "<class 'pandas.core.frame.DataFrame'>\n",
      "RangeIndex: 568 entries, 0 to 567\n",
      "Data columns (total 8 columns):\n",
      " #   Column           Non-Null Count  Dtype  \n",
      "---  ------           --------------  -----  \n",
      " 0   Unnamed: 0       568 non-null    int64  \n",
      " 1   Player's List    568 non-null    object \n",
      " 2   Base Price       568 non-null    object \n",
      " 3   TYPE             568 non-null    object \n",
      " 4   COST IN ₹ (CR.)  243 non-null    float64\n",
      " 5   Cost IN $ (000)  243 non-null    float64\n",
      " 6   2022 Squad       230 non-null    object \n",
      " 7   Team             568 non-null    object \n",
      "dtypes: float64(2), int64(1), object(5)\n",
      "memory usage: 35.6+ KB\n"
     ]
    }
   ],
   "source": [
    "#project 2 : IPL Data Analysis \n",
    "# created by Muthukumaran RP\n",
    "# Note this module is quiet interesting as the same requirement will be excuted using the pandas module and pandasai module\n",
    "# Number of issues faced during installations: python supported version is python3.11 \n",
    "# Libraries to be installed numpy, yaml, pandas, pandasai \n",
    "import pandas as pd \n",
    "from pandasai import SmartDataframe\n",
    "from pandasai.llm.openai import OpenAI\n",
    "url = 'https://github.com/muthukumaranrprepo/DataAnalyst-Python/blob/main/DataFiles/IPLsquad23.csv?raw=true'\n",
    "ipldata = pd.read_csv(url)\n",
    "ipldata.info()"
   ]
  },
  {
   "cell_type": "code",
   "execution_count": 2,
   "id": "d00787e8",
   "metadata": {},
   "outputs": [],
   "source": [
    "#project :: IPL Data Analysis \n",
    "#----------------------------\n",
    "# Import the DataSet\n",
    "#import pandas as pd\n",
    "#url = 'https://github.com/muthukumaranrprepo/DataAnalyst-Python/blob/main/DataFiles/IPLsquad23.csv?raw=true'\n",
    "#ipldata = pd.read_csv(url)\n",
    "#ipldata.info()"
   ]
  },
  {
   "cell_type": "code",
   "execution_count": 3,
   "id": "e9ba14f3",
   "metadata": {},
   "outputs": [
    {
     "data": {
      "text/html": [
       "<div>\n",
       "<style scoped>\n",
       "    .dataframe tbody tr th:only-of-type {\n",
       "        vertical-align: middle;\n",
       "    }\n",
       "\n",
       "    .dataframe tbody tr th {\n",
       "        vertical-align: top;\n",
       "    }\n",
       "\n",
       "    .dataframe thead th {\n",
       "        text-align: right;\n",
       "    }\n",
       "</style>\n",
       "<table border=\"1\" class=\"dataframe\">\n",
       "  <thead>\n",
       "    <tr style=\"text-align: right;\">\n",
       "      <th></th>\n",
       "      <th>Base Price</th>\n",
       "      <th>TYPE</th>\n",
       "      <th>COST_IN_CR_INR</th>\n",
       "      <th>Cost IN USD</th>\n",
       "      <th>2022 Squad</th>\n",
       "      <th>Team</th>\n",
       "    </tr>\n",
       "    <tr>\n",
       "      <th>Player_Name</th>\n",
       "      <th></th>\n",
       "      <th></th>\n",
       "      <th></th>\n",
       "      <th></th>\n",
       "      <th></th>\n",
       "      <th></th>\n",
       "    </tr>\n",
       "  </thead>\n",
       "  <tbody>\n",
       "    <tr>\n",
       "      <th>Shivam Mavi</th>\n",
       "      <td>4000000</td>\n",
       "      <td>BOWLER</td>\n",
       "      <td>6.0</td>\n",
       "      <td>720.0</td>\n",
       "      <td>KKR</td>\n",
       "      <td>Gujarat Titans</td>\n",
       "    </tr>\n",
       "    <tr>\n",
       "      <th>Joshua Little</th>\n",
       "      <td>5000000</td>\n",
       "      <td>BOWLER</td>\n",
       "      <td>4.4</td>\n",
       "      <td>528.0</td>\n",
       "      <td>NaN</td>\n",
       "      <td>Gujarat Titans</td>\n",
       "    </tr>\n",
       "    <tr>\n",
       "      <th>Kane Williamson</th>\n",
       "      <td>20000000</td>\n",
       "      <td>BATSMAN</td>\n",
       "      <td>2.0</td>\n",
       "      <td>240.0</td>\n",
       "      <td>SRH</td>\n",
       "      <td>Gujarat Titans</td>\n",
       "    </tr>\n",
       "    <tr>\n",
       "      <th>K.S. Bharat</th>\n",
       "      <td>2000000</td>\n",
       "      <td>WICKETKEEPER</td>\n",
       "      <td>1.2</td>\n",
       "      <td>144.0</td>\n",
       "      <td>DC</td>\n",
       "      <td>Gujarat Titans</td>\n",
       "    </tr>\n",
       "    <tr>\n",
       "      <th>Mohit Sharma</th>\n",
       "      <td>5000000</td>\n",
       "      <td>BOWLER</td>\n",
       "      <td>0.5</td>\n",
       "      <td>60.0</td>\n",
       "      <td>NaN</td>\n",
       "      <td>Gujarat Titans</td>\n",
       "    </tr>\n",
       "  </tbody>\n",
       "</table>\n",
       "</div>"
      ],
      "text/plain": [
       "                Base Price          TYPE  COST_IN_CR_INR  Cost IN USD  \\\n",
       "Player_Name                                                             \n",
       "Shivam Mavi        4000000        BOWLER             6.0        720.0   \n",
       "Joshua Little      5000000        BOWLER             4.4        528.0   \n",
       "Kane Williamson   20000000       BATSMAN             2.0        240.0   \n",
       "K.S. Bharat        2000000  WICKETKEEPER             1.2        144.0   \n",
       "Mohit Sharma       5000000        BOWLER             0.5         60.0   \n",
       "\n",
       "                2022 Squad            Team  \n",
       "Player_Name                                 \n",
       "Shivam Mavi            KKR  Gujarat Titans  \n",
       "Joshua Little          NaN  Gujarat Titans  \n",
       "Kane Williamson        SRH  Gujarat Titans  \n",
       "K.S. Bharat             DC  Gujarat Titans  \n",
       "Mohit Sharma           NaN  Gujarat Titans  "
      ]
     },
     "execution_count": 3,
     "metadata": {},
     "output_type": "execute_result"
    }
   ],
   "source": [
    "#First step is to clean the data set\n",
    "\n",
    "#ipldata_drop = ipldata.drop(columns=['Unnamed: 0'])\n",
    "if 'Unnamed: 0' in ipldata.columns:\n",
    "    ipldata = ipldata.drop(columns=['Unnamed: 0'])  # \n",
    "# Rename the columns to make them more readable\n",
    "ipldata = ipldata.rename(columns={\"Player's List\" : \"Player_Name\", \n",
    "                                 \"COST IN ₹ (CR.)\": \"COST_IN_CR_INR\",\n",
    "                                 \"Cost IN $ (000)\" : \"Cost IN USD\"})\n",
    "#set playe name as index\n",
    "ipldata = ipldata.set_index('Player_Name')\n",
    "\n",
    "ipldata.head()"
   ]
  },
  {
   "cell_type": "code",
   "execution_count": 4,
   "id": "ee0a19d5",
   "metadata": {},
   "outputs": [
    {
     "name": "stdout",
     "output_type": "stream",
     "text": [
      "The most costliest player is             Base Price         TYPE  COST_IN_CR_INR  Cost IN USD 2022 Squad  \\\n",
      "Player_Name                                                                   \n",
      "Sam Curran    20000000  ALL-ROUNDER            18.5       2220.0        NaN   \n",
      "\n",
      "                           Team  \n",
      "Player_Name                      \n",
      "Sam Curran   Punjab Super Kings   with a cost of 18.5 crores.\n"
     ]
    }
   ],
   "source": [
    "#Analysis 1: Which players are the most costliest buys?\n",
    "\n",
    "maxplayer_cost = ipldata['COST_IN_CR_INR'].max()\n",
    "#maxplayer_cost \n",
    "\n",
    "player_name = ipldata.loc[(ipldata['COST_IN_CR_INR'] == maxplayer_cost)]\n",
    "#print('player:::',player_name)\n",
    "\n",
    "print(\"The most costliest player is\",player_name,\"with a cost of\",maxplayer_cost,\"crores.\")"
   ]
  },
  {
   "cell_type": "code",
   "execution_count": 5,
   "id": "cf3ae5e3",
   "metadata": {},
   "outputs": [
    {
     "name": "stdout",
     "output_type": "stream",
     "text": [
      "The number of cheaply bought players number is 28\n",
      "The most cheapest buys are                     COST_IN_CR_INR\n",
      "Player_Name                       \n",
      "Urvil Patel                    0.2\n",
      "Bhagath Varma                  0.2\n",
      "Ajay Mandal                    0.2\n",
      "Shaik Rasheed                  0.2\n",
      "Kulwant Khejroliya             0.2\n",
      "Suyash Sharma                  0.2\n",
      "Mohit Rathee                   0.2\n",
      "Vidwath Kaverappa              0.2\n",
      "Shivam Singh                   0.2\n",
      "Swapnil Singh                  0.2\n",
      "Yudhvir Charak                 0.2\n",
      "Prerak Mankad                  0.2\n",
      "Raghav Goyal                   0.2\n",
      "Shams Mulani                   0.2\n",
      "Nehal Wadhera                  0.2\n",
      "Vishnu Vinod                   0.2\n",
      "Duan Jansen                    0.2\n",
      "Manoj Bhandage                 0.2\n",
      "Sonu Yadav                     0.2\n",
      "Himanshu Sharma                0.2\n",
      "Kunal Rathore                  0.2\n",
      "Abdul P A                      0.2\n",
      "Akash Vashisht                 0.2\n",
      "Murugan Ashwin                 0.2\n",
      "Nitish Kumar Reddy             0.2\n",
      "Samarth Vyas                   0.2\n",
      "Anmolpreet Singh               0.2\n",
      "Sanvir Singh                   0.2 with a cost of 0.2 crores.\n"
     ]
    }
   ],
   "source": [
    "#Analysis 2: Which players were the cheapest buys this season and which team bought them?\n",
    "#Fetched list of players where the cost not less than 0 \n",
    "minplayer_cost = ipldata.loc[ipldata['COST_IN_CR_INR'] != 0, 'COST_IN_CR_INR'].min()\n",
    "minplayer_cost\n",
    "\n",
    "#player_name = ipldata.loc[(ipldata['COST_IN_CR_INR'] == minplayer_cost),[\"Player_Name\",\"COST_IN_CR_INR\"]]\n",
    "player_name = ipldata.loc[(ipldata['COST_IN_CR_INR'] == minplayer_cost),[\"COST_IN_CR_INR\"]]\n",
    "print('The number of cheaply bought players number is',player_name.size)\n",
    "print(\"The most cheapest buys are\",player_name,\"with a cost of\",minplayer_cost,\"crores.\")"
   ]
  },
  {
   "cell_type": "code",
   "execution_count": 6,
   "id": "77ab75e0",
   "metadata": {},
   "outputs": [
    {
     "name": "stdout",
     "output_type": "stream",
     "text": [
      "The number of cheaply bought players number is 163\n",
      "The most cheapest buys are                    COST_IN_CR_INR\n",
      "Player_Name                      \n",
      "Rahul Tewatia                 0.0\n",
      "Pradeep Sangwan               0.0\n",
      "Rashid Khan                   0.0\n",
      "R. Sai Kishore                0.0\n",
      "Yash Dayal                    0.0\n",
      "...                           ...\n",
      "Abdul Samad                   0.0\n",
      "Abhishek Sharma               0.0\n",
      "Aiden Markram                 0.0\n",
      "Bhuvneshwar Kumar             0.0\n",
      "Glenn Phillips                0.0\n",
      "\n",
      "[163 rows x 1 columns] with a cost of 0.0 crores.\n"
     ]
    }
   ],
   "source": [
    "#Fetched list of players where the cost includes 0 as well\n",
    "minplayer_cost = ipldata['COST_IN_CR_INR'].min()\n",
    "minplayer_cost\n",
    "\n",
    "#player_name = ipldata.loc[(ipldata['COST_IN_CR_INR'] == minplayer_cost),[\"Player_Name\",\"COST_IN_CR_INR\"]]\n",
    "player_name = ipldata.loc[(ipldata['COST_IN_CR_INR'] == minplayer_cost),[\"COST_IN_CR_INR\"]]\n",
    "print('The number of cheaply bought players number is',player_name.size)\n",
    "print(\"The most cheapest buys are\",player_name,\"with a cost of\",minplayer_cost,\"crores.\")"
   ]
  },
  {
   "cell_type": "code",
   "execution_count": 7,
   "id": "d6326537",
   "metadata": {},
   "outputs": [
    {
     "name": "stderr",
     "output_type": "stream",
     "text": [
      "C:\\Users\\hp\\AppData\\Local\\Temp\\ipykernel_11296\\2111404417.py:6: FutureWarning: \n",
      "\n",
      "The `ci` parameter is deprecated. Use `errorbar=None` for the same effect.\n",
      "\n",
      "  sns.barplot(x='COST_IN_CR_INR',y='Team',data=ipldata,ci=None)\n"
     ]
    },
    {
     "data": {
      "text/plain": [
       "<Axes: xlabel='COST_IN_CR_INR', ylabel='Team'>"
      ]
     },
     "execution_count": 7,
     "metadata": {},
     "output_type": "execute_result"
    },
    {
     "data": {
      "image/png": "[encoded data removed]",
      "text/plain": [
       "<Figure size 1200x600 with 1 Axes>"
      ]
     },
     "metadata": {},
     "output_type": "display_data"
    }
   ],
   "source": [
    "#Analysis 3:Draw a Bargraph showing How much money was spent by each team this season overall.\n",
    "\n",
    "import matplotlib.pyplot as plt\n",
    "import seaborn as sns\n",
    "plt.figure(figsize=(12, 6))\n",
    "sns.barplot(x='COST_IN_CR_INR',y='Team',data=ipldata,ci=None)"
   ]
  },
  {
   "cell_type": "code",
   "execution_count": 8,
   "id": "8c03fbb8",
   "metadata": {},
   "outputs": [
    {
     "name": "stdout",
     "output_type": "stream",
     "text": [
      "The list of Players and base price who went UNSOLD \n",
      "                Base Price\n",
      "Player_Name               \n",
      "Chris Jordan      20000000\n",
      "Adam Milne        20000000\n",
      "Mujeeb Rahman     10000000\n",
      "Tabraiz Shamsi    10000000\n",
      "Lance Morris       3000000\n",
      "...                    ...\n",
      "Trilok Nag         2000000\n",
      "Atal Bihari Rai    2000000\n",
      "Ramon Simmonds     2000000\n",
      "Rajeev Singh       2000000\n",
      "Mohd. Wasim        2000000\n",
      "\n",
      "[104 rows x 1 columns]\n"
     ]
    }
   ],
   "source": [
    "#Analysis 4:How many bowler remained unsold and what was their base price?\n",
    "\n",
    "bowler_type = ipldata['TYPE'] == 'BOWLER'\n",
    "bowler_team = ipldata['Team'] == 'Unsold'\n",
    "bowler_unsold=ipldata.loc[(bowler_type & bowler_team),[\"Base Price\"]]\n",
    "print('The list of Players and base price who went UNSOLD ')\n",
    "print(bowler_unsold)"
   ]
  },
  {
   "cell_type": "code",
   "execution_count": 14,
   "id": "49b7c69b",
   "metadata": {},
   "outputs": [
    {
     "name": "stdout",
     "output_type": "stream",
     "text": [
      "The number of players who went UNSOLD this season is: 325\n"
     ]
    }
   ],
   "source": [
    "#Analysis 5:How many players remained unsold this season?\n",
    "unsold_player = ipldata[ipldata['Team'] == 'Unsold']\n",
    "print('The number of players who went UNSOLD this season is:',unsold_player.index.size)"
   ]
  }
 ],
 "metadata": {
  "kernelspec": {
   "display_name": "Python 3",
   "language": "python",
   "name": "python3"
  },
  "language_info": {
   "codemirror_mode": {
    "name": "ipython",
    "version": 3
   },
   "file_extension": ".py",
   "mimetype": "text/x-python",
   "name": "python",
   "nbconvert_exporter": "python",
   "pygments_lexer": "ipython3",
   "version": "3.11.0"
  }
 },
 "nbformat": 4,
 "nbformat_minor": 5
}
