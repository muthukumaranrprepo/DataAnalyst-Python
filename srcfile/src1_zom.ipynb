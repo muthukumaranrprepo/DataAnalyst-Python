{
 "cells": [
  {
   "cell_type": "code",
   "execution_count": 43,
   "id": "8afe6727",
   "metadata": {},
   "outputs": [],
   "source": [
    "#Project 1 :: zomato Data Analysis using python\n",
    "#----------------------------------------------\n",
    "#Req Analysis 1 : Do more restaurants provide online delivery compared to offline services?\n",
    "#Req Analysis 2 : Which types of restaurants are most favored by the general public?\n",
    "#Req Analysis 3 : What price range do couples prefer for dining out?\n",
    "#created by :: Muthu"
   ]
  },
  {
   "cell_type": "code",
   "execution_count": 44,
   "id": "f6e0f969",
   "metadata": {},
   "outputs": [
    {
     "name": "stdout",
     "output_type": "stream",
     "text": [
      "<class 'pandas.core.frame.DataFrame'>\n",
      "RangeIndex: 148 entries, 0 to 147\n",
      "Data columns (total 7 columns):\n",
      "name                           148 non-null object\n",
      "online_order                   148 non-null object\n",
      "book_table                     148 non-null object\n",
      "rate                           148 non-null object\n",
      "votes                          148 non-null int64\n",
      "approx_cost(for two people)    148 non-null int64\n",
      "listed_in(type)                148 non-null object\n",
      "dtypes: int64(2), object(5)\n",
      "memory usage: 8.2+ KB\n"
     ]
    }
   ],
   "source": [
    "#importing the DS from github repo \n",
    "\n",
    "import pandas as pd \n",
    "import matplotlib.pyplot as plt\n",
    "import seaborn as sns\n",
    "url = 'https://github.com/muthukumaranrprepo/DataAnalyst-Python/blob/main/DataFiles/Zomato_data.csv?raw=true'\n",
    "zomatodf = pd.read_csv(url)\n",
    "\n",
    "#zomatodf = pd.read_csv(r'C:\\Users\\muthu\\OneDrive\\Documents\\GitHub\\DataAnalyst-Python\\DataFiles\\Zomato_data.csv')\n",
    "zomatodf.info()"
   ]
  },
  {
   "cell_type": "code",
   "execution_count": 45,
   "id": "990adbd2",
   "metadata": {},
   "outputs": [],
   "source": [
    "#check if any nans value found \n",
    "is_zomato_null = zomatodf.isnull().values.any()"
   ]
  },
  {
   "cell_type": "code",
   "execution_count": 46,
   "id": "82dc4bd5",
   "metadata": {},
   "outputs": [
    {
     "data": {
      "text/html": [
       "<div>\n",
       "<style scoped>\n",
       "    .dataframe tbody tr th:only-of-type {\n",
       "        vertical-align: middle;\n",
       "    }\n",
       "\n",
       "    .dataframe tbody tr th {\n",
       "        vertical-align: top;\n",
       "    }\n",
       "\n",
       "    .dataframe thead th {\n",
       "        text-align: right;\n",
       "    }\n",
       "</style>\n",
       "<table border=\"1\" class=\"dataframe\">\n",
       "  <thead>\n",
       "    <tr style=\"text-align: right;\">\n",
       "      <th></th>\n",
       "      <th>name</th>\n",
       "      <th>online_order</th>\n",
       "      <th>book_table</th>\n",
       "      <th>rate</th>\n",
       "      <th>votes</th>\n",
       "      <th>approx_cost(for two people)</th>\n",
       "      <th>listed_in(type)</th>\n",
       "    </tr>\n",
       "  </thead>\n",
       "  <tbody>\n",
       "    <tr>\n",
       "      <th>0</th>\n",
       "      <td>Jalsa</td>\n",
       "      <td>Yes</td>\n",
       "      <td>Yes</td>\n",
       "      <td>4.1/5</td>\n",
       "      <td>775</td>\n",
       "      <td>800</td>\n",
       "      <td>Buffet</td>\n",
       "    </tr>\n",
       "    <tr>\n",
       "      <th>1</th>\n",
       "      <td>Spice Elephant</td>\n",
       "      <td>Yes</td>\n",
       "      <td>No</td>\n",
       "      <td>4.1/5</td>\n",
       "      <td>787</td>\n",
       "      <td>800</td>\n",
       "      <td>Buffet</td>\n",
       "    </tr>\n",
       "    <tr>\n",
       "      <th>2</th>\n",
       "      <td>San Churro Cafe</td>\n",
       "      <td>Yes</td>\n",
       "      <td>No</td>\n",
       "      <td>3.8/5</td>\n",
       "      <td>918</td>\n",
       "      <td>800</td>\n",
       "      <td>Buffet</td>\n",
       "    </tr>\n",
       "    <tr>\n",
       "      <th>3</th>\n",
       "      <td>Addhuri Udupi Bhojana</td>\n",
       "      <td>No</td>\n",
       "      <td>No</td>\n",
       "      <td>3.7/5</td>\n",
       "      <td>88</td>\n",
       "      <td>300</td>\n",
       "      <td>Buffet</td>\n",
       "    </tr>\n",
       "    <tr>\n",
       "      <th>4</th>\n",
       "      <td>Grand Village</td>\n",
       "      <td>No</td>\n",
       "      <td>No</td>\n",
       "      <td>3.8/5</td>\n",
       "      <td>166</td>\n",
       "      <td>600</td>\n",
       "      <td>Buffet</td>\n",
       "    </tr>\n",
       "  </tbody>\n",
       "</table>\n",
       "</div>"
      ],
      "text/plain": [
       "                    name online_order book_table   rate  votes  \\\n",
       "0                  Jalsa          Yes        Yes  4.1/5    775   \n",
       "1         Spice Elephant          Yes         No  4.1/5    787   \n",
       "2        San Churro Cafe          Yes         No  3.8/5    918   \n",
       "3  Addhuri Udupi Bhojana           No         No  3.7/5     88   \n",
       "4          Grand Village           No         No  3.8/5    166   \n",
       "\n",
       "   approx_cost(for two people) listed_in(type)  \n",
       "0                          800          Buffet  \n",
       "1                          800          Buffet  \n",
       "2                          800          Buffet  \n",
       "3                          300          Buffet  \n",
       "4                          600          Buffet  "
      ]
     },
     "execution_count": 46,
     "metadata": {},
     "output_type": "execute_result"
    }
   ],
   "source": [
    "#check the sample data \n",
    "zomatodf.head()"
   ]
  },
  {
   "cell_type": "code",
   "execution_count": 47,
   "id": "50aac3b9",
   "metadata": {},
   "outputs": [
    {
     "data": {
      "text/plain": [
       "<matplotlib.axes._subplots.AxesSubplot at 0x1c8ed9aee48>"
      ]
     },
     "execution_count": 47,
     "metadata": {},
     "output_type": "execute_result"
    },
    {
     "data": {
      "image/png": "[encoded data removed]",
      "text/plain": [
       "<Figure size 432x288 with 1 Axes>"
      ]
     },
     "metadata": {},
     "output_type": "display_data"
    }
   ],
   "source": [
    "#Req Analysis 1 :: Do more restaurants provide online delivery compared to offline services?\n",
    "#plot using the matplotlib \n",
    "\n",
    "zomatodf['online_order'].value_counts().plot(kind=\"pie\",legend=True)\n",
    "\n",
    "\n"
   ]
  },
  {
   "cell_type": "code",
   "execution_count": 48,
   "id": "357efe96",
   "metadata": {},
   "outputs": [
    {
     "data": {
      "text/plain": [
       "<matplotlib.axes._subplots.AxesSubplot at 0x1c8ed9eae80>"
      ]
     },
     "execution_count": 48,
     "metadata": {},
     "output_type": "execute_result"
    },
    {
     "data": {
      "image/png": "[encoded data removed]",
      "text/plain": [
       "<Figure size 432x288 with 1 Axes>"
      ]
     },
     "metadata": {},
     "output_type": "display_data"
    }
   ],
   "source": [
    "#plot the online order - Yes or no using seaborn\n",
    "\n",
    "sns.countplot(x=zomatodf['online_order'])"
   ]
  },
  {
   "cell_type": "code",
   "execution_count": 49,
   "id": "74d779da",
   "metadata": {},
   "outputs": [
    {
     "data": {
      "text/plain": [
       "array(['Buffet', 'Cafes', 'other', 'Dining'], dtype=object)"
      ]
     },
     "execution_count": 49,
     "metadata": {},
     "output_type": "execute_result"
    }
   ],
   "source": [
    "#Req Analysis 2 : Which types of restaurants are most favored by the general public?\n",
    "\n",
    "#validating the unique values to plot the graph\n",
    "zomatodf['listed_in(type)'].unique()"
   ]
  },
  {
   "cell_type": "code",
   "execution_count": 50,
   "id": "31d02ca3",
   "metadata": {},
   "outputs": [
    {
     "data": {
      "text/plain": [
       "<matplotlib.axes._subplots.AxesSubplot at 0x1c8eda2d710>"
      ]
     },
     "execution_count": 50,
     "metadata": {},
     "output_type": "execute_result"
    },
    {
     "data": {
      "image/png": "[encoded data removed]",
      "text/plain": [
       "<Figure size 432x288 with 1 Axes>"
      ]
     },
     "metadata": {},
     "output_type": "display_data"
    }
   ],
   "source": [
    "#plot the bar graph using matplotlib\n",
    "\n",
    "zomatodf['listed_in(type)'].value_counts().plot(kind=\"bar\",legend=True)"
   ]
  },
  {
   "cell_type": "code",
   "execution_count": 51,
   "id": "e791f93e",
   "metadata": {},
   "outputs": [
    {
     "data": {
      "text/plain": [
       "Text(0.5,0,'Type Of Restaurant')"
      ]
     },
     "execution_count": 51,
     "metadata": {},
     "output_type": "execute_result"
    },
    {
     "data": {
      "image/png": "[encoded data removed]",
      "text/plain": [
       "<Figure size 432x288 with 1 Axes>"
      ]
     },
     "metadata": {},
     "output_type": "display_data"
    }
   ],
   "source": [
    "#plotting the same requirement using the seaborn\n",
    "\n",
    "sns.countplot(x=zomatodf['listed_in(type)'])\n",
    "plt.xlabel('Type Of Restaurant')"
   ]
  },
  {
   "cell_type": "code",
   "execution_count": 52,
   "id": "10298eb2",
   "metadata": {},
   "outputs": [
    {
     "data": {
      "text/plain": [
       "Text(0.5,0,'Appoximate Cost for 2 people')"
      ]
     },
     "execution_count": 52,
     "metadata": {},
     "output_type": "execute_result"
    },
    {
     "data": {
      "image/png": "[encoded data removed]",
      "text/plain": [
       "<Figure size 432x288 with 1 Axes>"
      ]
     },
     "metadata": {},
     "output_type": "display_data"
    }
   ],
   "source": [
    "#Req Analysis 3 : What price range do couples prefer for dining out?\n",
    "\n",
    "sns.countplot(x=zomatodf['approx_cost(for two people)'])\n",
    "plt.xlabel('Appoximate Cost for 2 people')\n"
   ]
  },
  {
   "cell_type": "code",
   "execution_count": 53,
   "id": "e2c281df",
   "metadata": {},
   "outputs": [
    {
     "data": {
      "text/plain": [
       "Text(0,0.5,'Number of Votes')"
      ]
     },
     "execution_count": 53,
     "metadata": {},
     "output_type": "execute_result"
    },
    {
     "data": {
      "image/png": "[encoded data removed]",
      "text/plain": [
       "<Figure size 432x288 with 1 Axes>"
      ]
     },
     "metadata": {},
     "output_type": "display_data"
    }
   ],
   "source": [
    "#Req Analysis 4: Find the Number of Votes obtained for each Restaurant Type\n",
    "\n",
    "grouped_data = zomatodf.groupby('listed_in(type)')['votes'].sum()\n",
    "\n",
    "#convert the grouped data (series) to DataFrame \n",
    "result = pd.DataFrame({'votes':grouped_data})\n",
    "result\n",
    "\n",
    "plt.plot(result, c='green' , marker='o')\n",
    "plt.xlabel('Type Of Restaurant')\n",
    "plt.ylabel('Number of Votes')"
   ]
  },
  {
   "cell_type": "code",
   "execution_count": 54,
   "id": "243172f3",
   "metadata": {},
   "outputs": [
    {
     "name": "stdout",
     "output_type": "stream",
     "text": [
      "Restaurant with Max No of Votes is: 38    Empire Restaurant\n",
      "Name: name, dtype: object\n"
     ]
    }
   ],
   "source": [
    "#Req Analysis 5 : Find the most voted restaurant: \n",
    "#Find max votes\n",
    "max_votes = zomatodf['votes'].max()\n",
    "#Fetch the name of restaurant for the row matching the vote\n",
    "res_name = zomatodf.loc[zomatodf['votes'] == max_votes,'name']\n",
    "\n",
    "print('Restaurant with Max No of Votes is:',res_name)"
   ]
  },
  {
   "cell_type": "code",
   "execution_count": 55,
   "id": "900bfdbd",
   "metadata": {},
   "outputs": [
    {
     "data": {
      "image/png": "[encoded data removed]",
      "text/plain": [
       "<Figure size 432x288 with 1 Axes>"
      ]
     },
     "metadata": {},
     "output_type": "display_data"
    }
   ],
   "source": [
    "#Req Analysis 6 : Analyze ratings of the restaurant \n",
    "\n",
    "#function to cleanup the data of the rate column from 4.1/5 to 4.1\n",
    "def checkrate(value) :\n",
    "    value = str(value).strip('/')\n",
    "    value = value[0];\n",
    "\n",
    "    return float(value)\n",
    "\n",
    "#copy the dataframe instead of updating the original dataframe\n",
    "zomatorate = zomatodf.copy()\n",
    "zomatorate['rate'] = zomatorate['rate'].apply(checkrate)\n",
    "\n",
    "plt.hist(zomatorate['rate'],bins=3)\n",
    "plt.show()\n"
   ]
  },
  {
   "cell_type": "code",
   "execution_count": 56,
   "id": "78fbe85d",
   "metadata": {},
   "outputs": [
    {
     "data": {
      "text/plain": [
       "<matplotlib.axes._subplots.AxesSubplot at 0x1c8eda2d668>"
      ]
     },
     "execution_count": 56,
     "metadata": {},
     "output_type": "execute_result"
    },
    {
     "data": {
      "image/png": "[encoded data removed]",
      "text/plain": [
       "<Figure size 432x432 with 1 Axes>"
      ]
     },
     "metadata": {},
     "output_type": "display_data"
    }
   ],
   "source": [
    "#Req Analysis 7 : Compare Ratings of online vs offline order \n",
    "plt.figure(figsize=(6,6))\n",
    "sns.boxplot(x='online_order', y='rate',data=zomatorate)"
   ]
  },
  {
   "cell_type": "code",
   "execution_count": 58,
   "id": "ae126ff9",
   "metadata": {},
   "outputs": [
    {
     "name": "stdout",
     "output_type": "stream",
     "text": [
      "Pivot Table for Order Mode Preference:\n",
      "online_order     No  Yes\n",
      "listed_in(type)         \n",
      "Buffet            3    4\n",
      "Cafes             8   15\n",
      "Dining           77   33\n",
      "other             2    6\n"
     ]
    },
    {
     "data": {
      "text/plain": [
       "<matplotlib.axes._subplots.AxesSubplot at 0x1c8edc3b898>"
      ]
     },
     "execution_count": 58,
     "metadata": {},
     "output_type": "execute_result"
    },
    {
     "data": {
      "image/png": "[encoded data removed]",
      "text/plain": [
       "<Figure size 432x288 with 2 Axes>"
      ]
     },
     "metadata": {},
     "output_type": "display_data"
    }
   ],
   "source": [
    "#Req Analysis 8 : comare the order mode preference based on the type of restaurant\n",
    "\n",
    "zomatodf_pivot = zomatodf.pivot_table(index='listed_in(type)', columns='online_order', values='rate', aggfunc='size')\n",
    "print('Pivot Table for Order Mode Preference:')\n",
    "print(zomatodf_pivot)\n",
    "sns.heatmap(zomatodf_pivot, annot=True, fmt='d', cmap='YlGnBu')"
   ]
  },
  {
   "cell_type": "code",
   "execution_count": 59,
   "id": "7002035d",
   "metadata": {},
   "outputs": [
    {
     "data": {
      "text/plain": [
       "<matplotlib.axes._subplots.AxesSubplot at 0x1c8edcae080>"
      ]
     },
     "execution_count": 59,
     "metadata": {},
     "output_type": "execute_result"
    },
    {
     "data": {
      "image/png": "[encoded data removed]",
      "text/plain": [
       "<Figure size 432x288 with 2 Axes>"
      ]
     },
     "metadata": {},
     "output_type": "display_data"
    }
   ],
   "source": [
    "sns.heatmap(zomatodf_pivot)"
   ]
  }
 ],
 "metadata": {
  "kernelspec": {
   "display_name": "base",
   "language": "python",
   "name": "python3"
  },
  "language_info": {
   "codemirror_mode": {
    "name": "ipython",
    "version": 3
   },
   "file_extension": ".py",
   "mimetype": "text/x-python",
   "name": "python",
   "nbconvert_exporter": "python",
   "pygments_lexer": "ipython3",
   "version": "3.6.5"
  }
 },
 "nbformat": 4,
 "nbformat_minor": 5
}
