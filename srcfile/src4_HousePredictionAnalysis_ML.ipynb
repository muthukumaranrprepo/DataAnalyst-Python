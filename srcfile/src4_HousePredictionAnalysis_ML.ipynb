{
 "cells": [
  {
   "cell_type": "code",
   "execution_count": null,
   "id": "ae1e7f3c",
   "metadata": {},
   "outputs": [],
   "source": [
    "#Project 4 ::  House Price Prediction using Machine Learning in Python\n",
    "#\n",
    "# Import the required DS - HousePricePrediction.xlsx from github location.\n",
    "# \n",
    "#  \n",
    "import pandas as pd\n",
    "\n",
    "houseprediction = pd.read_excel('DataFiles/HousePricePrediction.xlsx?raw=True')"
   ]
  }
 ],
 "metadata": {
  "language_info": {
   "name": "python"
  }
 },
 "nbformat": 4,
 "nbformat_minor": 5
}
